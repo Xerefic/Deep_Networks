{
 "cells": [
  {
   "cell_type": "code",
   "execution_count": 1,
   "metadata": {},
   "outputs": [],
   "source": [
    "import pickle as pkl\n",
    "import numpy as np\n",
    "import pandas as pd\n",
    "from PIL import Image\n",
    "\n",
    "import os, glob"
   ]
  },
  {
   "cell_type": "code",
   "execution_count": 2,
   "id": "333e4aed",
   "metadata": {},
   "outputs": [],
   "source": [
    "def unpickle(file):\n",
    "    with open(file, 'rb') as fo:\n",
    "        dict = pkl.load(fo, encoding='bytes')\n",
    "    return dict"
   ]
  },
  {
   "cell_type": "code",
   "execution_count": 24,
   "id": "e9120307",
   "metadata": {},
   "outputs": [],
   "source": [
    "files = glob.glob('./data*')\n",
    "\n",
    "train_file = []\n",
    "for file in files:\n",
    "    data = unpickle(file)\n",
    "    for index, item in enumerate(data[b'filenames']):\n",
    "        name = str(item, 'utf-8')\n",
    "        image = Image.fromarray(np.transpose(data[b'data'][index].reshape(3, 32, 32)), mode='RGB')\n",
    "        image.save(os.path.join('./train/', name))\n",
    "        label = data[b'labels'][index]\n",
    "        train_file.append({'Image': name, 'Label': label})\n",
    "train_file = pd.DataFrame(train_file)\n",
    "train_file.to_csv('./train_file.csv', index=False)"
   ]
  },
  {
   "cell_type": "code",
   "execution_count": null,
   "id": "6fc235f1",
   "metadata": {},
   "outputs": [],
   "source": [
    "test_file = []\n",
    "\n",
    "data = unpickle('./test_batch')\n",
    "for index, item in enumerate(data[b'filenames']):\n",
    "    name = str(item, 'utf-8')\n",
    "    image = Image.fromarray(np.transpose(data[b'data'][index].reshape(3, 32, 32)), mode='RGB')\n",
    "    image.save(os.path.join('./test/', name))\n",
    "    label = data[b'labels'][index]\n",
    "    test_file.append({'Image': name, 'Label': label})\n",
    "test_file = pd.DataFrame(test_file)\n",
    "test_file.to_csv('./test_file.csv', index=False)"
   ]
  },
  {
   "cell_type": "code",
   "execution_count": null,
   "id": "645634a7",
   "metadata": {},
   "outputs": [],
   "source": []
  }
 ],
 "metadata": {
  "kernelspec": {
   "display_name": "Python 3.8.13 ('torch-nightly')",
   "language": "python",
   "name": "python3"
  },
  "language_info": {
   "codemirror_mode": {
    "name": "ipython",
    "version": 3
   },
   "file_extension": ".py",
   "mimetype": "text/x-python",
   "name": "python",
   "nbconvert_exporter": "python",
   "pygments_lexer": "ipython3",
   "version": "3.8.13"
  },
  "vscode": {
   "interpreter": {
    "hash": "96f3b34ada46ee5e21a62afe05346301afc78e14b46989186e799e4b1d5dd107"
   }
  }
 },
 "nbformat": 4,
 "nbformat_minor": 5
}
