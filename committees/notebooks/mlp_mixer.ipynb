{
 "cells": [
  {
   "cell_type": "code",
   "execution_count": 1,
   "metadata": {},
   "outputs": [],
   "source": [
    "import torch\n",
    "import torch.nn as nn\n",
    "import torch.nn.functional as F\n",
    "import torch.optim as optim\n",
    "from torchvision.datasets import FashionMNIST\n",
    "\n",
    "import random\n",
    "import copy\n",
    "import tqdm\n",
    "import numpy as np\n",
    "import matplotlib.pyplot as plt\n",
    "\n",
    "def set_seed(seed):\n",
    "    torch.manual_seed(seed)\n",
    "    random.seed(seed)\n",
    "    np.random.seed(seed)"
   ]
  },
  {
   "cell_type": "code",
   "execution_count": 2,
   "metadata": {},
   "outputs": [],
   "source": [
    "class Args():\n",
    "    device = 'cpu'\n",
    "    # device = torch.device('mps' if torch.backends.mps.is_available() else 'cuda' if torch.cuda.is_available() else 'cpu')\n",
    "\n",
    "    input_size = 784\n",
    "    output_size = 10\n",
    "    hidden_dim = 1280\n",
    "    num_layers = 32\n",
    "    tokens_dim = 630\n",
    "    channels_dim = 5120\n",
    "    patch_size = 14\n",
    "\n",
    "    batch_size = 128\n",
    "    lr = 1e-2\n",
    "    weight_decay = 1e-5\n",
    "    max_epochs = 100"
   ]
  },
  {
   "cell_type": "code",
   "execution_count": 3,
   "metadata": {},
   "outputs": [],
   "source": [
    "train_data = FashionMNIST(root='./data', train=True, download=False)\n",
    "test_data = FashionMNIST(root='./data', train=False, download=False)\n",
    "\n",
    "X_train = train_data.data.unsqueeze(1).float().flatten(start_dim=1)/255\n",
    "X_test = test_data.data.unsqueeze(1).float().flatten(start_dim=1)/255\n",
    "\n",
    "y_train = train_data.targets.long()\n",
    "y_test = test_data.targets.long()\n",
    "\n",
    "train_data = torch.utils.data.TensorDataset(X_train, y_train)\n",
    "test_data = torch.utils.data.TensorDataset(X_test, y_test)"
   ]
  },
  {
   "cell_type": "code",
   "execution_count": 12,
   "metadata": {},
   "outputs": [],
   "source": [
    "class MixerBlock(nn.Module):\n",
    "\n",
    "    def __init__(self, input_size, hidden_dim, tokens_dim, channels_dim, args):\n",
    "        super().__init__()\n",
    "        self.args = args\n",
    "\n",
    "        self.layer_norm1 = nn.LayerNorm([hidden_dim, input_size])\n",
    "        self.linear1in = nn.Linear(hidden_dim, tokens_dim)\n",
    "        self.linear1out = nn.Linear(tokens_dim, hidden_dim)\n",
    "\n",
    "        self.layer_norm2 = nn.LayerNorm([hidden_dim, input_size])\n",
    "        self.linear2in = nn.Linear(input_size, channels_dim)\n",
    "        self.linear2out = nn.Linear(channels_dim, input_size)\n",
    "\n",
    "        self.gelu = nn.GELU()\n",
    "\n",
    "    def forward(self, x):\n",
    "        y = self.layer_norm1(x)\n",
    "        y = y.permute(0, 2, 1)\n",
    "        y = self.linear1in(y)\n",
    "        y = self.gelu(y)\n",
    "        y = self.linear1out(y)\n",
    "        y = y.permute(0, 2, 1)\n",
    "        x = x + y\n",
    "        \n",
    "        y = self.layer_norm2(x)\n",
    "        y = self.linear2in(y)\n",
    "        y = self.gelu(y)\n",
    "        y = self.linear2out(y)\n",
    "        x = x + y\n",
    "\n",
    "        return x\n",
    "\n",
    "class MixerMLP(nn.Module):\n",
    "\n",
    "    def __init__(self, input_size, output_size, patch_size, hidden_dim, num_layers, tokens_dim, channels_dim, args):\n",
    "        super().__init__()\n",
    "        self.args = args\n",
    "    \n",
    "        self.projector = nn.Conv2d(1, hidden_dim, kernel_size=patch_size, stride=patch_size)\n",
    "        self.blocks = nn.ModuleList([MixerBlock(input_size//(patch_size*patch_size), hidden_dim, tokens_dim, channels_dim, args) for _ in range(num_layers)])\n",
    "        self.layer_norm = nn.LayerNorm([hidden_dim, input_size//(patch_size*patch_size)])\n",
    "        self.pool = nn.AvgPool1d(kernel_size=input_size//(patch_size*patch_size))\n",
    "        self.head = nn.Linear(hidden_dim, output_size)\n",
    "\n",
    "    def forward(self, x):\n",
    "        x = self.projector(x)\n",
    "        x = x.flatten(start_dim=2)\n",
    "        for block in self.blocks:\n",
    "            x = block(x)\n",
    "        x = self.layer_norm(x)\n",
    "        x = self.pool(x).squeeze(2)\n",
    "        x = self.head(x)\n",
    "\n",
    "        return x\n"
   ]
  },
  {
   "cell_type": "code",
   "execution_count": 13,
   "metadata": {},
   "outputs": [
    {
     "name": "stdout",
     "output_type": "stream",
     "text": [
      "torch.Size([7, 1280, 4])\n",
      "torch.Size([7, 1280])\n"
     ]
    }
   ],
   "source": [
    "set_seed(0)\n",
    "args = Args()\n",
    "\n",
    "block = MixerBlock(args.input_size, args.hidden_dim, args.tokens_dim, args.channels_dim, args)\n",
    "model = MixerMLP(args.input_size, args.output_size, args.patch_size, args.hidden_dim, args.num_layers, args.tokens_dim, args.channels_dim, args)\n",
    "\n",
    "x = torch.rand(7, 1, 28, 28)\n",
    "y = model(x)"
   ]
  },
  {
   "cell_type": "code",
   "execution_count": null,
   "metadata": {},
   "outputs": [],
   "source": []
  }
 ],
 "metadata": {
  "kernelspec": {
   "display_name": "torch",
   "language": "python",
   "name": "python3"
  },
  "language_info": {
   "codemirror_mode": {
    "name": "ipython",
    "version": 3
   },
   "file_extension": ".py",
   "mimetype": "text/x-python",
   "name": "python",
   "nbconvert_exporter": "python",
   "pygments_lexer": "ipython3",
   "version": "3.8.17"
  }
 },
 "nbformat": 4,
 "nbformat_minor": 2
}
