{
 "cells": [
  {
   "cell_type": "code",
   "execution_count": 1,
   "metadata": {},
   "outputs": [],
   "source": [
    "import torch\n",
    "import torch.nn as nn\n",
    "import torch.nn.functional as F\n",
    "import torch.optim as optim\n",
    "from torchvision.datasets import FashionMNIST\n",
    "\n",
    "import random\n",
    "import copy\n",
    "import tqdm\n",
    "import numpy as np\n",
    "import matplotlib.pyplot as plt\n",
    "\n",
    "def set_seed(seed):\n",
    "    torch.manual_seed(seed)\n",
    "    random.seed(seed)\n",
    "    np.random.seed(seed)"
   ]
  },
  {
   "cell_type": "code",
   "execution_count": 2,
   "metadata": {},
   "outputs": [],
   "source": [
    "class Args():\n",
    "    device = 'cpu'\n",
    "    # device = torch.device('mps' if torch.backends.mps.is_available() else 'cuda' if torch.cuda.is_available() else 'cpu')\n",
    "\n",
    "    input_size = 784\n",
    "    output_size = 10\n",
    "    width = 10\n",
    "    depth = 5\n",
    "\n",
    "    beta = 4\n",
    "    batch_size = 128\n",
    "    lr = 1e-2\n",
    "    weight_decay = 1e-5\n",
    "    max_epochs = 100"
   ]
  },
  {
   "cell_type": "code",
   "execution_count": 3,
   "metadata": {},
   "outputs": [],
   "source": [
    "train_data = FashionMNIST(root='./data', train=True, download=False)\n",
    "test_data = FashionMNIST(root='./data', train=False, download=False)\n",
    "\n",
    "X_train = train_data.data.unsqueeze(1).float().flatten(start_dim=1)/255\n",
    "X_test = test_data.data.unsqueeze(1).float().flatten(start_dim=1)/255\n",
    "\n",
    "y_train = train_data.targets.long()\n",
    "y_test = test_data.targets.long()\n",
    "\n",
    "train_data = torch.utils.data.TensorDataset(X_train, y_train)\n",
    "test_data = torch.utils.data.TensorDataset(X_test, y_test)"
   ]
  },
  {
   "cell_type": "code",
   "execution_count": 4,
   "metadata": {},
   "outputs": [],
   "source": [
    "class DLGN(nn.Module):\n",
    "\n",
    "    @staticmethod\n",
    "    def linear(in_channels, out_channels, bias=False, activation=nn.Identity()):\n",
    "        return nn.Sequential(\n",
    "            nn.Linear(in_channels, out_channels, bias=bias),\n",
    "            activation,\n",
    "        )\n",
    "\n",
    "    def __init__(self, in_channels, out_channels, width, depth, beta):\n",
    "        super(DLGN, self).__init__()\n",
    "        self.beta = beta\n",
    "\n",
    "        self.npf = nn.ModuleList()\n",
    "        self.npv = nn.ModuleList()\n",
    "        for d in range(depth):\n",
    "            if d == 0:\n",
    "                self.npf.append(self.linear(in_channels, width))\n",
    "                self.npv.append(self.linear(in_channels, width))\n",
    "            elif d == depth - 1:\n",
    "                self.npf.append(self.linear(width, out_channels))\n",
    "                self.npv.append(self.linear(width, out_channels))\n",
    "            else:\n",
    "                self.npf.append(self.linear(width, width))\n",
    "                self.npv.append(self.linear(width, width))\n",
    "\n",
    "    def init(self, type):\n",
    "        if not hasattr(self, 'type'):\n",
    "            self.type = type\n",
    "        else:\n",
    "            self.type = 'gaussian'\n",
    "\n",
    "        for layer in self.layers:\n",
    "            if self.type == 'gaussian':\n",
    "                nn.init.normal_(layer[0].weight, mean=0.0, std=1.0)\n",
    "            elif self.type == 'xavier':\n",
    "                nn.init.xavier_uniform_(layer[0].weight)\n",
    "            else:\n",
    "                raise NotImplementedError\n",
    "\n",
    "    def forward(self, x):\n",
    "        x_npf, x_npv = x, x\n",
    "        for npf, npv in zip(self.npf, self.npv):\n",
    "            x_npf = npf(x_npf)\n",
    "            x_npv = npv(x_npv) * torch.div(1, 1+torch.exp(-self.beta*x_npf))\n",
    "        return x_npv"
   ]
  },
  {
   "cell_type": "code",
   "execution_count": 5,
   "metadata": {},
   "outputs": [],
   "source": [
    "class Trainer():\n",
    "\n",
    "    def __init__(self, data, model, optimzer, criterion, args):\n",
    "        self.args = args\n",
    "        \n",
    "        self.traindata, self.testdata = data\n",
    "        self.trainloader = torch.utils.data.DataLoader(self.traindata, batch_size=self.args.batch_size, shuffle=True, drop_last=True)\n",
    "        self.testloader = torch.utils.data.DataLoader(self.testdata, batch_size=self.args.batch_size, shuffle=False, drop_last=False)\n",
    "\n",
    "        self.model = model.to(self.args.device)\n",
    "        self.optimizer = optimzer\n",
    "        self.criterion = criterion\n",
    "\n",
    "        self.loss = []\n",
    "        self.accuracy = []\n",
    "\n",
    "    def train_epoch(self):\n",
    "        train_loss = 0\n",
    "        train_accuracy = 0\n",
    "\n",
    "        for idx, (x, y) in tqdm.tqdm(enumerate(self.trainloader)):\n",
    "            self.model.train()\n",
    "            x = x.to(self.args.device)\n",
    "            y = y.to(self.args.device)\n",
    "\n",
    "            self.optimizer.zero_grad()\n",
    "            y_pred = self.model(x)\n",
    "            loss = self.criterion(y_pred, y)\n",
    "            loss.backward()\n",
    "            self.optimizer.step()\n",
    "\n",
    "            train_loss += loss.item()/len(self.trainloader)\n",
    "            train_accuracy += (y_pred.argmax(dim=1) == y).float().mean().item()/len(self.trainloader)\n",
    "\n",
    "        return train_loss, train_accuracy\n",
    "    \n",
    "    def test(self):\n",
    "        self.model.eval()\n",
    "        test_loss = 0\n",
    "        test_accuracy = 0\n",
    "\n",
    "        \n",
    "        for idx, (x, y) in tqdm.tqdm(enumerate(self.testloader)):\n",
    "            x = x.to(self.args.device)\n",
    "            y = y.to(self.args.device)\n",
    "\n",
    "            with torch.no_grad():\n",
    "                y_pred = self.model(x)\n",
    "                loss = self.criterion(y_pred, y)\n",
    "\n",
    "            test_loss += loss.item()/len(self.testloader)\n",
    "            test_accuracy += (y_pred.argmax(dim=1) == y).float().mean().item()/len(self.testloader)\n",
    "\n",
    "        return test_loss, test_accuracy\n",
    "    \n",
    "    def train(self, epochs):\n",
    "        for epoch in range(epochs):\n",
    "            train_loss, train_accuracy = self.train_epoch()\n",
    "            self.loss.append([train_loss])\n",
    "            self.accuracy.append([train_accuracy])\n",
    "\n",
    "            test_loss, test_accuracy = self.test()\n",
    "\n",
    "            print(f'Epoch: {epoch+1:03d}/{epochs:03d} | Train Loss: {train_loss:.3f} | Train Accuracy: {train_accuracy:.3f} | Test Loss: {test_loss:.3f} | Test Accuracy: {test_accuracy:.3f}')"
   ]
  },
  {
   "cell_type": "code",
   "execution_count": 6,
   "metadata": {},
   "outputs": [
    {
     "name": "stderr",
     "output_type": "stream",
     "text": [
      "468it [00:00, 621.28it/s]\n",
      "79it [00:00, 1318.60it/s]\n"
     ]
    },
    {
     "name": "stdout",
     "output_type": "stream",
     "text": [
      "Epoch: 001/100 | Train Loss: 2.303 | Train Accuracy: 0.050 | Test Loss: 2.303 | Test Accuracy: 0.076\n"
     ]
    },
    {
     "name": "stderr",
     "output_type": "stream",
     "text": [
      "468it [00:00, 677.50it/s]\n",
      "79it [00:00, 1213.18it/s]\n"
     ]
    },
    {
     "name": "stdout",
     "output_type": "stream",
     "text": [
      "Epoch: 002/100 | Train Loss: 2.303 | Train Accuracy: 0.099 | Test Loss: 2.303 | Test Accuracy: 0.126\n"
     ]
    },
    {
     "name": "stderr",
     "output_type": "stream",
     "text": [
      "468it [00:00, 634.90it/s]\n",
      "79it [00:00, 1219.35it/s]\n"
     ]
    },
    {
     "name": "stdout",
     "output_type": "stream",
     "text": [
      "Epoch: 003/100 | Train Loss: 2.302 | Train Accuracy: 0.140 | Test Loss: 2.302 | Test Accuracy: 0.155\n"
     ]
    },
    {
     "name": "stderr",
     "output_type": "stream",
     "text": [
      "468it [00:00, 592.48it/s]\n",
      "79it [00:00, 1256.12it/s]\n"
     ]
    },
    {
     "name": "stdout",
     "output_type": "stream",
     "text": [
      "Epoch: 004/100 | Train Loss: 2.302 | Train Accuracy: 0.163 | Test Loss: 2.302 | Test Accuracy: 0.171\n"
     ]
    },
    {
     "name": "stderr",
     "output_type": "stream",
     "text": [
      "468it [00:00, 608.73it/s]\n",
      "79it [00:00, 1360.19it/s]\n"
     ]
    },
    {
     "name": "stdout",
     "output_type": "stream",
     "text": [
      "Epoch: 005/100 | Train Loss: 2.302 | Train Accuracy: 0.173 | Test Loss: 2.302 | Test Accuracy: 0.182\n"
     ]
    },
    {
     "name": "stderr",
     "output_type": "stream",
     "text": [
      "468it [00:00, 648.58it/s]\n",
      "79it [00:00, 1266.62it/s]\n"
     ]
    },
    {
     "name": "stdout",
     "output_type": "stream",
     "text": [
      "Epoch: 006/100 | Train Loss: 2.301 | Train Accuracy: 0.187 | Test Loss: 2.301 | Test Accuracy: 0.198\n"
     ]
    },
    {
     "name": "stderr",
     "output_type": "stream",
     "text": [
      "468it [00:00, 638.91it/s]\n",
      "79it [00:00, 1349.53it/s]\n"
     ]
    },
    {
     "name": "stdout",
     "output_type": "stream",
     "text": [
      "Epoch: 007/100 | Train Loss: 2.300 | Train Accuracy: 0.206 | Test Loss: 2.299 | Test Accuracy: 0.207\n"
     ]
    },
    {
     "name": "stderr",
     "output_type": "stream",
     "text": [
      "468it [00:00, 627.27it/s]\n",
      "79it [00:00, 1343.58it/s]\n"
     ]
    },
    {
     "name": "stdout",
     "output_type": "stream",
     "text": [
      "Epoch: 008/100 | Train Loss: 2.297 | Train Accuracy: 0.194 | Test Loss: 2.295 | Test Accuracy: 0.176\n"
     ]
    },
    {
     "name": "stderr",
     "output_type": "stream",
     "text": [
      "468it [00:00, 652.36it/s]\n",
      "79it [00:00, 1371.90it/s]\n"
     ]
    },
    {
     "name": "stdout",
     "output_type": "stream",
     "text": [
      "Epoch: 009/100 | Train Loss: 2.281 | Train Accuracy: 0.178 | Test Loss: 2.235 | Test Accuracy: 0.176\n"
     ]
    },
    {
     "name": "stderr",
     "output_type": "stream",
     "text": [
      "468it [00:00, 671.85it/s]\n",
      "79it [00:00, 1345.94it/s]\n"
     ]
    },
    {
     "name": "stdout",
     "output_type": "stream",
     "text": [
      "Epoch: 010/100 | Train Loss: 1.776 | Train Accuracy: 0.295 | Test Loss: 1.266 | Test Accuracy: 0.479\n"
     ]
    },
    {
     "name": "stderr",
     "output_type": "stream",
     "text": [
      "468it [00:00, 662.59it/s]\n",
      "79it [00:00, 1337.96it/s]\n"
     ]
    },
    {
     "name": "stdout",
     "output_type": "stream",
     "text": [
      "Epoch: 011/100 | Train Loss: 1.029 | Train Accuracy: 0.554 | Test Loss: 0.914 | Test Accuracy: 0.611\n"
     ]
    },
    {
     "name": "stderr",
     "output_type": "stream",
     "text": [
      "468it [00:00, 674.49it/s]\n",
      "79it [00:00, 1171.03it/s]\n"
     ]
    },
    {
     "name": "stdout",
     "output_type": "stream",
     "text": [
      "Epoch: 012/100 | Train Loss: 0.841 | Train Accuracy: 0.669 | Test Loss: 0.773 | Test Accuracy: 0.703\n"
     ]
    },
    {
     "name": "stderr",
     "output_type": "stream",
     "text": [
      "468it [00:00, 636.02it/s]\n",
      "79it [00:00, 1333.40it/s]\n"
     ]
    },
    {
     "name": "stdout",
     "output_type": "stream",
     "text": [
      "Epoch: 013/100 | Train Loss: 0.737 | Train Accuracy: 0.714 | Test Loss: 0.716 | Test Accuracy: 0.725\n"
     ]
    },
    {
     "name": "stderr",
     "output_type": "stream",
     "text": [
      "468it [00:00, 645.43it/s]\n",
      "79it [00:00, 1240.25it/s]\n"
     ]
    },
    {
     "name": "stdout",
     "output_type": "stream",
     "text": [
      "Epoch: 014/100 | Train Loss: 0.685 | Train Accuracy: 0.742 | Test Loss: 0.760 | Test Accuracy: 0.725\n"
     ]
    },
    {
     "name": "stderr",
     "output_type": "stream",
     "text": [
      "468it [00:00, 654.51it/s]\n",
      "79it [00:00, 1354.22it/s]\n"
     ]
    },
    {
     "name": "stdout",
     "output_type": "stream",
     "text": [
      "Epoch: 015/100 | Train Loss: 0.648 | Train Accuracy: 0.764 | Test Loss: 0.622 | Test Accuracy: 0.771\n"
     ]
    },
    {
     "name": "stderr",
     "output_type": "stream",
     "text": [
      "468it [00:00, 664.58it/s]\n",
      "79it [00:00, 1240.87it/s]\n"
     ]
    },
    {
     "name": "stdout",
     "output_type": "stream",
     "text": [
      "Epoch: 016/100 | Train Loss: 0.616 | Train Accuracy: 0.780 | Test Loss: 0.609 | Test Accuracy: 0.782\n"
     ]
    },
    {
     "name": "stderr",
     "output_type": "stream",
     "text": [
      "468it [00:00, 624.77it/s]\n",
      "79it [00:00, 1266.77it/s]\n"
     ]
    },
    {
     "name": "stdout",
     "output_type": "stream",
     "text": [
      "Epoch: 017/100 | Train Loss: 0.592 | Train Accuracy: 0.791 | Test Loss: 0.599 | Test Accuracy: 0.788\n"
     ]
    },
    {
     "name": "stderr",
     "output_type": "stream",
     "text": [
      "468it [00:00, 645.44it/s]\n",
      "79it [00:00, 1251.33it/s]\n"
     ]
    },
    {
     "name": "stdout",
     "output_type": "stream",
     "text": [
      "Epoch: 018/100 | Train Loss: 0.564 | Train Accuracy: 0.802 | Test Loss: 0.578 | Test Accuracy: 0.797\n"
     ]
    },
    {
     "name": "stderr",
     "output_type": "stream",
     "text": [
      "468it [00:00, 652.70it/s]\n",
      "79it [00:00, 1344.33it/s]\n"
     ]
    },
    {
     "name": "stdout",
     "output_type": "stream",
     "text": [
      "Epoch: 019/100 | Train Loss: 0.547 | Train Accuracy: 0.809 | Test Loss: 0.553 | Test Accuracy: 0.802\n"
     ]
    },
    {
     "name": "stderr",
     "output_type": "stream",
     "text": [
      "468it [00:00, 662.89it/s]\n",
      "79it [00:00, 1326.75it/s]\n"
     ]
    },
    {
     "name": "stdout",
     "output_type": "stream",
     "text": [
      "Epoch: 020/100 | Train Loss: 0.530 | Train Accuracy: 0.815 | Test Loss: 0.539 | Test Accuracy: 0.812\n"
     ]
    },
    {
     "name": "stderr",
     "output_type": "stream",
     "text": [
      "468it [00:00, 638.48it/s]\n",
      "79it [00:00, 1146.31it/s]\n"
     ]
    },
    {
     "name": "stdout",
     "output_type": "stream",
     "text": [
      "Epoch: 021/100 | Train Loss: 0.517 | Train Accuracy: 0.819 | Test Loss: 0.532 | Test Accuracy: 0.814\n"
     ]
    },
    {
     "name": "stderr",
     "output_type": "stream",
     "text": [
      "468it [00:00, 656.67it/s]\n",
      "79it [00:00, 1338.78it/s]\n"
     ]
    },
    {
     "name": "stdout",
     "output_type": "stream",
     "text": [
      "Epoch: 022/100 | Train Loss: 0.506 | Train Accuracy: 0.824 | Test Loss: 0.515 | Test Accuracy: 0.820\n"
     ]
    },
    {
     "name": "stderr",
     "output_type": "stream",
     "text": [
      "468it [00:00, 665.12it/s]\n",
      "79it [00:00, 1319.53it/s]\n"
     ]
    },
    {
     "name": "stdout",
     "output_type": "stream",
     "text": [
      "Epoch: 023/100 | Train Loss: 0.498 | Train Accuracy: 0.827 | Test Loss: 0.516 | Test Accuracy: 0.823\n"
     ]
    },
    {
     "name": "stderr",
     "output_type": "stream",
     "text": [
      "468it [00:00, 614.71it/s]\n",
      "79it [00:00, 1278.50it/s]\n"
     ]
    },
    {
     "name": "stdout",
     "output_type": "stream",
     "text": [
      "Epoch: 024/100 | Train Loss: 0.488 | Train Accuracy: 0.832 | Test Loss: 0.507 | Test Accuracy: 0.823\n"
     ]
    },
    {
     "name": "stderr",
     "output_type": "stream",
     "text": [
      "468it [00:00, 663.78it/s]\n",
      "79it [00:00, 1319.93it/s]\n"
     ]
    },
    {
     "name": "stdout",
     "output_type": "stream",
     "text": [
      "Epoch: 025/100 | Train Loss: 0.480 | Train Accuracy: 0.834 | Test Loss: 0.503 | Test Accuracy: 0.830\n"
     ]
    },
    {
     "name": "stderr",
     "output_type": "stream",
     "text": [
      "468it [00:00, 649.85it/s]\n",
      "79it [00:00, 1293.59it/s]\n"
     ]
    },
    {
     "name": "stdout",
     "output_type": "stream",
     "text": [
      "Epoch: 026/100 | Train Loss: 0.472 | Train Accuracy: 0.837 | Test Loss: 0.508 | Test Accuracy: 0.823\n"
     ]
    },
    {
     "name": "stderr",
     "output_type": "stream",
     "text": [
      "468it [00:00, 667.67it/s]\n",
      "79it [00:00, 1246.66it/s]\n"
     ]
    },
    {
     "name": "stdout",
     "output_type": "stream",
     "text": [
      "Epoch: 027/100 | Train Loss: 0.468 | Train Accuracy: 0.838 | Test Loss: 0.497 | Test Accuracy: 0.830\n"
     ]
    },
    {
     "name": "stderr",
     "output_type": "stream",
     "text": [
      "468it [00:00, 636.33it/s]\n",
      "79it [00:00, 1268.22it/s]\n"
     ]
    },
    {
     "name": "stdout",
     "output_type": "stream",
     "text": [
      "Epoch: 028/100 | Train Loss: 0.461 | Train Accuracy: 0.841 | Test Loss: 0.489 | Test Accuracy: 0.832\n"
     ]
    },
    {
     "name": "stderr",
     "output_type": "stream",
     "text": [
      "468it [00:00, 629.81it/s]\n",
      "79it [00:00, 1343.08it/s]\n"
     ]
    },
    {
     "name": "stdout",
     "output_type": "stream",
     "text": [
      "Epoch: 029/100 | Train Loss: 0.455 | Train Accuracy: 0.842 | Test Loss: 0.495 | Test Accuracy: 0.836\n"
     ]
    },
    {
     "name": "stderr",
     "output_type": "stream",
     "text": [
      "468it [00:00, 632.38it/s]\n",
      "79it [00:00, 1303.91it/s]\n"
     ]
    },
    {
     "name": "stdout",
     "output_type": "stream",
     "text": [
      "Epoch: 030/100 | Train Loss: 0.453 | Train Accuracy: 0.843 | Test Loss: 0.494 | Test Accuracy: 0.832\n"
     ]
    },
    {
     "name": "stderr",
     "output_type": "stream",
     "text": [
      "468it [00:00, 646.02it/s]\n",
      "79it [00:00, 1212.12it/s]\n"
     ]
    },
    {
     "name": "stdout",
     "output_type": "stream",
     "text": [
      "Epoch: 031/100 | Train Loss: 0.447 | Train Accuracy: 0.844 | Test Loss: 0.501 | Test Accuracy: 0.823\n"
     ]
    },
    {
     "name": "stderr",
     "output_type": "stream",
     "text": [
      "468it [00:00, 611.88it/s]\n",
      "79it [00:00, 1210.06it/s]\n"
     ]
    },
    {
     "name": "stdout",
     "output_type": "stream",
     "text": [
      "Epoch: 032/100 | Train Loss: 0.442 | Train Accuracy: 0.846 | Test Loss: 0.493 | Test Accuracy: 0.831\n"
     ]
    },
    {
     "name": "stderr",
     "output_type": "stream",
     "text": [
      "468it [00:00, 636.21it/s]\n",
      "79it [00:00, 1330.78it/s]\n"
     ]
    },
    {
     "name": "stdout",
     "output_type": "stream",
     "text": [
      "Epoch: 033/100 | Train Loss: 0.440 | Train Accuracy: 0.846 | Test Loss: 0.485 | Test Accuracy: 0.831\n"
     ]
    },
    {
     "name": "stderr",
     "output_type": "stream",
     "text": [
      "468it [00:00, 664.29it/s]\n",
      "79it [00:00, 1355.63it/s]\n"
     ]
    },
    {
     "name": "stdout",
     "output_type": "stream",
     "text": [
      "Epoch: 034/100 | Train Loss: 0.436 | Train Accuracy: 0.848 | Test Loss: 0.481 | Test Accuracy: 0.834\n"
     ]
    },
    {
     "name": "stderr",
     "output_type": "stream",
     "text": [
      "468it [00:00, 609.98it/s]\n",
      "79it [00:00, 1341.87it/s]\n"
     ]
    },
    {
     "name": "stdout",
     "output_type": "stream",
     "text": [
      "Epoch: 035/100 | Train Loss: 0.432 | Train Accuracy: 0.848 | Test Loss: 0.480 | Test Accuracy: 0.832\n"
     ]
    },
    {
     "name": "stderr",
     "output_type": "stream",
     "text": [
      "468it [00:00, 661.24it/s]\n",
      "79it [00:00, 1305.44it/s]\n"
     ]
    },
    {
     "name": "stdout",
     "output_type": "stream",
     "text": [
      "Epoch: 036/100 | Train Loss: 0.429 | Train Accuracy: 0.851 | Test Loss: 0.479 | Test Accuracy: 0.833\n"
     ]
    },
    {
     "name": "stderr",
     "output_type": "stream",
     "text": [
      "468it [00:00, 632.24it/s]\n",
      "79it [00:00, 1329.34it/s]\n"
     ]
    },
    {
     "name": "stdout",
     "output_type": "stream",
     "text": [
      "Epoch: 037/100 | Train Loss: 0.424 | Train Accuracy: 0.851 | Test Loss: 0.472 | Test Accuracy: 0.834\n"
     ]
    },
    {
     "name": "stderr",
     "output_type": "stream",
     "text": [
      "468it [00:00, 634.14it/s]\n",
      "79it [00:00, 1343.40it/s]\n"
     ]
    },
    {
     "name": "stdout",
     "output_type": "stream",
     "text": [
      "Epoch: 038/100 | Train Loss: 0.422 | Train Accuracy: 0.852 | Test Loss: 0.479 | Test Accuracy: 0.832\n"
     ]
    },
    {
     "name": "stderr",
     "output_type": "stream",
     "text": [
      "468it [00:00, 655.71it/s]\n",
      "79it [00:00, 1347.67it/s]\n"
     ]
    },
    {
     "name": "stdout",
     "output_type": "stream",
     "text": [
      "Epoch: 039/100 | Train Loss: 0.418 | Train Accuracy: 0.854 | Test Loss: 0.471 | Test Accuracy: 0.834\n"
     ]
    },
    {
     "name": "stderr",
     "output_type": "stream",
     "text": [
      "468it [00:00, 665.19it/s]\n",
      "79it [00:00, 948.89it/s]\n"
     ]
    },
    {
     "name": "stdout",
     "output_type": "stream",
     "text": [
      "Epoch: 040/100 | Train Loss: 0.417 | Train Accuracy: 0.852 | Test Loss: 0.455 | Test Accuracy: 0.841\n"
     ]
    },
    {
     "name": "stderr",
     "output_type": "stream",
     "text": [
      "468it [00:00, 648.50it/s]\n",
      "79it [00:00, 1328.51it/s]\n"
     ]
    },
    {
     "name": "stdout",
     "output_type": "stream",
     "text": [
      "Epoch: 041/100 | Train Loss: 0.412 | Train Accuracy: 0.854 | Test Loss: 0.464 | Test Accuracy: 0.840\n"
     ]
    },
    {
     "name": "stderr",
     "output_type": "stream",
     "text": [
      "468it [00:00, 632.37it/s]\n",
      "79it [00:00, 1344.84it/s]\n"
     ]
    },
    {
     "name": "stdout",
     "output_type": "stream",
     "text": [
      "Epoch: 042/100 | Train Loss: 0.409 | Train Accuracy: 0.855 | Test Loss: 0.465 | Test Accuracy: 0.838\n"
     ]
    },
    {
     "name": "stderr",
     "output_type": "stream",
     "text": [
      "468it [00:00, 621.85it/s]\n",
      "79it [00:00, 1232.75it/s]\n"
     ]
    },
    {
     "name": "stdout",
     "output_type": "stream",
     "text": [
      "Epoch: 043/100 | Train Loss: 0.406 | Train Accuracy: 0.856 | Test Loss: 0.460 | Test Accuracy: 0.840\n"
     ]
    },
    {
     "name": "stderr",
     "output_type": "stream",
     "text": [
      "468it [00:00, 634.59it/s]\n",
      "79it [00:00, 1309.96it/s]\n"
     ]
    },
    {
     "name": "stdout",
     "output_type": "stream",
     "text": [
      "Epoch: 044/100 | Train Loss: 0.405 | Train Accuracy: 0.857 | Test Loss: 0.473 | Test Accuracy: 0.830\n"
     ]
    },
    {
     "name": "stderr",
     "output_type": "stream",
     "text": [
      "468it [00:00, 638.03it/s]\n",
      "79it [00:00, 1344.82it/s]\n"
     ]
    },
    {
     "name": "stdout",
     "output_type": "stream",
     "text": [
      "Epoch: 045/100 | Train Loss: 0.401 | Train Accuracy: 0.856 | Test Loss: 0.452 | Test Accuracy: 0.843\n"
     ]
    },
    {
     "name": "stderr",
     "output_type": "stream",
     "text": [
      "468it [00:00, 653.41it/s]\n",
      "79it [00:00, 1335.23it/s]\n"
     ]
    },
    {
     "name": "stdout",
     "output_type": "stream",
     "text": [
      "Epoch: 046/100 | Train Loss: 0.397 | Train Accuracy: 0.859 | Test Loss: 0.448 | Test Accuracy: 0.845\n"
     ]
    },
    {
     "name": "stderr",
     "output_type": "stream",
     "text": [
      "468it [00:00, 659.01it/s]\n",
      "79it [00:00, 1337.76it/s]\n"
     ]
    },
    {
     "name": "stdout",
     "output_type": "stream",
     "text": [
      "Epoch: 047/100 | Train Loss: 0.394 | Train Accuracy: 0.860 | Test Loss: 0.443 | Test Accuracy: 0.845\n"
     ]
    },
    {
     "name": "stderr",
     "output_type": "stream",
     "text": [
      "468it [00:00, 634.50it/s]\n",
      "79it [00:00, 1336.83it/s]\n"
     ]
    },
    {
     "name": "stdout",
     "output_type": "stream",
     "text": [
      "Epoch: 048/100 | Train Loss: 0.393 | Train Accuracy: 0.860 | Test Loss: 0.460 | Test Accuracy: 0.838\n"
     ]
    },
    {
     "name": "stderr",
     "output_type": "stream",
     "text": [
      "468it [00:00, 647.21it/s]\n",
      "79it [00:00, 1369.87it/s]\n"
     ]
    },
    {
     "name": "stdout",
     "output_type": "stream",
     "text": [
      "Epoch: 049/100 | Train Loss: 0.390 | Train Accuracy: 0.860 | Test Loss: 0.465 | Test Accuracy: 0.839\n"
     ]
    },
    {
     "name": "stderr",
     "output_type": "stream",
     "text": [
      "468it [00:00, 625.06it/s]\n",
      "79it [00:00, 1308.55it/s]\n"
     ]
    },
    {
     "name": "stdout",
     "output_type": "stream",
     "text": [
      "Epoch: 050/100 | Train Loss: 0.387 | Train Accuracy: 0.861 | Test Loss: 0.441 | Test Accuracy: 0.845\n"
     ]
    },
    {
     "name": "stderr",
     "output_type": "stream",
     "text": [
      "468it [00:00, 656.85it/s]\n",
      "79it [00:00, 1244.39it/s]\n"
     ]
    },
    {
     "name": "stdout",
     "output_type": "stream",
     "text": [
      "Epoch: 051/100 | Train Loss: 0.386 | Train Accuracy: 0.861 | Test Loss: 0.442 | Test Accuracy: 0.847\n"
     ]
    },
    {
     "name": "stderr",
     "output_type": "stream",
     "text": [
      "468it [00:00, 657.02it/s]\n",
      "79it [00:00, 1345.02it/s]\n"
     ]
    },
    {
     "name": "stdout",
     "output_type": "stream",
     "text": [
      "Epoch: 052/100 | Train Loss: 0.384 | Train Accuracy: 0.863 | Test Loss: 0.438 | Test Accuracy: 0.847\n"
     ]
    },
    {
     "name": "stderr",
     "output_type": "stream",
     "text": [
      "468it [00:00, 655.13it/s]\n",
      "79it [00:00, 1350.82it/s]\n"
     ]
    },
    {
     "name": "stdout",
     "output_type": "stream",
     "text": [
      "Epoch: 053/100 | Train Loss: 0.380 | Train Accuracy: 0.864 | Test Loss: 0.445 | Test Accuracy: 0.845\n"
     ]
    },
    {
     "name": "stderr",
     "output_type": "stream",
     "text": [
      "468it [00:00, 668.52it/s]\n",
      "79it [00:00, 1209.93it/s]\n"
     ]
    },
    {
     "name": "stdout",
     "output_type": "stream",
     "text": [
      "Epoch: 054/100 | Train Loss: 0.380 | Train Accuracy: 0.864 | Test Loss: 0.452 | Test Accuracy: 0.842\n"
     ]
    },
    {
     "name": "stderr",
     "output_type": "stream",
     "text": [
      "468it [00:00, 650.82it/s]\n",
      "79it [00:00, 1312.03it/s]\n"
     ]
    },
    {
     "name": "stdout",
     "output_type": "stream",
     "text": [
      "Epoch: 055/100 | Train Loss: 0.378 | Train Accuracy: 0.864 | Test Loss: 0.439 | Test Accuracy: 0.846\n"
     ]
    },
    {
     "name": "stderr",
     "output_type": "stream",
     "text": [
      "468it [00:00, 678.92it/s]\n",
      "79it [00:00, 1227.05it/s]\n"
     ]
    },
    {
     "name": "stdout",
     "output_type": "stream",
     "text": [
      "Epoch: 056/100 | Train Loss: 0.374 | Train Accuracy: 0.866 | Test Loss: 0.445 | Test Accuracy: 0.846\n"
     ]
    },
    {
     "name": "stderr",
     "output_type": "stream",
     "text": [
      "468it [00:00, 649.74it/s]\n",
      "79it [00:00, 1334.64it/s]\n"
     ]
    },
    {
     "name": "stdout",
     "output_type": "stream",
     "text": [
      "Epoch: 057/100 | Train Loss: 0.373 | Train Accuracy: 0.866 | Test Loss: 0.454 | Test Accuracy: 0.835\n"
     ]
    },
    {
     "name": "stderr",
     "output_type": "stream",
     "text": [
      "468it [00:00, 651.20it/s]\n",
      "79it [00:00, 1353.19it/s]\n"
     ]
    },
    {
     "name": "stdout",
     "output_type": "stream",
     "text": [
      "Epoch: 058/100 | Train Loss: 0.371 | Train Accuracy: 0.868 | Test Loss: 0.464 | Test Accuracy: 0.838\n"
     ]
    },
    {
     "name": "stderr",
     "output_type": "stream",
     "text": [
      "468it [00:00, 669.43it/s]\n",
      "79it [00:00, 1278.50it/s]\n"
     ]
    },
    {
     "name": "stdout",
     "output_type": "stream",
     "text": [
      "Epoch: 059/100 | Train Loss: 0.371 | Train Accuracy: 0.867 | Test Loss: 0.439 | Test Accuracy: 0.846\n"
     ]
    },
    {
     "name": "stderr",
     "output_type": "stream",
     "text": [
      "468it [00:00, 641.66it/s]\n",
      "79it [00:00, 1297.68it/s]\n"
     ]
    },
    {
     "name": "stdout",
     "output_type": "stream",
     "text": [
      "Epoch: 060/100 | Train Loss: 0.367 | Train Accuracy: 0.868 | Test Loss: 0.449 | Test Accuracy: 0.846\n"
     ]
    },
    {
     "name": "stderr",
     "output_type": "stream",
     "text": [
      "468it [00:00, 662.38it/s]\n",
      "79it [00:00, 1298.10it/s]\n"
     ]
    },
    {
     "name": "stdout",
     "output_type": "stream",
     "text": [
      "Epoch: 061/100 | Train Loss: 0.365 | Train Accuracy: 0.868 | Test Loss: 0.448 | Test Accuracy: 0.845\n"
     ]
    },
    {
     "name": "stderr",
     "output_type": "stream",
     "text": [
      "468it [00:00, 639.69it/s]\n",
      "79it [00:00, 1329.28it/s]\n"
     ]
    },
    {
     "name": "stdout",
     "output_type": "stream",
     "text": [
      "Epoch: 062/100 | Train Loss: 0.366 | Train Accuracy: 0.869 | Test Loss: 0.456 | Test Accuracy: 0.845\n"
     ]
    },
    {
     "name": "stderr",
     "output_type": "stream",
     "text": [
      "468it [00:00, 647.58it/s]\n",
      "79it [00:00, 1320.43it/s]\n"
     ]
    },
    {
     "name": "stdout",
     "output_type": "stream",
     "text": [
      "Epoch: 063/100 | Train Loss: 0.363 | Train Accuracy: 0.869 | Test Loss: 0.430 | Test Accuracy: 0.852\n"
     ]
    },
    {
     "name": "stderr",
     "output_type": "stream",
     "text": [
      "468it [00:00, 654.98it/s]\n",
      "79it [00:00, 1319.22it/s]\n"
     ]
    },
    {
     "name": "stdout",
     "output_type": "stream",
     "text": [
      "Epoch: 064/100 | Train Loss: 0.361 | Train Accuracy: 0.870 | Test Loss: 0.443 | Test Accuracy: 0.849\n"
     ]
    },
    {
     "name": "stderr",
     "output_type": "stream",
     "text": [
      "468it [00:00, 671.18it/s]\n",
      "79it [00:00, 995.31it/s]\n"
     ]
    },
    {
     "name": "stdout",
     "output_type": "stream",
     "text": [
      "Epoch: 065/100 | Train Loss: 0.361 | Train Accuracy: 0.870 | Test Loss: 0.425 | Test Accuracy: 0.853\n"
     ]
    },
    {
     "name": "stderr",
     "output_type": "stream",
     "text": [
      "468it [00:00, 663.17it/s]\n",
      "79it [00:00, 1324.81it/s]\n"
     ]
    },
    {
     "name": "stdout",
     "output_type": "stream",
     "text": [
      "Epoch: 066/100 | Train Loss: 0.359 | Train Accuracy: 0.871 | Test Loss: 0.421 | Test Accuracy: 0.852\n"
     ]
    },
    {
     "name": "stderr",
     "output_type": "stream",
     "text": [
      "468it [00:00, 666.12it/s]\n",
      "79it [00:00, 1205.96it/s]\n"
     ]
    },
    {
     "name": "stdout",
     "output_type": "stream",
     "text": [
      "Epoch: 067/100 | Train Loss: 0.357 | Train Accuracy: 0.871 | Test Loss: 0.430 | Test Accuracy: 0.852\n"
     ]
    },
    {
     "name": "stderr",
     "output_type": "stream",
     "text": [
      "468it [00:00, 670.01it/s]\n",
      "79it [00:00, 1299.21it/s]\n"
     ]
    },
    {
     "name": "stdout",
     "output_type": "stream",
     "text": [
      "Epoch: 068/100 | Train Loss: 0.356 | Train Accuracy: 0.872 | Test Loss: 0.425 | Test Accuracy: 0.853\n"
     ]
    },
    {
     "name": "stderr",
     "output_type": "stream",
     "text": [
      "468it [00:00, 629.62it/s]\n",
      "79it [00:00, 1324.56it/s]\n"
     ]
    },
    {
     "name": "stdout",
     "output_type": "stream",
     "text": [
      "Epoch: 069/100 | Train Loss: 0.355 | Train Accuracy: 0.871 | Test Loss: 0.428 | Test Accuracy: 0.853\n"
     ]
    },
    {
     "name": "stderr",
     "output_type": "stream",
     "text": [
      "468it [00:00, 666.38it/s]\n",
      "79it [00:00, 1109.66it/s]\n"
     ]
    },
    {
     "name": "stdout",
     "output_type": "stream",
     "text": [
      "Epoch: 070/100 | Train Loss: 0.352 | Train Accuracy: 0.874 | Test Loss: 0.435 | Test Accuracy: 0.848\n"
     ]
    },
    {
     "name": "stderr",
     "output_type": "stream",
     "text": [
      "468it [00:00, 627.22it/s]\n",
      "79it [00:00, 1255.12it/s]\n"
     ]
    },
    {
     "name": "stdout",
     "output_type": "stream",
     "text": [
      "Epoch: 071/100 | Train Loss: 0.351 | Train Accuracy: 0.873 | Test Loss: 0.430 | Test Accuracy: 0.851\n"
     ]
    },
    {
     "name": "stderr",
     "output_type": "stream",
     "text": [
      "468it [00:00, 626.04it/s]\n",
      "79it [00:00, 1351.81it/s]\n"
     ]
    },
    {
     "name": "stdout",
     "output_type": "stream",
     "text": [
      "Epoch: 072/100 | Train Loss: 0.350 | Train Accuracy: 0.874 | Test Loss: 0.443 | Test Accuracy: 0.848\n"
     ]
    },
    {
     "name": "stderr",
     "output_type": "stream",
     "text": [
      "468it [00:00, 678.39it/s]\n",
      "79it [00:00, 1380.08it/s]\n"
     ]
    },
    {
     "name": "stdout",
     "output_type": "stream",
     "text": [
      "Epoch: 073/100 | Train Loss: 0.351 | Train Accuracy: 0.874 | Test Loss: 0.428 | Test Accuracy: 0.854\n"
     ]
    },
    {
     "name": "stderr",
     "output_type": "stream",
     "text": [
      "468it [00:00, 697.16it/s]\n",
      "79it [00:00, 1284.36it/s]\n"
     ]
    },
    {
     "name": "stdout",
     "output_type": "stream",
     "text": [
      "Epoch: 074/100 | Train Loss: 0.348 | Train Accuracy: 0.875 | Test Loss: 0.424 | Test Accuracy: 0.853\n"
     ]
    },
    {
     "name": "stderr",
     "output_type": "stream",
     "text": [
      "468it [00:00, 692.49it/s]\n",
      "79it [00:00, 1384.39it/s]\n"
     ]
    },
    {
     "name": "stdout",
     "output_type": "stream",
     "text": [
      "Epoch: 075/100 | Train Loss: 0.347 | Train Accuracy: 0.875 | Test Loss: 0.428 | Test Accuracy: 0.852\n"
     ]
    },
    {
     "name": "stderr",
     "output_type": "stream",
     "text": [
      "468it [00:00, 699.37it/s]\n",
      "79it [00:00, 1379.19it/s]\n"
     ]
    },
    {
     "name": "stdout",
     "output_type": "stream",
     "text": [
      "Epoch: 076/100 | Train Loss: 0.349 | Train Accuracy: 0.874 | Test Loss: 0.427 | Test Accuracy: 0.850\n"
     ]
    },
    {
     "name": "stderr",
     "output_type": "stream",
     "text": [
      "468it [00:00, 702.23it/s]\n",
      "79it [00:00, 1388.87it/s]\n"
     ]
    },
    {
     "name": "stdout",
     "output_type": "stream",
     "text": [
      "Epoch: 077/100 | Train Loss: 0.344 | Train Accuracy: 0.876 | Test Loss: 0.423 | Test Accuracy: 0.856\n"
     ]
    },
    {
     "name": "stderr",
     "output_type": "stream",
     "text": [
      "468it [00:00, 704.81it/s]\n",
      "79it [00:00, 1374.29it/s]\n"
     ]
    },
    {
     "name": "stdout",
     "output_type": "stream",
     "text": [
      "Epoch: 078/100 | Train Loss: 0.344 | Train Accuracy: 0.876 | Test Loss: 0.420 | Test Accuracy: 0.854\n"
     ]
    },
    {
     "name": "stderr",
     "output_type": "stream",
     "text": [
      "468it [00:00, 699.56it/s]\n",
      "79it [00:00, 1373.10it/s]\n"
     ]
    },
    {
     "name": "stdout",
     "output_type": "stream",
     "text": [
      "Epoch: 079/100 | Train Loss: 0.342 | Train Accuracy: 0.877 | Test Loss: 0.438 | Test Accuracy: 0.849\n"
     ]
    },
    {
     "name": "stderr",
     "output_type": "stream",
     "text": [
      "468it [00:00, 684.41it/s]\n",
      "79it [00:00, 1363.86it/s]\n"
     ]
    },
    {
     "name": "stdout",
     "output_type": "stream",
     "text": [
      "Epoch: 080/100 | Train Loss: 0.343 | Train Accuracy: 0.876 | Test Loss: 0.418 | Test Accuracy: 0.854\n"
     ]
    },
    {
     "name": "stderr",
     "output_type": "stream",
     "text": [
      "468it [00:00, 653.40it/s]\n",
      "79it [00:00, 1299.30it/s]\n"
     ]
    },
    {
     "name": "stdout",
     "output_type": "stream",
     "text": [
      "Epoch: 081/100 | Train Loss: 0.341 | Train Accuracy: 0.877 | Test Loss: 0.465 | Test Accuracy: 0.834\n"
     ]
    },
    {
     "name": "stderr",
     "output_type": "stream",
     "text": [
      "468it [00:00, 649.76it/s]\n",
      "79it [00:00, 1354.09it/s]\n"
     ]
    },
    {
     "name": "stdout",
     "output_type": "stream",
     "text": [
      "Epoch: 082/100 | Train Loss: 0.341 | Train Accuracy: 0.878 | Test Loss: 0.423 | Test Accuracy: 0.855\n"
     ]
    },
    {
     "name": "stderr",
     "output_type": "stream",
     "text": [
      "468it [00:00, 680.16it/s]\n",
      "79it [00:00, 1354.10it/s]\n"
     ]
    },
    {
     "name": "stdout",
     "output_type": "stream",
     "text": [
      "Epoch: 083/100 | Train Loss: 0.340 | Train Accuracy: 0.876 | Test Loss: 0.431 | Test Accuracy: 0.849\n"
     ]
    },
    {
     "name": "stderr",
     "output_type": "stream",
     "text": [
      "468it [00:00, 673.31it/s]\n",
      "79it [00:00, 1334.71it/s]\n"
     ]
    },
    {
     "name": "stdout",
     "output_type": "stream",
     "text": [
      "Epoch: 084/100 | Train Loss: 0.338 | Train Accuracy: 0.878 | Test Loss: 0.426 | Test Accuracy: 0.849\n"
     ]
    },
    {
     "name": "stderr",
     "output_type": "stream",
     "text": [
      "468it [00:00, 687.47it/s]\n",
      "79it [00:00, 1354.13it/s]\n"
     ]
    },
    {
     "name": "stdout",
     "output_type": "stream",
     "text": [
      "Epoch: 085/100 | Train Loss: 0.335 | Train Accuracy: 0.879 | Test Loss: 0.418 | Test Accuracy: 0.853\n"
     ]
    },
    {
     "name": "stderr",
     "output_type": "stream",
     "text": [
      "468it [00:00, 692.08it/s]\n",
      "79it [00:00, 1311.90it/s]\n"
     ]
    },
    {
     "name": "stdout",
     "output_type": "stream",
     "text": [
      "Epoch: 086/100 | Train Loss: 0.335 | Train Accuracy: 0.878 | Test Loss: 0.439 | Test Accuracy: 0.853\n"
     ]
    },
    {
     "name": "stderr",
     "output_type": "stream",
     "text": [
      "468it [00:00, 672.85it/s]\n",
      "79it [00:00, 1349.32it/s]\n"
     ]
    },
    {
     "name": "stdout",
     "output_type": "stream",
     "text": [
      "Epoch: 087/100 | Train Loss: 0.335 | Train Accuracy: 0.879 | Test Loss: 0.437 | Test Accuracy: 0.851\n"
     ]
    },
    {
     "name": "stderr",
     "output_type": "stream",
     "text": [
      "468it [00:00, 673.31it/s]\n",
      "79it [00:00, 1360.29it/s]\n"
     ]
    },
    {
     "name": "stdout",
     "output_type": "stream",
     "text": [
      "Epoch: 088/100 | Train Loss: 0.334 | Train Accuracy: 0.878 | Test Loss: 0.424 | Test Accuracy: 0.854\n"
     ]
    },
    {
     "name": "stderr",
     "output_type": "stream",
     "text": [
      "468it [00:00, 683.25it/s]\n",
      "79it [00:00, 1351.65it/s]\n"
     ]
    },
    {
     "name": "stdout",
     "output_type": "stream",
     "text": [
      "Epoch: 089/100 | Train Loss: 0.333 | Train Accuracy: 0.880 | Test Loss: 0.416 | Test Accuracy: 0.856\n"
     ]
    },
    {
     "name": "stderr",
     "output_type": "stream",
     "text": [
      "468it [00:00, 687.72it/s]\n",
      "79it [00:00, 1283.86it/s]\n"
     ]
    },
    {
     "name": "stdout",
     "output_type": "stream",
     "text": [
      "Epoch: 090/100 | Train Loss: 0.333 | Train Accuracy: 0.879 | Test Loss: 0.416 | Test Accuracy: 0.857\n"
     ]
    },
    {
     "name": "stderr",
     "output_type": "stream",
     "text": [
      "468it [00:00, 691.47it/s]\n",
      "79it [00:00, 1262.37it/s]\n"
     ]
    },
    {
     "name": "stdout",
     "output_type": "stream",
     "text": [
      "Epoch: 091/100 | Train Loss: 0.330 | Train Accuracy: 0.880 | Test Loss: 0.417 | Test Accuracy: 0.855\n"
     ]
    },
    {
     "name": "stderr",
     "output_type": "stream",
     "text": [
      "468it [00:00, 674.18it/s]\n",
      "79it [00:00, 1320.12it/s]\n"
     ]
    },
    {
     "name": "stdout",
     "output_type": "stream",
     "text": [
      "Epoch: 092/100 | Train Loss: 0.329 | Train Accuracy: 0.881 | Test Loss: 0.457 | Test Accuracy: 0.838\n"
     ]
    },
    {
     "name": "stderr",
     "output_type": "stream",
     "text": [
      "468it [00:00, 677.34it/s]\n",
      "79it [00:00, 1353.34it/s]\n"
     ]
    },
    {
     "name": "stdout",
     "output_type": "stream",
     "text": [
      "Epoch: 093/100 | Train Loss: 0.329 | Train Accuracy: 0.881 | Test Loss: 0.437 | Test Accuracy: 0.851\n"
     ]
    },
    {
     "name": "stderr",
     "output_type": "stream",
     "text": [
      "468it [00:00, 674.45it/s]\n",
      "79it [00:00, 1339.07it/s]\n"
     ]
    },
    {
     "name": "stdout",
     "output_type": "stream",
     "text": [
      "Epoch: 094/100 | Train Loss: 0.327 | Train Accuracy: 0.881 | Test Loss: 0.415 | Test Accuracy: 0.857\n"
     ]
    },
    {
     "name": "stderr",
     "output_type": "stream",
     "text": [
      "468it [00:00, 688.55it/s]\n",
      "79it [00:00, 1327.28it/s]\n"
     ]
    },
    {
     "name": "stdout",
     "output_type": "stream",
     "text": [
      "Epoch: 095/100 | Train Loss: 0.326 | Train Accuracy: 0.882 | Test Loss: 0.417 | Test Accuracy: 0.857\n"
     ]
    },
    {
     "name": "stderr",
     "output_type": "stream",
     "text": [
      "468it [00:00, 667.97it/s]\n",
      "79it [00:00, 1277.61it/s]\n"
     ]
    },
    {
     "name": "stdout",
     "output_type": "stream",
     "text": [
      "Epoch: 096/100 | Train Loss: 0.326 | Train Accuracy: 0.883 | Test Loss: 0.426 | Test Accuracy: 0.854\n"
     ]
    },
    {
     "name": "stderr",
     "output_type": "stream",
     "text": [
      "468it [00:00, 669.02it/s]\n",
      "79it [00:00, 1359.81it/s]\n"
     ]
    },
    {
     "name": "stdout",
     "output_type": "stream",
     "text": [
      "Epoch: 097/100 | Train Loss: 0.326 | Train Accuracy: 0.881 | Test Loss: 0.416 | Test Accuracy: 0.857\n"
     ]
    },
    {
     "name": "stderr",
     "output_type": "stream",
     "text": [
      "468it [00:00, 657.77it/s]\n",
      "79it [00:00, 1291.46it/s]\n"
     ]
    },
    {
     "name": "stdout",
     "output_type": "stream",
     "text": [
      "Epoch: 098/100 | Train Loss: 0.324 | Train Accuracy: 0.882 | Test Loss: 0.443 | Test Accuracy: 0.844\n"
     ]
    },
    {
     "name": "stderr",
     "output_type": "stream",
     "text": [
      "468it [00:00, 679.83it/s]\n",
      "79it [00:00, 1353.50it/s]\n"
     ]
    },
    {
     "name": "stdout",
     "output_type": "stream",
     "text": [
      "Epoch: 099/100 | Train Loss: 0.325 | Train Accuracy: 0.882 | Test Loss: 0.428 | Test Accuracy: 0.857\n"
     ]
    },
    {
     "name": "stderr",
     "output_type": "stream",
     "text": [
      "468it [00:00, 675.27it/s]\n",
      "79it [00:00, 1382.81it/s]"
     ]
    },
    {
     "name": "stdout",
     "output_type": "stream",
     "text": [
      "Epoch: 100/100 | Train Loss: 0.322 | Train Accuracy: 0.883 | Test Loss: 0.414 | Test Accuracy: 0.859\n"
     ]
    },
    {
     "name": "stderr",
     "output_type": "stream",
     "text": [
      "\n"
     ]
    }
   ],
   "source": [
    "set_seed(0)\n",
    "args = Args()\n",
    "\n",
    "model = DLGN(args.input_size, args.output_size, args.width, args.depth, args.beta)\n",
    "\n",
    "optimizer = optim.SGD(model.parameters(), lr=0.01, momentum=0)\n",
    "criterion = nn.CrossEntropyLoss()\n",
    "\n",
    "trainer = Trainer((train_data, test_data), model, optimizer, criterion, args)\n",
    "trainer.train(args.max_epochs)"
   ]
  },
  {
   "cell_type": "code",
   "execution_count": null,
   "metadata": {},
   "outputs": [],
   "source": []
  }
 ],
 "metadata": {
  "kernelspec": {
   "display_name": "torch",
   "language": "python",
   "name": "python3"
  },
  "language_info": {
   "codemirror_mode": {
    "name": "ipython",
    "version": 3
   },
   "file_extension": ".py",
   "mimetype": "text/x-python",
   "name": "python",
   "nbconvert_exporter": "python",
   "pygments_lexer": "ipython3",
   "version": "3.8.17"
  }
 },
 "nbformat": 4,
 "nbformat_minor": 2
}
