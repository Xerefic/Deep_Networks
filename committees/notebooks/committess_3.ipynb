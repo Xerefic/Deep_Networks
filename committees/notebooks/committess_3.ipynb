{
 "cells": [
  {
   "cell_type": "code",
   "execution_count": 7,
   "metadata": {},
   "outputs": [],
   "source": [
    "import torch\n",
    "import torch.nn as nn\n",
    "import torch.nn.functional as F\n",
    "import torch.optim as optim\n",
    "from torchvision.datasets import FashionMNIST\n",
    "\n",
    "import random\n",
    "import copy\n",
    "import tqdm\n",
    "import numpy as np\n",
    "import matplotlib.pyplot as plt\n",
    "\n",
    "def set_seed(seed):\n",
    "    torch.manual_seed(seed)\n",
    "    random.seed(seed)\n",
    "    np.random.seed(seed)\n",
    "\n",
    "import os\n",
    "os.environ['PYTORCH_ENABLE_MPS_FALLBACK']='False'"
   ]
  },
  {
   "cell_type": "code",
   "execution_count": 8,
   "metadata": {},
   "outputs": [],
   "source": [
    "class Args():\n",
    "    device = 'cpu'\n",
    "    # device = torch.device('mps' if torch.backends.mps.is_available() else 'cuda' if torch.cuda.is_available() else 'cpu')\n",
    "\n",
    "    input_size = 784\n",
    "    output_size = 10\n",
    "    num_neurons = 50\n",
    "    num_committees = 250\n",
    "    size_committee = 5\n",
    "\n",
    "    batch_size = 128\n",
    "    lr = 1e-2\n",
    "    weight_decay = 1e-5\n",
    "    max_epochs = 100"
   ]
  },
  {
   "cell_type": "code",
   "execution_count": 9,
   "metadata": {},
   "outputs": [],
   "source": [
    "train_data = FashionMNIST(root='./data', train=True, download=False)\n",
    "test_data = FashionMNIST(root='./data', train=False, download=False)\n",
    "\n",
    "X_train = train_data.data.unsqueeze(1).float().flatten(start_dim=1)/255\n",
    "X_test = test_data.data.unsqueeze(1).float().flatten(start_dim=1)/255\n",
    "\n",
    "y_train = F.one_hot(train_data.targets).float()\n",
    "y_test = F.one_hot(test_data.targets).float()\n",
    "\n",
    "train_data = torch.utils.data.TensorDataset(X_train, y_train)\n",
    "test_data = torch.utils.data.TensorDataset(X_test, y_test)"
   ]
  },
  {
   "cell_type": "code",
   "execution_count": 10,
   "metadata": {},
   "outputs": [],
   "source": [
    "class NPF(nn.Module):\n",
    "\n",
    "    def __init__(self, input_size, output_size, num_neurons, size_committee, num_committees, args):\n",
    "        super().__init__()\n",
    "        self.args = args\n",
    "        self.input_size = input_size\n",
    "        self.output_size = output_size\n",
    "        self.num_neurons = num_neurons\n",
    "        self.num_committees = num_committees\n",
    "\n",
    "        self.neurons = nn.ModuleList([nn.Linear(input_size, output_size, bias=False) for i in range(num_neurons)])\n",
    "        self.npf = []\n",
    "        for i in range(num_committees):\n",
    "            while True:\n",
    "                choice = torch.randint(0, num_neurons, size=(size_committee,))\n",
    "                if len(torch.unique(choice)) == size_committee:\n",
    "                    break\n",
    "            self.npf.append(choice.tolist())\n",
    "\n",
    "        self.init('gaussian')\n",
    "\n",
    "        self.sigmoid = nn.Sigmoid()\n",
    "\n",
    "    def init(self, type):\n",
    "        if not hasattr(self, 'type'):\n",
    "            self.type = type\n",
    "        else:\n",
    "            self.type = 'gaussian'\n",
    "\n",
    "        if self.type == 'gaussian':\n",
    "            for i in range(self.num_neurons):\n",
    "                nn.init.normal_(self.neurons[i].weight, mean=0.0, std=1.0)\n",
    "        else:\n",
    "            raise NotImplementedError \n",
    "\n",
    "    def forward(self, x):\n",
    "        z = torch.zeros((x.shape[0], self.num_committees, self.output_size)).to(self.args.device)\n",
    "        for i in range(self.num_committees):\n",
    "            z[:, i] = torch.prod(torch.stack([self.sigmoid(x @ self.neurons[self.npf[i][j]].weight.T) for j in range(len(self.npf[i]))]), dim=0).squeeze(1)\n",
    "        return z\n",
    "    \n",
    "class NPV(nn.Module):\n",
    "\n",
    "    def __init__(self, input_size, output_size, num_neurons, size_committee, num_committees, args):\n",
    "        super().__init__()\n",
    "        self.args = args\n",
    "        self.input_size = input_size\n",
    "        self.output_size = output_size\n",
    "        self.num_neurons = num_neurons\n",
    "        self.num_committees = num_committees\n",
    "\n",
    "        self.npv = nn.Linear(num_committees, 1, bias=False)\n",
    "\n",
    "        self.init('gaussian')\n",
    "\n",
    "    def init(self, type):\n",
    "        if not hasattr(self, 'type'):\n",
    "            self.type = type\n",
    "        else:\n",
    "            self.type = 'gaussian'\n",
    "\n",
    "        if self.type == 'gaussian':\n",
    "            nn.init.normal_(self.npv.weight, mean=0.0, std=1.0)\n",
    "        else:\n",
    "            raise NotImplementedError \n",
    "\n",
    "    def forward(self, z):\n",
    "        z = self.npv(z.permute(0, 2, 1)) \n",
    "        return z.squeeze(-1)\n"
   ]
  },
  {
   "cell_type": "code",
   "execution_count": 11,
   "metadata": {},
   "outputs": [],
   "source": [
    "class Trainer():\n",
    "\n",
    "    def __init__(self, data, models, optimzers, criterion, args):\n",
    "        self.args = args\n",
    "        \n",
    "        self.traindata, self.testdata = data\n",
    "        self.trainloader = torch.utils.data.DataLoader(self.traindata, batch_size=self.args.batch_size, shuffle=True, drop_last=True)\n",
    "        self.testloader = torch.utils.data.DataLoader(self.testdata, batch_size=self.args.batch_size, shuffle=False, drop_last=False)\n",
    "\n",
    "        self.npf, self.npv = models\n",
    "        self.npf, self.npv = self.npf.to(self.args.device), self.npv.to(self.args.device)\n",
    "        self.npf_opt, self.npv_opt = optimzers\n",
    "        self.criterion = criterion\n",
    "\n",
    "        self.loss = []\n",
    "        self.accuracy = []\n",
    "\n",
    "    def train_epoch(self, step):\n",
    "        \n",
    "\n",
    "        train_loss = 0\n",
    "        train_accuracy = 0\n",
    "\n",
    "        for idx, (x, y) in tqdm.tqdm(enumerate(self.trainloader)):\n",
    "            self.npf.train()\n",
    "            self.npv.train()\n",
    "            x = x.to(self.args.device)\n",
    "            y = y.to(self.args.device)\n",
    "\n",
    "            self.npf_opt.zero_grad()\n",
    "            self.npv_opt.zero_grad()\n",
    "\n",
    "            if step%5 != 0:\n",
    "                z = self.npf(x)\n",
    "                y_pred = self.npv(z)\n",
    "                loss = self.criterion(y_pred, y)\n",
    "                loss.backward()\n",
    "                self.npf_opt.step()\n",
    "\n",
    "            if step%5 == 0:\n",
    "                z = self.npf(x)\n",
    "                y_pred = self.npv(z)\n",
    "                loss = self.criterion(y_pred, y)\n",
    "                loss.backward()\n",
    "                self.npv_opt.step()\n",
    "\n",
    "            self.npf.eval()\n",
    "            self.npv.eval()\n",
    "            with torch.no_grad():\n",
    "                z = self.npf(x)\n",
    "                y_pred = self.npv(z)\n",
    "                loss = self.criterion(y_pred, y)\n",
    "                accuracy = (y_pred.argmax(dim=1) == y.argmax(dim=1)).float().mean()\n",
    "\n",
    "            train_loss += loss.item()/len(self.trainloader)\n",
    "            train_accuracy += accuracy.item()/len(self.trainloader)\n",
    "\n",
    "        return train_loss, train_accuracy\n",
    "    \n",
    "    def test(self):\n",
    "        self.npf.eval()\n",
    "        self.npv.eval()\n",
    "        test_loss = 0\n",
    "        test_accuracy = 0\n",
    "        for idx, (x, y) in enumerate(self.testloader):\n",
    "            x = x.to(self.args.device)\n",
    "            y = y.to(self.args.device)\n",
    "\n",
    "            with torch.no_grad():\n",
    "                z = self.npf(x)\n",
    "                y_pred = self.npv(z)\n",
    "                loss = self.criterion(y_pred, y)\n",
    "                accuracy = (y_pred.argmax(dim=1) == y.argmax(dim=1)).float().mean()\n",
    "\n",
    "            test_loss += loss.item()/len(self.testloader)\n",
    "            test_accuracy += accuracy.item()/len(self.testloader)\n",
    "        \n",
    "        return loss.item(), accuracy.item()\n",
    "    \n",
    "    def train(self, epochs):\n",
    "        for epoch in range(epochs):\n",
    "            train_loss, train_accuracy = self.train_epoch(epoch)\n",
    "            self.loss.append(train_loss)\n",
    "            self.accuracy.append(train_accuracy)\n",
    "\n",
    "            test_loss, test_accuracy = self.test()\n",
    "\n",
    "            print(f'Epoch: {epoch+1:03d}/{epochs:03d} | Train Loss: {train_loss:.3f} | Train Accuracy: {train_accuracy:.3f} | Test Loss: {test_loss:.3f} | Test Accuracy: {test_accuracy:.3f}')\n",
    "        "
   ]
  },
  {
   "cell_type": "code",
   "execution_count": 12,
   "metadata": {},
   "outputs": [
    {
     "name": "stderr",
     "output_type": "stream",
     "text": [
      "468it [01:26,  5.43it/s]\n"
     ]
    },
    {
     "name": "stdout",
     "output_type": "stream",
     "text": [
      "Epoch: 001/100 | Train Loss: 3.651 | Train Accuracy: 0.144 | Test Loss: 3.666 | Test Accuracy: 0.188\n"
     ]
    },
    {
     "name": "stderr",
     "output_type": "stream",
     "text": [
      "468it [01:26,  5.43it/s]\n"
     ]
    },
    {
     "name": "stdout",
     "output_type": "stream",
     "text": [
      "Epoch: 002/100 | Train Loss: 2.769 | Train Accuracy: 0.226 | Test Loss: 2.593 | Test Accuracy: 0.312\n"
     ]
    },
    {
     "name": "stderr",
     "output_type": "stream",
     "text": [
      "468it [01:11,  6.56it/s]\n"
     ]
    },
    {
     "name": "stdout",
     "output_type": "stream",
     "text": [
      "Epoch: 003/100 | Train Loss: 2.149 | Train Accuracy: 0.330 | Test Loss: 2.069 | Test Accuracy: 0.438\n"
     ]
    },
    {
     "name": "stderr",
     "output_type": "stream",
     "text": [
      "468it [01:07,  6.89it/s]\n"
     ]
    },
    {
     "name": "stdout",
     "output_type": "stream",
     "text": [
      "Epoch: 004/100 | Train Loss: 1.845 | Train Accuracy: 0.400 | Test Loss: 1.810 | Test Accuracy: 0.500\n"
     ]
    },
    {
     "name": "stderr",
     "output_type": "stream",
     "text": [
      "468it [01:08,  6.86it/s]\n"
     ]
    },
    {
     "name": "stdout",
     "output_type": "stream",
     "text": [
      "Epoch: 005/100 | Train Loss: 1.655 | Train Accuracy: 0.455 | Test Loss: 1.639 | Test Accuracy: 0.500\n"
     ]
    },
    {
     "name": "stderr",
     "output_type": "stream",
     "text": [
      "468it [01:07,  6.92it/s]\n"
     ]
    },
    {
     "name": "stdout",
     "output_type": "stream",
     "text": [
      "Epoch: 006/100 | Train Loss: 1.555 | Train Accuracy: 0.487 | Test Loss: 1.581 | Test Accuracy: 0.562\n"
     ]
    },
    {
     "name": "stderr",
     "output_type": "stream",
     "text": [
      "468it [01:06,  7.02it/s]\n"
     ]
    },
    {
     "name": "stdout",
     "output_type": "stream",
     "text": [
      "Epoch: 007/100 | Train Loss: 1.477 | Train Accuracy: 0.510 | Test Loss: 1.476 | Test Accuracy: 0.562\n"
     ]
    },
    {
     "name": "stderr",
     "output_type": "stream",
     "text": [
      "468it [01:06,  7.04it/s]\n"
     ]
    },
    {
     "name": "stdout",
     "output_type": "stream",
     "text": [
      "Epoch: 008/100 | Train Loss: 1.391 | Train Accuracy: 0.537 | Test Loss: 1.401 | Test Accuracy: 0.562\n"
     ]
    },
    {
     "name": "stderr",
     "output_type": "stream",
     "text": [
      "468it [01:06,  7.03it/s]\n"
     ]
    },
    {
     "name": "stdout",
     "output_type": "stream",
     "text": [
      "Epoch: 009/100 | Train Loss: 1.326 | Train Accuracy: 0.555 | Test Loss: 1.340 | Test Accuracy: 0.688\n"
     ]
    },
    {
     "name": "stderr",
     "output_type": "stream",
     "text": [
      "468it [01:06,  7.04it/s]\n"
     ]
    },
    {
     "name": "stdout",
     "output_type": "stream",
     "text": [
      "Epoch: 010/100 | Train Loss: 1.273 | Train Accuracy: 0.573 | Test Loss: 1.294 | Test Accuracy: 0.688\n"
     ]
    },
    {
     "name": "stderr",
     "output_type": "stream",
     "text": [
      "468it [01:06,  7.05it/s]\n"
     ]
    },
    {
     "name": "stdout",
     "output_type": "stream",
     "text": [
      "Epoch: 011/100 | Train Loss: 1.241 | Train Accuracy: 0.583 | Test Loss: 1.268 | Test Accuracy: 0.750\n"
     ]
    },
    {
     "name": "stderr",
     "output_type": "stream",
     "text": [
      "468it [01:06,  7.00it/s]\n"
     ]
    },
    {
     "name": "stdout",
     "output_type": "stream",
     "text": [
      "Epoch: 012/100 | Train Loss: 1.210 | Train Accuracy: 0.592 | Test Loss: 1.234 | Test Accuracy: 0.750\n"
     ]
    },
    {
     "name": "stderr",
     "output_type": "stream",
     "text": [
      "468it [01:06,  7.05it/s]\n"
     ]
    },
    {
     "name": "stdout",
     "output_type": "stream",
     "text": [
      "Epoch: 013/100 | Train Loss: 1.174 | Train Accuracy: 0.603 | Test Loss: 1.204 | Test Accuracy: 0.750\n"
     ]
    },
    {
     "name": "stderr",
     "output_type": "stream",
     "text": [
      "468it [01:06,  7.04it/s]\n"
     ]
    },
    {
     "name": "stdout",
     "output_type": "stream",
     "text": [
      "Epoch: 014/100 | Train Loss: 1.143 | Train Accuracy: 0.614 | Test Loss: 1.178 | Test Accuracy: 0.750\n"
     ]
    },
    {
     "name": "stderr",
     "output_type": "stream",
     "text": [
      "468it [01:06,  7.04it/s]\n"
     ]
    },
    {
     "name": "stdout",
     "output_type": "stream",
     "text": [
      "Epoch: 015/100 | Train Loss: 1.115 | Train Accuracy: 0.622 | Test Loss: 1.153 | Test Accuracy: 0.750\n"
     ]
    },
    {
     "name": "stderr",
     "output_type": "stream",
     "text": [
      "468it [01:06,  7.03it/s]\n"
     ]
    },
    {
     "name": "stdout",
     "output_type": "stream",
     "text": [
      "Epoch: 016/100 | Train Loss: 1.097 | Train Accuracy: 0.628 | Test Loss: 1.137 | Test Accuracy: 0.750\n"
     ]
    },
    {
     "name": "stderr",
     "output_type": "stream",
     "text": [
      "468it [01:06,  7.08it/s]\n"
     ]
    },
    {
     "name": "stdout",
     "output_type": "stream",
     "text": [
      "Epoch: 017/100 | Train Loss: 1.079 | Train Accuracy: 0.634 | Test Loss: 1.120 | Test Accuracy: 0.750\n"
     ]
    },
    {
     "name": "stderr",
     "output_type": "stream",
     "text": [
      "468it [01:06,  7.07it/s]\n"
     ]
    },
    {
     "name": "stdout",
     "output_type": "stream",
     "text": [
      "Epoch: 018/100 | Train Loss: 1.057 | Train Accuracy: 0.641 | Test Loss: 1.102 | Test Accuracy: 0.750\n"
     ]
    },
    {
     "name": "stderr",
     "output_type": "stream",
     "text": [
      "468it [01:06,  7.09it/s]\n"
     ]
    },
    {
     "name": "stdout",
     "output_type": "stream",
     "text": [
      "Epoch: 019/100 | Train Loss: 1.038 | Train Accuracy: 0.647 | Test Loss: 1.084 | Test Accuracy: 0.750\n"
     ]
    },
    {
     "name": "stderr",
     "output_type": "stream",
     "text": [
      "468it [01:06,  7.08it/s]\n"
     ]
    },
    {
     "name": "stdout",
     "output_type": "stream",
     "text": [
      "Epoch: 020/100 | Train Loss: 1.020 | Train Accuracy: 0.652 | Test Loss: 1.065 | Test Accuracy: 0.750\n"
     ]
    },
    {
     "name": "stderr",
     "output_type": "stream",
     "text": [
      "468it [01:06,  7.08it/s]\n"
     ]
    },
    {
     "name": "stdout",
     "output_type": "stream",
     "text": [
      "Epoch: 021/100 | Train Loss: 1.007 | Train Accuracy: 0.657 | Test Loss: 1.055 | Test Accuracy: 0.750\n"
     ]
    },
    {
     "name": "stderr",
     "output_type": "stream",
     "text": [
      "468it [01:06,  7.09it/s]\n"
     ]
    },
    {
     "name": "stdout",
     "output_type": "stream",
     "text": [
      "Epoch: 022/100 | Train Loss: 0.995 | Train Accuracy: 0.661 | Test Loss: 1.041 | Test Accuracy: 0.688\n"
     ]
    },
    {
     "name": "stderr",
     "output_type": "stream",
     "text": [
      "468it [01:06,  7.08it/s]\n"
     ]
    },
    {
     "name": "stdout",
     "output_type": "stream",
     "text": [
      "Epoch: 023/100 | Train Loss: 0.980 | Train Accuracy: 0.666 | Test Loss: 1.025 | Test Accuracy: 0.688\n"
     ]
    },
    {
     "name": "stderr",
     "output_type": "stream",
     "text": [
      "468it [01:06,  7.09it/s]\n"
     ]
    },
    {
     "name": "stdout",
     "output_type": "stream",
     "text": [
      "Epoch: 024/100 | Train Loss: 0.966 | Train Accuracy: 0.671 | Test Loss: 1.007 | Test Accuracy: 0.688\n"
     ]
    },
    {
     "name": "stderr",
     "output_type": "stream",
     "text": [
      "468it [01:06,  7.03it/s]\n"
     ]
    },
    {
     "name": "stdout",
     "output_type": "stream",
     "text": [
      "Epoch: 025/100 | Train Loss: 0.953 | Train Accuracy: 0.675 | Test Loss: 0.989 | Test Accuracy: 0.688\n"
     ]
    },
    {
     "name": "stderr",
     "output_type": "stream",
     "text": [
      "468it [01:06,  7.08it/s]\n"
     ]
    },
    {
     "name": "stdout",
     "output_type": "stream",
     "text": [
      "Epoch: 026/100 | Train Loss: 0.944 | Train Accuracy: 0.678 | Test Loss: 0.983 | Test Accuracy: 0.688\n"
     ]
    },
    {
     "name": "stderr",
     "output_type": "stream",
     "text": [
      "468it [01:06,  7.03it/s]\n"
     ]
    },
    {
     "name": "stdout",
     "output_type": "stream",
     "text": [
      "Epoch: 027/100 | Train Loss: 0.935 | Train Accuracy: 0.681 | Test Loss: 0.967 | Test Accuracy: 0.688\n"
     ]
    },
    {
     "name": "stderr",
     "output_type": "stream",
     "text": [
      "468it [01:06,  7.06it/s]\n"
     ]
    },
    {
     "name": "stdout",
     "output_type": "stream",
     "text": [
      "Epoch: 028/100 | Train Loss: 0.924 | Train Accuracy: 0.685 | Test Loss: 0.947 | Test Accuracy: 0.688\n"
     ]
    },
    {
     "name": "stderr",
     "output_type": "stream",
     "text": [
      "468it [01:06,  7.06it/s]\n"
     ]
    },
    {
     "name": "stdout",
     "output_type": "stream",
     "text": [
      "Epoch: 029/100 | Train Loss: 0.913 | Train Accuracy: 0.688 | Test Loss: 0.928 | Test Accuracy: 0.688\n"
     ]
    },
    {
     "name": "stderr",
     "output_type": "stream",
     "text": [
      "468it [01:06,  7.07it/s]\n"
     ]
    },
    {
     "name": "stdout",
     "output_type": "stream",
     "text": [
      "Epoch: 030/100 | Train Loss: 0.903 | Train Accuracy: 0.691 | Test Loss: 0.908 | Test Accuracy: 0.688\n"
     ]
    },
    {
     "name": "stderr",
     "output_type": "stream",
     "text": [
      "468it [01:06,  7.08it/s]\n"
     ]
    },
    {
     "name": "stdout",
     "output_type": "stream",
     "text": [
      "Epoch: 031/100 | Train Loss: 0.897 | Train Accuracy: 0.693 | Test Loss: 0.904 | Test Accuracy: 0.688\n"
     ]
    },
    {
     "name": "stderr",
     "output_type": "stream",
     "text": [
      "468it [01:06,  7.08it/s]\n"
     ]
    },
    {
     "name": "stdout",
     "output_type": "stream",
     "text": [
      "Epoch: 032/100 | Train Loss: 0.890 | Train Accuracy: 0.695 | Test Loss: 0.886 | Test Accuracy: 0.688\n"
     ]
    },
    {
     "name": "stderr",
     "output_type": "stream",
     "text": [
      "468it [01:06,  7.03it/s]\n"
     ]
    },
    {
     "name": "stdout",
     "output_type": "stream",
     "text": [
      "Epoch: 033/100 | Train Loss: 0.880 | Train Accuracy: 0.698 | Test Loss: 0.866 | Test Accuracy: 0.688\n"
     ]
    },
    {
     "name": "stderr",
     "output_type": "stream",
     "text": [
      "468it [01:06,  7.02it/s]\n"
     ]
    },
    {
     "name": "stdout",
     "output_type": "stream",
     "text": [
      "Epoch: 034/100 | Train Loss: 0.872 | Train Accuracy: 0.701 | Test Loss: 0.847 | Test Accuracy: 0.688\n"
     ]
    },
    {
     "name": "stderr",
     "output_type": "stream",
     "text": [
      "468it [01:05,  7.10it/s]\n"
     ]
    },
    {
     "name": "stdout",
     "output_type": "stream",
     "text": [
      "Epoch: 035/100 | Train Loss: 0.864 | Train Accuracy: 0.704 | Test Loss: 0.828 | Test Accuracy: 0.688\n"
     ]
    },
    {
     "name": "stderr",
     "output_type": "stream",
     "text": [
      "468it [01:05,  7.10it/s]\n"
     ]
    },
    {
     "name": "stdout",
     "output_type": "stream",
     "text": [
      "Epoch: 036/100 | Train Loss: 0.859 | Train Accuracy: 0.706 | Test Loss: 0.827 | Test Accuracy: 0.688\n"
     ]
    },
    {
     "name": "stderr",
     "output_type": "stream",
     "text": [
      "468it [01:05,  7.11it/s]\n"
     ]
    },
    {
     "name": "stdout",
     "output_type": "stream",
     "text": [
      "Epoch: 037/100 | Train Loss: 0.853 | Train Accuracy: 0.708 | Test Loss: 0.811 | Test Accuracy: 0.688\n"
     ]
    },
    {
     "name": "stderr",
     "output_type": "stream",
     "text": [
      "468it [01:05,  7.09it/s]\n"
     ]
    },
    {
     "name": "stdout",
     "output_type": "stream",
     "text": [
      "Epoch: 038/100 | Train Loss: 0.846 | Train Accuracy: 0.710 | Test Loss: 0.796 | Test Accuracy: 0.688\n"
     ]
    },
    {
     "name": "stderr",
     "output_type": "stream",
     "text": [
      "468it [01:05,  7.11it/s]\n"
     ]
    },
    {
     "name": "stdout",
     "output_type": "stream",
     "text": [
      "Epoch: 039/100 | Train Loss: 0.839 | Train Accuracy: 0.712 | Test Loss: 0.781 | Test Accuracy: 0.750\n"
     ]
    },
    {
     "name": "stderr",
     "output_type": "stream",
     "text": [
      "468it [01:05,  7.10it/s]\n"
     ]
    },
    {
     "name": "stdout",
     "output_type": "stream",
     "text": [
      "Epoch: 040/100 | Train Loss: 0.832 | Train Accuracy: 0.714 | Test Loss: 0.768 | Test Accuracy: 0.750\n"
     ]
    },
    {
     "name": "stderr",
     "output_type": "stream",
     "text": [
      "468it [01:06,  7.09it/s]\n"
     ]
    },
    {
     "name": "stdout",
     "output_type": "stream",
     "text": [
      "Epoch: 041/100 | Train Loss: 0.827 | Train Accuracy: 0.716 | Test Loss: 0.767 | Test Accuracy: 0.688\n"
     ]
    },
    {
     "name": "stderr",
     "output_type": "stream",
     "text": [
      "468it [01:06,  7.09it/s]\n"
     ]
    },
    {
     "name": "stdout",
     "output_type": "stream",
     "text": [
      "Epoch: 042/100 | Train Loss: 0.823 | Train Accuracy: 0.717 | Test Loss: 0.756 | Test Accuracy: 0.688\n"
     ]
    },
    {
     "name": "stderr",
     "output_type": "stream",
     "text": [
      "468it [01:06,  7.07it/s]\n"
     ]
    },
    {
     "name": "stdout",
     "output_type": "stream",
     "text": [
      "Epoch: 043/100 | Train Loss: 0.817 | Train Accuracy: 0.719 | Test Loss: 0.746 | Test Accuracy: 0.688\n"
     ]
    },
    {
     "name": "stderr",
     "output_type": "stream",
     "text": [
      "468it [01:06,  7.09it/s]\n"
     ]
    },
    {
     "name": "stdout",
     "output_type": "stream",
     "text": [
      "Epoch: 044/100 | Train Loss: 0.811 | Train Accuracy: 0.722 | Test Loss: 0.736 | Test Accuracy: 0.688\n"
     ]
    },
    {
     "name": "stderr",
     "output_type": "stream",
     "text": [
      "468it [01:05,  7.10it/s]\n"
     ]
    },
    {
     "name": "stdout",
     "output_type": "stream",
     "text": [
      "Epoch: 045/100 | Train Loss: 0.805 | Train Accuracy: 0.724 | Test Loss: 0.726 | Test Accuracy: 0.750\n"
     ]
    },
    {
     "name": "stderr",
     "output_type": "stream",
     "text": [
      "468it [01:05,  7.10it/s]\n"
     ]
    },
    {
     "name": "stdout",
     "output_type": "stream",
     "text": [
      "Epoch: 046/100 | Train Loss: 0.801 | Train Accuracy: 0.725 | Test Loss: 0.727 | Test Accuracy: 0.750\n"
     ]
    },
    {
     "name": "stderr",
     "output_type": "stream",
     "text": [
      "468it [01:06,  7.06it/s]\n"
     ]
    },
    {
     "name": "stdout",
     "output_type": "stream",
     "text": [
      "Epoch: 047/100 | Train Loss: 0.797 | Train Accuracy: 0.726 | Test Loss: 0.719 | Test Accuracy: 0.750\n"
     ]
    },
    {
     "name": "stderr",
     "output_type": "stream",
     "text": [
      "468it [01:05,  7.10it/s]\n"
     ]
    },
    {
     "name": "stdout",
     "output_type": "stream",
     "text": [
      "Epoch: 048/100 | Train Loss: 0.792 | Train Accuracy: 0.728 | Test Loss: 0.712 | Test Accuracy: 0.750\n"
     ]
    },
    {
     "name": "stderr",
     "output_type": "stream",
     "text": [
      "468it [01:05,  7.10it/s]\n"
     ]
    },
    {
     "name": "stdout",
     "output_type": "stream",
     "text": [
      "Epoch: 049/100 | Train Loss: 0.787 | Train Accuracy: 0.730 | Test Loss: 0.704 | Test Accuracy: 0.750\n"
     ]
    },
    {
     "name": "stderr",
     "output_type": "stream",
     "text": [
      "468it [01:05,  7.10it/s]\n"
     ]
    },
    {
     "name": "stdout",
     "output_type": "stream",
     "text": [
      "Epoch: 050/100 | Train Loss: 0.782 | Train Accuracy: 0.731 | Test Loss: 0.697 | Test Accuracy: 0.750\n"
     ]
    },
    {
     "name": "stderr",
     "output_type": "stream",
     "text": [
      "468it [01:06,  7.07it/s]\n"
     ]
    },
    {
     "name": "stdout",
     "output_type": "stream",
     "text": [
      "Epoch: 051/100 | Train Loss: 0.778 | Train Accuracy: 0.733 | Test Loss: 0.699 | Test Accuracy: 0.750\n"
     ]
    },
    {
     "name": "stderr",
     "output_type": "stream",
     "text": [
      "468it [03:11,  2.45it/s]\n"
     ]
    },
    {
     "name": "stdout",
     "output_type": "stream",
     "text": [
      "Epoch: 052/100 | Train Loss: 0.775 | Train Accuracy: 0.734 | Test Loss: 0.692 | Test Accuracy: 0.750\n"
     ]
    },
    {
     "name": "stderr",
     "output_type": "stream",
     "text": [
      "468it [01:06,  7.08it/s]\n"
     ]
    },
    {
     "name": "stdout",
     "output_type": "stream",
     "text": [
      "Epoch: 053/100 | Train Loss: 0.770 | Train Accuracy: 0.735 | Test Loss: 0.685 | Test Accuracy: 0.750\n"
     ]
    },
    {
     "name": "stderr",
     "output_type": "stream",
     "text": [
      "468it [01:06,  7.08it/s]\n"
     ]
    },
    {
     "name": "stdout",
     "output_type": "stream",
     "text": [
      "Epoch: 054/100 | Train Loss: 0.766 | Train Accuracy: 0.737 | Test Loss: 0.680 | Test Accuracy: 0.750\n"
     ]
    },
    {
     "name": "stderr",
     "output_type": "stream",
     "text": [
      "468it [01:06,  7.08it/s]\n"
     ]
    },
    {
     "name": "stdout",
     "output_type": "stream",
     "text": [
      "Epoch: 055/100 | Train Loss: 0.761 | Train Accuracy: 0.738 | Test Loss: 0.673 | Test Accuracy: 0.750\n"
     ]
    },
    {
     "name": "stderr",
     "output_type": "stream",
     "text": [
      "468it [01:06,  7.08it/s]\n"
     ]
    },
    {
     "name": "stdout",
     "output_type": "stream",
     "text": [
      "Epoch: 056/100 | Train Loss: 0.758 | Train Accuracy: 0.739 | Test Loss: 0.676 | Test Accuracy: 0.750\n"
     ]
    },
    {
     "name": "stderr",
     "output_type": "stream",
     "text": [
      "468it [01:06,  7.03it/s]\n"
     ]
    },
    {
     "name": "stdout",
     "output_type": "stream",
     "text": [
      "Epoch: 057/100 | Train Loss: 0.755 | Train Accuracy: 0.740 | Test Loss: 0.671 | Test Accuracy: 0.750\n"
     ]
    },
    {
     "name": "stderr",
     "output_type": "stream",
     "text": [
      "468it [01:06,  7.04it/s]\n"
     ]
    },
    {
     "name": "stdout",
     "output_type": "stream",
     "text": [
      "Epoch: 058/100 | Train Loss: 0.751 | Train Accuracy: 0.741 | Test Loss: 0.665 | Test Accuracy: 0.750\n"
     ]
    },
    {
     "name": "stderr",
     "output_type": "stream",
     "text": [
      "468it [01:06,  7.08it/s]\n"
     ]
    },
    {
     "name": "stdout",
     "output_type": "stream",
     "text": [
      "Epoch: 059/100 | Train Loss: 0.747 | Train Accuracy: 0.742 | Test Loss: 0.661 | Test Accuracy: 0.812\n"
     ]
    },
    {
     "name": "stderr",
     "output_type": "stream",
     "text": [
      "468it [01:06,  7.03it/s]\n"
     ]
    },
    {
     "name": "stdout",
     "output_type": "stream",
     "text": [
      "Epoch: 060/100 | Train Loss: 0.743 | Train Accuracy: 0.743 | Test Loss: 0.656 | Test Accuracy: 0.812\n"
     ]
    },
    {
     "name": "stderr",
     "output_type": "stream",
     "text": [
      "468it [01:06,  7.07it/s]\n"
     ]
    },
    {
     "name": "stdout",
     "output_type": "stream",
     "text": [
      "Epoch: 061/100 | Train Loss: 0.740 | Train Accuracy: 0.744 | Test Loss: 0.659 | Test Accuracy: 0.812\n"
     ]
    },
    {
     "name": "stderr",
     "output_type": "stream",
     "text": [
      "468it [01:06,  7.08it/s]\n"
     ]
    },
    {
     "name": "stdout",
     "output_type": "stream",
     "text": [
      "Epoch: 062/100 | Train Loss: 0.738 | Train Accuracy: 0.745 | Test Loss: 0.655 | Test Accuracy: 0.750\n"
     ]
    },
    {
     "name": "stderr",
     "output_type": "stream",
     "text": [
      "468it [01:06,  7.06it/s]\n"
     ]
    },
    {
     "name": "stdout",
     "output_type": "stream",
     "text": [
      "Epoch: 063/100 | Train Loss: 0.734 | Train Accuracy: 0.746 | Test Loss: 0.652 | Test Accuracy: 0.750\n"
     ]
    },
    {
     "name": "stderr",
     "output_type": "stream",
     "text": [
      "468it [01:06,  7.07it/s]\n"
     ]
    },
    {
     "name": "stdout",
     "output_type": "stream",
     "text": [
      "Epoch: 064/100 | Train Loss: 0.730 | Train Accuracy: 0.747 | Test Loss: 0.648 | Test Accuracy: 0.750\n"
     ]
    },
    {
     "name": "stderr",
     "output_type": "stream",
     "text": [
      "468it [01:06,  7.07it/s]\n"
     ]
    },
    {
     "name": "stdout",
     "output_type": "stream",
     "text": [
      "Epoch: 065/100 | Train Loss: 0.726 | Train Accuracy: 0.748 | Test Loss: 0.645 | Test Accuracy: 0.750\n"
     ]
    },
    {
     "name": "stderr",
     "output_type": "stream",
     "text": [
      "468it [01:06,  7.07it/s]\n"
     ]
    },
    {
     "name": "stdout",
     "output_type": "stream",
     "text": [
      "Epoch: 066/100 | Train Loss: 0.725 | Train Accuracy: 0.749 | Test Loss: 0.647 | Test Accuracy: 0.750\n"
     ]
    },
    {
     "name": "stderr",
     "output_type": "stream",
     "text": [
      "468it [01:05,  7.11it/s]\n"
     ]
    },
    {
     "name": "stdout",
     "output_type": "stream",
     "text": [
      "Epoch: 067/100 | Train Loss: 0.722 | Train Accuracy: 0.750 | Test Loss: 0.645 | Test Accuracy: 0.750\n"
     ]
    },
    {
     "name": "stderr",
     "output_type": "stream",
     "text": [
      "468it [01:06,  7.06it/s]\n"
     ]
    },
    {
     "name": "stdout",
     "output_type": "stream",
     "text": [
      "Epoch: 068/100 | Train Loss: 0.719 | Train Accuracy: 0.751 | Test Loss: 0.642 | Test Accuracy: 0.750\n"
     ]
    },
    {
     "name": "stderr",
     "output_type": "stream",
     "text": [
      "468it [01:06,  7.06it/s]\n"
     ]
    },
    {
     "name": "stdout",
     "output_type": "stream",
     "text": [
      "Epoch: 069/100 | Train Loss: 0.715 | Train Accuracy: 0.752 | Test Loss: 0.639 | Test Accuracy: 0.750\n"
     ]
    },
    {
     "name": "stderr",
     "output_type": "stream",
     "text": [
      "468it [01:10,  6.62it/s]\n"
     ]
    },
    {
     "name": "stdout",
     "output_type": "stream",
     "text": [
      "Epoch: 070/100 | Train Loss: 0.713 | Train Accuracy: 0.752 | Test Loss: 0.636 | Test Accuracy: 0.750\n"
     ]
    },
    {
     "name": "stderr",
     "output_type": "stream",
     "text": [
      "468it [01:10,  6.61it/s]\n"
     ]
    },
    {
     "name": "stdout",
     "output_type": "stream",
     "text": [
      "Epoch: 071/100 | Train Loss: 0.711 | Train Accuracy: 0.753 | Test Loss: 0.640 | Test Accuracy: 0.750\n"
     ]
    },
    {
     "name": "stderr",
     "output_type": "stream",
     "text": [
      "468it [01:09,  6.70it/s]\n"
     ]
    },
    {
     "name": "stdout",
     "output_type": "stream",
     "text": [
      "Epoch: 072/100 | Train Loss: 0.708 | Train Accuracy: 0.754 | Test Loss: 0.637 | Test Accuracy: 0.750\n"
     ]
    },
    {
     "name": "stderr",
     "output_type": "stream",
     "text": [
      "468it [01:10,  6.64it/s]\n"
     ]
    },
    {
     "name": "stdout",
     "output_type": "stream",
     "text": [
      "Epoch: 073/100 | Train Loss: 0.705 | Train Accuracy: 0.755 | Test Loss: 0.635 | Test Accuracy: 0.750\n"
     ]
    },
    {
     "name": "stderr",
     "output_type": "stream",
     "text": [
      "468it [01:10,  6.65it/s]\n"
     ]
    },
    {
     "name": "stdout",
     "output_type": "stream",
     "text": [
      "Epoch: 074/100 | Train Loss: 0.702 | Train Accuracy: 0.756 | Test Loss: 0.632 | Test Accuracy: 0.750\n"
     ]
    },
    {
     "name": "stderr",
     "output_type": "stream",
     "text": [
      "468it [01:11,  6.54it/s]\n"
     ]
    },
    {
     "name": "stdout",
     "output_type": "stream",
     "text": [
      "Epoch: 075/100 | Train Loss: 0.700 | Train Accuracy: 0.757 | Test Loss: 0.630 | Test Accuracy: 0.750\n"
     ]
    },
    {
     "name": "stderr",
     "output_type": "stream",
     "text": [
      "468it [01:10,  6.66it/s]\n"
     ]
    },
    {
     "name": "stdout",
     "output_type": "stream",
     "text": [
      "Epoch: 076/100 | Train Loss: 0.698 | Train Accuracy: 0.757 | Test Loss: 0.634 | Test Accuracy: 0.750\n"
     ]
    },
    {
     "name": "stderr",
     "output_type": "stream",
     "text": [
      "468it [01:10,  6.60it/s]\n"
     ]
    },
    {
     "name": "stdout",
     "output_type": "stream",
     "text": [
      "Epoch: 077/100 | Train Loss: 0.696 | Train Accuracy: 0.758 | Test Loss: 0.632 | Test Accuracy: 0.750\n"
     ]
    },
    {
     "name": "stderr",
     "output_type": "stream",
     "text": [
      "468it [01:10,  6.66it/s]\n"
     ]
    },
    {
     "name": "stdout",
     "output_type": "stream",
     "text": [
      "Epoch: 078/100 | Train Loss: 0.693 | Train Accuracy: 0.759 | Test Loss: 0.630 | Test Accuracy: 0.750\n"
     ]
    },
    {
     "name": "stderr",
     "output_type": "stream",
     "text": [
      "468it [01:10,  6.61it/s]\n"
     ]
    },
    {
     "name": "stdout",
     "output_type": "stream",
     "text": [
      "Epoch: 079/100 | Train Loss: 0.690 | Train Accuracy: 0.759 | Test Loss: 0.628 | Test Accuracy: 0.750\n"
     ]
    },
    {
     "name": "stderr",
     "output_type": "stream",
     "text": [
      "468it [01:10,  6.68it/s]\n"
     ]
    },
    {
     "name": "stdout",
     "output_type": "stream",
     "text": [
      "Epoch: 080/100 | Train Loss: 0.688 | Train Accuracy: 0.760 | Test Loss: 0.625 | Test Accuracy: 0.750\n"
     ]
    },
    {
     "name": "stderr",
     "output_type": "stream",
     "text": [
      "468it [01:10,  6.63it/s]\n"
     ]
    },
    {
     "name": "stdout",
     "output_type": "stream",
     "text": [
      "Epoch: 081/100 | Train Loss: 0.687 | Train Accuracy: 0.761 | Test Loss: 0.629 | Test Accuracy: 0.750\n"
     ]
    },
    {
     "name": "stderr",
     "output_type": "stream",
     "text": [
      "468it [01:09,  6.69it/s]\n"
     ]
    },
    {
     "name": "stdout",
     "output_type": "stream",
     "text": [
      "Epoch: 082/100 | Train Loss: 0.684 | Train Accuracy: 0.761 | Test Loss: 0.627 | Test Accuracy: 0.750\n"
     ]
    },
    {
     "name": "stderr",
     "output_type": "stream",
     "text": [
      "468it [01:10,  6.65it/s]\n"
     ]
    },
    {
     "name": "stdout",
     "output_type": "stream",
     "text": [
      "Epoch: 083/100 | Train Loss: 0.682 | Train Accuracy: 0.762 | Test Loss: 0.625 | Test Accuracy: 0.750\n"
     ]
    },
    {
     "name": "stderr",
     "output_type": "stream",
     "text": [
      "468it [01:10,  6.66it/s]\n"
     ]
    },
    {
     "name": "stdout",
     "output_type": "stream",
     "text": [
      "Epoch: 084/100 | Train Loss: 0.679 | Train Accuracy: 0.763 | Test Loss: 0.623 | Test Accuracy: 0.750\n"
     ]
    },
    {
     "name": "stderr",
     "output_type": "stream",
     "text": [
      "468it [01:10,  6.64it/s]\n"
     ]
    },
    {
     "name": "stdout",
     "output_type": "stream",
     "text": [
      "Epoch: 085/100 | Train Loss: 0.677 | Train Accuracy: 0.764 | Test Loss: 0.621 | Test Accuracy: 0.750\n"
     ]
    },
    {
     "name": "stderr",
     "output_type": "stream",
     "text": [
      "468it [01:09,  6.70it/s]\n"
     ]
    },
    {
     "name": "stdout",
     "output_type": "stream",
     "text": [
      "Epoch: 086/100 | Train Loss: 0.676 | Train Accuracy: 0.764 | Test Loss: 0.624 | Test Accuracy: 0.750\n"
     ]
    },
    {
     "name": "stderr",
     "output_type": "stream",
     "text": [
      "468it [01:09,  6.74it/s]\n"
     ]
    },
    {
     "name": "stdout",
     "output_type": "stream",
     "text": [
      "Epoch: 087/100 | Train Loss: 0.674 | Train Accuracy: 0.765 | Test Loss: 0.623 | Test Accuracy: 0.750\n"
     ]
    },
    {
     "name": "stderr",
     "output_type": "stream",
     "text": [
      "468it [01:10,  6.64it/s]\n"
     ]
    },
    {
     "name": "stdout",
     "output_type": "stream",
     "text": [
      "Epoch: 088/100 | Train Loss: 0.672 | Train Accuracy: 0.766 | Test Loss: 0.622 | Test Accuracy: 0.750\n"
     ]
    },
    {
     "name": "stderr",
     "output_type": "stream",
     "text": [
      "468it [01:10,  6.65it/s]\n"
     ]
    },
    {
     "name": "stdout",
     "output_type": "stream",
     "text": [
      "Epoch: 089/100 | Train Loss: 0.670 | Train Accuracy: 0.766 | Test Loss: 0.620 | Test Accuracy: 0.750\n"
     ]
    },
    {
     "name": "stderr",
     "output_type": "stream",
     "text": [
      "468it [01:10,  6.65it/s]\n"
     ]
    },
    {
     "name": "stdout",
     "output_type": "stream",
     "text": [
      "Epoch: 090/100 | Train Loss: 0.668 | Train Accuracy: 0.767 | Test Loss: 0.618 | Test Accuracy: 0.750\n"
     ]
    },
    {
     "name": "stderr",
     "output_type": "stream",
     "text": [
      "468it [01:10,  6.68it/s]\n"
     ]
    },
    {
     "name": "stdout",
     "output_type": "stream",
     "text": [
      "Epoch: 091/100 | Train Loss: 0.666 | Train Accuracy: 0.767 | Test Loss: 0.620 | Test Accuracy: 0.750\n"
     ]
    },
    {
     "name": "stderr",
     "output_type": "stream",
     "text": [
      "468it [01:10,  6.65it/s]\n"
     ]
    },
    {
     "name": "stdout",
     "output_type": "stream",
     "text": [
      "Epoch: 092/100 | Train Loss: 0.665 | Train Accuracy: 0.768 | Test Loss: 0.619 | Test Accuracy: 0.750\n"
     ]
    },
    {
     "name": "stderr",
     "output_type": "stream",
     "text": [
      "468it [01:10,  6.67it/s]\n"
     ]
    },
    {
     "name": "stdout",
     "output_type": "stream",
     "text": [
      "Epoch: 093/100 | Train Loss: 0.663 | Train Accuracy: 0.768 | Test Loss: 0.617 | Test Accuracy: 0.750\n"
     ]
    },
    {
     "name": "stderr",
     "output_type": "stream",
     "text": [
      "468it [01:10,  6.63it/s]\n"
     ]
    },
    {
     "name": "stdout",
     "output_type": "stream",
     "text": [
      "Epoch: 094/100 | Train Loss: 0.661 | Train Accuracy: 0.769 | Test Loss: 0.616 | Test Accuracy: 0.750\n"
     ]
    },
    {
     "name": "stderr",
     "output_type": "stream",
     "text": [
      "468it [01:10,  6.68it/s]\n"
     ]
    },
    {
     "name": "stdout",
     "output_type": "stream",
     "text": [
      "Epoch: 095/100 | Train Loss: 0.659 | Train Accuracy: 0.770 | Test Loss: 0.614 | Test Accuracy: 0.750\n"
     ]
    },
    {
     "name": "stderr",
     "output_type": "stream",
     "text": [
      "468it [01:10,  6.65it/s]\n"
     ]
    },
    {
     "name": "stdout",
     "output_type": "stream",
     "text": [
      "Epoch: 096/100 | Train Loss: 0.658 | Train Accuracy: 0.770 | Test Loss: 0.616 | Test Accuracy: 0.750\n"
     ]
    },
    {
     "name": "stderr",
     "output_type": "stream",
     "text": [
      "468it [01:09,  6.69it/s]\n"
     ]
    },
    {
     "name": "stdout",
     "output_type": "stream",
     "text": [
      "Epoch: 097/100 | Train Loss: 0.656 | Train Accuracy: 0.771 | Test Loss: 0.615 | Test Accuracy: 0.750\n"
     ]
    },
    {
     "name": "stderr",
     "output_type": "stream",
     "text": [
      "468it [01:09,  6.69it/s]\n"
     ]
    },
    {
     "name": "stdout",
     "output_type": "stream",
     "text": [
      "Epoch: 098/100 | Train Loss: 0.654 | Train Accuracy: 0.771 | Test Loss: 0.614 | Test Accuracy: 0.750\n"
     ]
    },
    {
     "name": "stderr",
     "output_type": "stream",
     "text": [
      "468it [01:09,  6.71it/s]\n"
     ]
    },
    {
     "name": "stdout",
     "output_type": "stream",
     "text": [
      "Epoch: 099/100 | Train Loss: 0.652 | Train Accuracy: 0.772 | Test Loss: 0.612 | Test Accuracy: 0.750\n"
     ]
    },
    {
     "name": "stderr",
     "output_type": "stream",
     "text": [
      "468it [01:09,  6.70it/s]\n"
     ]
    },
    {
     "name": "stdout",
     "output_type": "stream",
     "text": [
      "Epoch: 100/100 | Train Loss: 0.650 | Train Accuracy: 0.772 | Test Loss: 0.611 | Test Accuracy: 0.750\n"
     ]
    }
   ],
   "source": [
    "set_seed(0)\n",
    "args = Args()\n",
    "\n",
    "npf = NPF(args.input_size, args.output_size, args.num_neurons, args.size_committee, args.num_committees, args)\n",
    "npv = NPV(args.input_size, args.output_size, args.num_neurons, args.size_committee, args.num_committees, args)\n",
    "\n",
    "npf_opt = optim.SGD(npf.parameters(), lr=args.lr, weight_decay=0)\n",
    "npv_opt = optim.SGD(npv.parameters(), lr=args.lr, weight_decay=args.weight_decay)\n",
    "\n",
    "criterion = nn.CrossEntropyLoss()\n",
    "\n",
    "trainer = Trainer((train_data, test_data), (npf, npv), (npf_opt, npv_opt), criterion, args)\n",
    "trainer.train(args.max_epochs)"
   ]
  },
  {
   "cell_type": "code",
   "execution_count": null,
   "metadata": {},
   "outputs": [],
   "source": []
  }
 ],
 "metadata": {
  "kernelspec": {
   "display_name": "torch",
   "language": "python",
   "name": "python3"
  },
  "language_info": {
   "codemirror_mode": {
    "name": "ipython",
    "version": 3
   },
   "file_extension": ".py",
   "mimetype": "text/x-python",
   "name": "python",
   "nbconvert_exporter": "python",
   "pygments_lexer": "ipython3",
   "version": "3.8.17"
  }
 },
 "nbformat": 4,
 "nbformat_minor": 2
}
