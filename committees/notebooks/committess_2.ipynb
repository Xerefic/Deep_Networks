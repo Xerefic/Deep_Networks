{
 "cells": [
  {
   "cell_type": "code",
   "execution_count": 1,
   "metadata": {},
   "outputs": [],
   "source": [
    "import torch\n",
    "import torch.nn as nn\n",
    "import torch.nn.functional as F\n",
    "import torch.optim as optim\n",
    "from torchvision.datasets import FashionMNIST\n",
    "\n",
    "import random\n",
    "import copy\n",
    "import tqdm\n",
    "import numpy as np\n",
    "import matplotlib.pyplot as plt\n",
    "\n",
    "def set_seed(seed):\n",
    "    torch.manual_seed(seed)\n",
    "    random.seed(seed)\n",
    "    np.random.seed(seed)"
   ]
  },
  {
   "cell_type": "code",
   "execution_count": 2,
   "metadata": {},
   "outputs": [],
   "source": [
    "class Args():\n",
    "    device = 'cpu'\n",
    "    # device = torch.device('mps' if torch.backends.mps.is_available() else 'cuda' if torch.cuda.is_available() else 'cpu')\n",
    "\n",
    "    input_size = 784\n",
    "    output_size = 10\n",
    "    num_neurons = 50\n",
    "    num_committees = 500\n",
    "    size_committee = 5\n",
    "\n",
    "    batch_size = 128\n",
    "    lr = 1e-2\n",
    "    weight_decay = 1e-5\n",
    "    max_epochs = 100"
   ]
  },
  {
   "cell_type": "code",
   "execution_count": 3,
   "metadata": {},
   "outputs": [],
   "source": [
    "train_data = FashionMNIST(root='./data', train=True, download=False)\n",
    "test_data = FashionMNIST(root='./data', train=False, download=False)\n",
    "\n",
    "X_train = train_data.data.unsqueeze(1).float().flatten(start_dim=1)/255\n",
    "X_test = test_data.data.unsqueeze(1).float().flatten(start_dim=1)/255\n",
    "\n",
    "y_train = F.one_hot(train_data.targets).float()\n",
    "y_test = F.one_hot(test_data.targets).float()\n",
    "\n",
    "train_data = torch.utils.data.TensorDataset(X_train, y_train)\n",
    "test_data = torch.utils.data.TensorDataset(X_test, y_test)"
   ]
  },
  {
   "cell_type": "code",
   "execution_count": 4,
   "metadata": {},
   "outputs": [],
   "source": [
    "class NPF(nn.Module):\n",
    "\n",
    "    def __init__(self, input_size, output_size, num_neurons, size_committee, num_committees, args):\n",
    "        super().__init__()\n",
    "        self.args = args\n",
    "        self.input_size = input_size\n",
    "        self.output_size = output_size\n",
    "        self.num_neurons = num_neurons\n",
    "        self.num_committees = num_committees\n",
    "\n",
    "        self.neurons = nn.ModuleList([nn.Linear(input_size, output_size, bias=False) for i in range(num_neurons)])\n",
    "        self.npf = []\n",
    "        for i in range(num_committees):\n",
    "            while True:\n",
    "                choice = torch.randint(0, num_neurons, size=(size_committee,))\n",
    "                if len(torch.unique(choice)) == size_committee:\n",
    "                    break\n",
    "            self.npf.append(choice.tolist())\n",
    "\n",
    "        self.init('gaussian')\n",
    "\n",
    "        self.sigmoid = nn.Sigmoid()\n",
    "\n",
    "    def init(self, type):\n",
    "        if not hasattr(self, 'type'):\n",
    "            self.type = type\n",
    "        else:\n",
    "            self.type = 'gaussian'\n",
    "\n",
    "        if self.type == 'gaussian':\n",
    "            for i in range(self.num_neurons):\n",
    "                nn.init.normal_(self.neurons[i].weight, mean=0.0, std=1.0)\n",
    "        else:\n",
    "            raise NotImplementedError \n",
    "\n",
    "    def forward(self, x):\n",
    "        z = torch.zeros((x.shape[0], self.num_committees, self.output_size)).to(self.args.device)\n",
    "        for i in range(self.num_committees):\n",
    "            z[:, i] = torch.prod(torch.stack([self.sigmoid(x @ self.neurons[self.npf[i][j]].weight.T) for j in range(len(self.npf[i]))]), dim=0).squeeze(1)\n",
    "        return z\n",
    "    \n",
    "class NPV(nn.Module):\n",
    "\n",
    "    def __init__(self, input_size, output_size, num_neurons, size_committee, num_committees, args):\n",
    "        super().__init__()\n",
    "        self.args = args\n",
    "        self.input_size = input_size\n",
    "        self.output_size = output_size\n",
    "        self.num_neurons = num_neurons\n",
    "        self.num_committees = num_committees\n",
    "\n",
    "        self.npv = nn.Linear(num_committees, 1, bias=False)\n",
    "\n",
    "        self.init('gaussian')\n",
    "\n",
    "    def init(self, type):\n",
    "        if not hasattr(self, 'type'):\n",
    "            self.type = type\n",
    "        else:\n",
    "            self.type = 'gaussian'\n",
    "\n",
    "        if self.type == 'gaussian':\n",
    "            nn.init.normal_(self.npv.weight, mean=0.0, std=1.0)\n",
    "        else:\n",
    "            raise NotImplementedError \n",
    "\n",
    "    def forward(self, z):\n",
    "        z = self.npv(z.permute(0, 2, 1)) \n",
    "        return z.squeeze(-1)\n"
   ]
  },
  {
   "cell_type": "code",
   "execution_count": 5,
   "metadata": {},
   "outputs": [],
   "source": [
    "class Trainer():\n",
    "\n",
    "    def __init__(self, data, models, optimzers, criterion, args):\n",
    "        self.args = args\n",
    "        \n",
    "        self.traindata, self.testdata = data\n",
    "        self.trainloader = torch.utils.data.DataLoader(self.traindata, batch_size=self.args.batch_size, shuffle=True, drop_last=True)\n",
    "        self.testloader = torch.utils.data.DataLoader(self.testdata, batch_size=self.args.batch_size, shuffle=False, drop_last=False)\n",
    "\n",
    "        self.npf, self.npv = models\n",
    "        self.npf, self.npv = self.npf.to(self.args.device), self.npv.to(self.args.device)\n",
    "        self.npf_opt, self.npv_opt = optimzers\n",
    "        self.criterion = criterion\n",
    "\n",
    "        self.loss = []\n",
    "        self.accuracy = []\n",
    "\n",
    "    def train_epoch(self, step):\n",
    "        \n",
    "\n",
    "        train_loss = 0\n",
    "        train_accuracy = 0\n",
    "\n",
    "        for idx, (x, y) in tqdm.tqdm(enumerate(self.trainloader)):\n",
    "            self.npf.train()\n",
    "            self.npv.train()\n",
    "            x = x.to(self.args.device)\n",
    "            y = y.to(self.args.device)\n",
    "\n",
    "            self.npf_opt.zero_grad()\n",
    "            self.npv_opt.zero_grad()\n",
    "\n",
    "            if step%5 != 0:\n",
    "                z = self.npf(x)\n",
    "                y_pred = self.npv(z)\n",
    "                loss = self.criterion(y_pred, y)\n",
    "                loss.backward()\n",
    "                self.npf_opt.step()\n",
    "\n",
    "            if step%5 == 0:\n",
    "                z = self.npf(x)\n",
    "                y_pred = self.npv(z)\n",
    "                loss = self.criterion(y_pred, y)\n",
    "                loss.backward()\n",
    "                self.npv_opt.step()\n",
    "\n",
    "            self.npf.eval()\n",
    "            self.npv.eval()\n",
    "            with torch.no_grad():\n",
    "                z = self.npf(x)\n",
    "                y_pred = self.npv(z)\n",
    "                loss = self.criterion(y_pred, y)\n",
    "                accuracy = (y_pred.argmax(dim=1) == y.argmax(dim=1)).float().mean()\n",
    "\n",
    "            train_loss += loss.item()/len(self.trainloader)\n",
    "            train_accuracy += accuracy.item()/len(self.trainloader)\n",
    "\n",
    "        return train_loss, train_accuracy\n",
    "    \n",
    "    def test(self):\n",
    "        self.npf.eval()\n",
    "        self.npv.eval()\n",
    "        test_loss = 0\n",
    "        test_accuracy = 0\n",
    "        for idx, (x, y) in enumerate(self.testloader):\n",
    "            x = x.to(self.args.device)\n",
    "            y = y.to(self.args.device)\n",
    "\n",
    "            with torch.no_grad():\n",
    "                z = self.npf(x)\n",
    "                y_pred = self.npv(z)\n",
    "                loss = self.criterion(y_pred, y)\n",
    "                accuracy = (y_pred.argmax(dim=1) == y.argmax(dim=1)).float().mean()\n",
    "\n",
    "            test_loss += loss.item()/len(self.testloader)\n",
    "            test_accuracy += accuracy.item()/len(self.testloader)\n",
    "        \n",
    "        return loss.item(), accuracy.item()\n",
    "    \n",
    "    def train(self, epochs):\n",
    "        for epoch in range(epochs):\n",
    "            train_loss, train_accuracy = self.train_epoch(epoch)\n",
    "            self.loss.append(train_loss)\n",
    "            self.accuracy.append(train_accuracy)\n",
    "\n",
    "            test_loss, test_accuracy = self.test()\n",
    "\n",
    "            print(f'Epoch: {epoch+1:03d}/{epochs:03d} | Train Loss: {train_loss:.3f} | Train Accuracy: {train_accuracy:.3f} | Test Loss: {test_loss:.3f} | Test Accuracy: {test_accuracy:.3f}')\n",
    "        "
   ]
  },
  {
   "cell_type": "code",
   "execution_count": 6,
   "metadata": {},
   "outputs": [
    {
     "name": "stderr",
     "output_type": "stream",
     "text": [
      "0it [00:00, ?it/s]"
     ]
    },
    {
     "name": "stderr",
     "output_type": "stream",
     "text": [
      "468it [02:31,  3.09it/s]\n"
     ]
    },
    {
     "name": "stdout",
     "output_type": "stream",
     "text": [
      "Epoch: 001/100 | Train Loss: 5.024 | Train Accuracy: 0.108 | Test Loss: 5.826 | Test Accuracy: 0.062\n"
     ]
    },
    {
     "name": "stderr",
     "output_type": "stream",
     "text": [
      "468it [02:31,  3.09it/s]\n"
     ]
    },
    {
     "name": "stdout",
     "output_type": "stream",
     "text": [
      "Epoch: 002/100 | Train Loss: 3.206 | Train Accuracy: 0.224 | Test Loss: 3.738 | Test Accuracy: 0.250\n"
     ]
    },
    {
     "name": "stderr",
     "output_type": "stream",
     "text": [
      "468it [02:32,  3.07it/s]\n"
     ]
    },
    {
     "name": "stdout",
     "output_type": "stream",
     "text": [
      "Epoch: 003/100 | Train Loss: 2.189 | Train Accuracy: 0.375 | Test Loss: 2.859 | Test Accuracy: 0.312\n"
     ]
    },
    {
     "name": "stderr",
     "output_type": "stream",
     "text": [
      "468it [02:31,  3.10it/s]\n"
     ]
    },
    {
     "name": "stdout",
     "output_type": "stream",
     "text": [
      "Epoch: 004/100 | Train Loss: 1.825 | Train Accuracy: 0.451 | Test Loss: 2.465 | Test Accuracy: 0.500\n"
     ]
    },
    {
     "name": "stderr",
     "output_type": "stream",
     "text": [
      "468it [02:30,  3.11it/s]\n"
     ]
    },
    {
     "name": "stdout",
     "output_type": "stream",
     "text": [
      "Epoch: 005/100 | Train Loss: 1.637 | Train Accuracy: 0.497 | Test Loss: 2.266 | Test Accuracy: 0.500\n"
     ]
    },
    {
     "name": "stderr",
     "output_type": "stream",
     "text": [
      "468it [02:31,  3.09it/s]\n"
     ]
    },
    {
     "name": "stdout",
     "output_type": "stream",
     "text": [
      "Epoch: 006/100 | Train Loss: 1.541 | Train Accuracy: 0.521 | Test Loss: 2.172 | Test Accuracy: 0.500\n"
     ]
    },
    {
     "name": "stderr",
     "output_type": "stream",
     "text": [
      "468it [02:30,  3.10it/s]\n"
     ]
    },
    {
     "name": "stdout",
     "output_type": "stream",
     "text": [
      "Epoch: 007/100 | Train Loss: 1.465 | Train Accuracy: 0.541 | Test Loss: 2.041 | Test Accuracy: 0.500\n"
     ]
    },
    {
     "name": "stderr",
     "output_type": "stream",
     "text": [
      "468it [02:30,  3.11it/s]\n"
     ]
    },
    {
     "name": "stdout",
     "output_type": "stream",
     "text": [
      "Epoch: 008/100 | Train Loss: 1.384 | Train Accuracy: 0.563 | Test Loss: 1.944 | Test Accuracy: 0.500\n"
     ]
    },
    {
     "name": "stderr",
     "output_type": "stream",
     "text": [
      "468it [02:30,  3.11it/s]\n"
     ]
    },
    {
     "name": "stdout",
     "output_type": "stream",
     "text": [
      "Epoch: 009/100 | Train Loss: 1.320 | Train Accuracy: 0.582 | Test Loss: 1.866 | Test Accuracy: 0.500\n"
     ]
    },
    {
     "name": "stderr",
     "output_type": "stream",
     "text": [
      "468it [02:31,  3.09it/s]\n"
     ]
    },
    {
     "name": "stdout",
     "output_type": "stream",
     "text": [
      "Epoch: 010/100 | Train Loss: 1.268 | Train Accuracy: 0.597 | Test Loss: 1.797 | Test Accuracy: 0.500\n"
     ]
    },
    {
     "name": "stderr",
     "output_type": "stream",
     "text": [
      "468it [02:31,  3.09it/s]\n"
     ]
    },
    {
     "name": "stdout",
     "output_type": "stream",
     "text": [
      "Epoch: 011/100 | Train Loss: 1.235 | Train Accuracy: 0.606 | Test Loss: 1.753 | Test Accuracy: 0.500\n"
     ]
    },
    {
     "name": "stderr",
     "output_type": "stream",
     "text": [
      "468it [02:31,  3.10it/s]\n"
     ]
    },
    {
     "name": "stdout",
     "output_type": "stream",
     "text": [
      "Epoch: 012/100 | Train Loss: 1.205 | Train Accuracy: 0.614 | Test Loss: 1.693 | Test Accuracy: 0.500\n"
     ]
    },
    {
     "name": "stderr",
     "output_type": "stream",
     "text": [
      "468it [02:31,  3.09it/s]\n"
     ]
    },
    {
     "name": "stdout",
     "output_type": "stream",
     "text": [
      "Epoch: 013/100 | Train Loss: 1.169 | Train Accuracy: 0.625 | Test Loss: 1.640 | Test Accuracy: 0.500\n"
     ]
    },
    {
     "name": "stderr",
     "output_type": "stream",
     "text": [
      "468it [02:29,  3.12it/s]\n"
     ]
    },
    {
     "name": "stdout",
     "output_type": "stream",
     "text": [
      "Epoch: 014/100 | Train Loss: 1.138 | Train Accuracy: 0.634 | Test Loss: 1.592 | Test Accuracy: 0.500\n"
     ]
    },
    {
     "name": "stderr",
     "output_type": "stream",
     "text": [
      "468it [02:24,  3.23it/s]\n"
     ]
    },
    {
     "name": "stdout",
     "output_type": "stream",
     "text": [
      "Epoch: 015/100 | Train Loss: 1.110 | Train Accuracy: 0.641 | Test Loss: 1.547 | Test Accuracy: 0.562\n"
     ]
    },
    {
     "name": "stderr",
     "output_type": "stream",
     "text": [
      "468it [02:20,  3.32it/s]\n"
     ]
    },
    {
     "name": "stdout",
     "output_type": "stream",
     "text": [
      "Epoch: 016/100 | Train Loss: 1.092 | Train Accuracy: 0.647 | Test Loss: 1.518 | Test Accuracy: 0.562\n"
     ]
    },
    {
     "name": "stderr",
     "output_type": "stream",
     "text": [
      "468it [02:21,  3.30it/s]\n"
     ]
    },
    {
     "name": "stdout",
     "output_type": "stream",
     "text": [
      "Epoch: 017/100 | Train Loss: 1.073 | Train Accuracy: 0.652 | Test Loss: 1.475 | Test Accuracy: 0.562\n"
     ]
    },
    {
     "name": "stderr",
     "output_type": "stream",
     "text": [
      "468it [02:22,  3.29it/s]\n"
     ]
    },
    {
     "name": "stdout",
     "output_type": "stream",
     "text": [
      "Epoch: 018/100 | Train Loss: 1.051 | Train Accuracy: 0.658 | Test Loss: 1.436 | Test Accuracy: 0.562\n"
     ]
    },
    {
     "name": "stderr",
     "output_type": "stream",
     "text": [
      "468it [02:22,  3.29it/s]\n"
     ]
    },
    {
     "name": "stdout",
     "output_type": "stream",
     "text": [
      "Epoch: 019/100 | Train Loss: 1.031 | Train Accuracy: 0.664 | Test Loss: 1.399 | Test Accuracy: 0.562\n"
     ]
    },
    {
     "name": "stderr",
     "output_type": "stream",
     "text": [
      "468it [02:22,  3.29it/s]\n"
     ]
    },
    {
     "name": "stdout",
     "output_type": "stream",
     "text": [
      "Epoch: 020/100 | Train Loss: 1.014 | Train Accuracy: 0.669 | Test Loss: 1.365 | Test Accuracy: 0.562\n"
     ]
    },
    {
     "name": "stderr",
     "output_type": "stream",
     "text": [
      "468it [02:21,  3.30it/s]\n"
     ]
    },
    {
     "name": "stdout",
     "output_type": "stream",
     "text": [
      "Epoch: 021/100 | Train Loss: 1.002 | Train Accuracy: 0.672 | Test Loss: 1.343 | Test Accuracy: 0.562\n"
     ]
    },
    {
     "name": "stderr",
     "output_type": "stream",
     "text": [
      "468it [02:22,  3.29it/s]\n"
     ]
    },
    {
     "name": "stdout",
     "output_type": "stream",
     "text": [
      "Epoch: 022/100 | Train Loss: 0.989 | Train Accuracy: 0.676 | Test Loss: 1.309 | Test Accuracy: 0.562\n"
     ]
    },
    {
     "name": "stderr",
     "output_type": "stream",
     "text": [
      "468it [02:21,  3.30it/s]\n"
     ]
    },
    {
     "name": "stdout",
     "output_type": "stream",
     "text": [
      "Epoch: 023/100 | Train Loss: 0.974 | Train Accuracy: 0.679 | Test Loss: 1.278 | Test Accuracy: 0.562\n"
     ]
    },
    {
     "name": "stderr",
     "output_type": "stream",
     "text": [
      "468it [02:20,  3.33it/s]\n"
     ]
    },
    {
     "name": "stdout",
     "output_type": "stream",
     "text": [
      "Epoch: 024/100 | Train Loss: 0.960 | Train Accuracy: 0.683 | Test Loss: 1.249 | Test Accuracy: 0.562\n"
     ]
    },
    {
     "name": "stderr",
     "output_type": "stream",
     "text": [
      "468it [02:21,  3.31it/s]\n"
     ]
    },
    {
     "name": "stdout",
     "output_type": "stream",
     "text": [
      "Epoch: 025/100 | Train Loss: 0.947 | Train Accuracy: 0.687 | Test Loss: 1.221 | Test Accuracy: 0.562\n"
     ]
    },
    {
     "name": "stderr",
     "output_type": "stream",
     "text": [
      "468it [02:21,  3.31it/s]\n"
     ]
    },
    {
     "name": "stdout",
     "output_type": "stream",
     "text": [
      "Epoch: 026/100 | Train Loss: 0.938 | Train Accuracy: 0.689 | Test Loss: 1.205 | Test Accuracy: 0.562\n"
     ]
    },
    {
     "name": "stderr",
     "output_type": "stream",
     "text": [
      "468it [02:21,  3.32it/s]\n"
     ]
    },
    {
     "name": "stdout",
     "output_type": "stream",
     "text": [
      "Epoch: 027/100 | Train Loss: 0.929 | Train Accuracy: 0.692 | Test Loss: 1.177 | Test Accuracy: 0.625\n"
     ]
    },
    {
     "name": "stderr",
     "output_type": "stream",
     "text": [
      "468it [02:21,  3.31it/s]\n"
     ]
    },
    {
     "name": "stdout",
     "output_type": "stream",
     "text": [
      "Epoch: 028/100 | Train Loss: 0.918 | Train Accuracy: 0.695 | Test Loss: 1.150 | Test Accuracy: 0.625\n"
     ]
    },
    {
     "name": "stderr",
     "output_type": "stream",
     "text": [
      "468it [02:21,  3.31it/s]\n"
     ]
    },
    {
     "name": "stdout",
     "output_type": "stream",
     "text": [
      "Epoch: 029/100 | Train Loss: 0.907 | Train Accuracy: 0.698 | Test Loss: 1.124 | Test Accuracy: 0.625\n"
     ]
    },
    {
     "name": "stderr",
     "output_type": "stream",
     "text": [
      "468it [02:21,  3.32it/s]\n"
     ]
    },
    {
     "name": "stdout",
     "output_type": "stream",
     "text": [
      "Epoch: 030/100 | Train Loss: 0.897 | Train Accuracy: 0.701 | Test Loss: 1.098 | Test Accuracy: 0.625\n"
     ]
    },
    {
     "name": "stderr",
     "output_type": "stream",
     "text": [
      "468it [06:53,  1.13it/s]\n"
     ]
    },
    {
     "name": "stdout",
     "output_type": "stream",
     "text": [
      "Epoch: 031/100 | Train Loss: 0.891 | Train Accuracy: 0.703 | Test Loss: 1.085 | Test Accuracy: 0.625\n"
     ]
    },
    {
     "name": "stderr",
     "output_type": "stream",
     "text": [
      "468it [02:22,  3.29it/s]\n"
     ]
    },
    {
     "name": "stdout",
     "output_type": "stream",
     "text": [
      "Epoch: 032/100 | Train Loss: 0.883 | Train Accuracy: 0.705 | Test Loss: 1.060 | Test Accuracy: 0.625\n"
     ]
    },
    {
     "name": "stderr",
     "output_type": "stream",
     "text": [
      "468it [02:22,  3.28it/s]\n"
     ]
    },
    {
     "name": "stdout",
     "output_type": "stream",
     "text": [
      "Epoch: 033/100 | Train Loss: 0.875 | Train Accuracy: 0.707 | Test Loss: 1.035 | Test Accuracy: 0.625\n"
     ]
    },
    {
     "name": "stderr",
     "output_type": "stream",
     "text": [
      "468it [02:22,  3.29it/s]\n"
     ]
    },
    {
     "name": "stdout",
     "output_type": "stream",
     "text": [
      "Epoch: 034/100 | Train Loss: 0.866 | Train Accuracy: 0.709 | Test Loss: 1.012 | Test Accuracy: 0.625\n"
     ]
    },
    {
     "name": "stderr",
     "output_type": "stream",
     "text": [
      "468it [02:22,  3.29it/s]\n"
     ]
    },
    {
     "name": "stdout",
     "output_type": "stream",
     "text": [
      "Epoch: 035/100 | Train Loss: 0.858 | Train Accuracy: 0.712 | Test Loss: 0.989 | Test Accuracy: 0.625\n"
     ]
    },
    {
     "name": "stderr",
     "output_type": "stream",
     "text": [
      "468it [02:22,  3.29it/s]\n"
     ]
    },
    {
     "name": "stdout",
     "output_type": "stream",
     "text": [
      "Epoch: 036/100 | Train Loss: 0.853 | Train Accuracy: 0.713 | Test Loss: 0.979 | Test Accuracy: 0.625\n"
     ]
    },
    {
     "name": "stderr",
     "output_type": "stream",
     "text": [
      "468it [02:22,  3.28it/s]\n"
     ]
    },
    {
     "name": "stdout",
     "output_type": "stream",
     "text": [
      "Epoch: 037/100 | Train Loss: 0.847 | Train Accuracy: 0.715 | Test Loss: 0.957 | Test Accuracy: 0.625\n"
     ]
    },
    {
     "name": "stderr",
     "output_type": "stream",
     "text": [
      "468it [02:22,  3.29it/s]\n"
     ]
    },
    {
     "name": "stdout",
     "output_type": "stream",
     "text": [
      "Epoch: 038/100 | Train Loss: 0.840 | Train Accuracy: 0.717 | Test Loss: 0.936 | Test Accuracy: 0.625\n"
     ]
    },
    {
     "name": "stderr",
     "output_type": "stream",
     "text": [
      "468it [02:20,  3.32it/s]\n"
     ]
    },
    {
     "name": "stdout",
     "output_type": "stream",
     "text": [
      "Epoch: 039/100 | Train Loss: 0.833 | Train Accuracy: 0.719 | Test Loss: 0.917 | Test Accuracy: 0.688\n"
     ]
    },
    {
     "name": "stderr",
     "output_type": "stream",
     "text": [
      "468it [02:20,  3.33it/s]\n"
     ]
    },
    {
     "name": "stdout",
     "output_type": "stream",
     "text": [
      "Epoch: 040/100 | Train Loss: 0.827 | Train Accuracy: 0.721 | Test Loss: 0.898 | Test Accuracy: 0.688\n"
     ]
    },
    {
     "name": "stderr",
     "output_type": "stream",
     "text": [
      "468it [02:20,  3.34it/s]\n"
     ]
    },
    {
     "name": "stdout",
     "output_type": "stream",
     "text": [
      "Epoch: 041/100 | Train Loss: 0.822 | Train Accuracy: 0.722 | Test Loss: 0.889 | Test Accuracy: 0.688\n"
     ]
    },
    {
     "name": "stderr",
     "output_type": "stream",
     "text": [
      "468it [02:20,  3.33it/s]\n"
     ]
    },
    {
     "name": "stdout",
     "output_type": "stream",
     "text": [
      "Epoch: 042/100 | Train Loss: 0.817 | Train Accuracy: 0.723 | Test Loss: 0.871 | Test Accuracy: 0.688\n"
     ]
    },
    {
     "name": "stderr",
     "output_type": "stream",
     "text": [
      "468it [02:20,  3.33it/s]\n"
     ]
    },
    {
     "name": "stdout",
     "output_type": "stream",
     "text": [
      "Epoch: 043/100 | Train Loss: 0.811 | Train Accuracy: 0.725 | Test Loss: 0.856 | Test Accuracy: 0.688\n"
     ]
    },
    {
     "name": "stderr",
     "output_type": "stream",
     "text": [
      "468it [02:20,  3.33it/s]\n"
     ]
    },
    {
     "name": "stdout",
     "output_type": "stream",
     "text": [
      "Epoch: 044/100 | Train Loss: 0.805 | Train Accuracy: 0.726 | Test Loss: 0.840 | Test Accuracy: 0.688\n"
     ]
    },
    {
     "name": "stderr",
     "output_type": "stream",
     "text": [
      "468it [02:20,  3.34it/s]\n"
     ]
    },
    {
     "name": "stdout",
     "output_type": "stream",
     "text": [
      "Epoch: 045/100 | Train Loss: 0.800 | Train Accuracy: 0.729 | Test Loss: 0.826 | Test Accuracy: 0.688\n"
     ]
    },
    {
     "name": "stderr",
     "output_type": "stream",
     "text": [
      "468it [02:21,  3.30it/s]\n"
     ]
    },
    {
     "name": "stdout",
     "output_type": "stream",
     "text": [
      "Epoch: 046/100 | Train Loss: 0.796 | Train Accuracy: 0.730 | Test Loss: 0.818 | Test Accuracy: 0.688\n"
     ]
    },
    {
     "name": "stderr",
     "output_type": "stream",
     "text": [
      "468it [02:22,  3.29it/s]\n"
     ]
    },
    {
     "name": "stdout",
     "output_type": "stream",
     "text": [
      "Epoch: 047/100 | Train Loss: 0.791 | Train Accuracy: 0.730 | Test Loss: 0.805 | Test Accuracy: 0.688\n"
     ]
    },
    {
     "name": "stderr",
     "output_type": "stream",
     "text": [
      "468it [02:21,  3.30it/s]\n"
     ]
    },
    {
     "name": "stdout",
     "output_type": "stream",
     "text": [
      "Epoch: 048/100 | Train Loss: 0.786 | Train Accuracy: 0.732 | Test Loss: 0.792 | Test Accuracy: 0.688\n"
     ]
    },
    {
     "name": "stderr",
     "output_type": "stream",
     "text": [
      "468it [02:22,  3.30it/s]\n"
     ]
    },
    {
     "name": "stdout",
     "output_type": "stream",
     "text": [
      "Epoch: 049/100 | Train Loss: 0.781 | Train Accuracy: 0.734 | Test Loss: 0.781 | Test Accuracy: 0.688\n"
     ]
    },
    {
     "name": "stderr",
     "output_type": "stream",
     "text": [
      "468it [02:21,  3.31it/s]\n"
     ]
    },
    {
     "name": "stdout",
     "output_type": "stream",
     "text": [
      "Epoch: 050/100 | Train Loss: 0.776 | Train Accuracy: 0.735 | Test Loss: 0.770 | Test Accuracy: 0.688\n"
     ]
    },
    {
     "name": "stderr",
     "output_type": "stream",
     "text": [
      "468it [02:20,  3.33it/s]\n"
     ]
    },
    {
     "name": "stdout",
     "output_type": "stream",
     "text": [
      "Epoch: 051/100 | Train Loss: 0.773 | Train Accuracy: 0.736 | Test Loss: 0.763 | Test Accuracy: 0.688\n"
     ]
    },
    {
     "name": "stderr",
     "output_type": "stream",
     "text": [
      "468it [02:20,  3.33it/s]\n"
     ]
    },
    {
     "name": "stdout",
     "output_type": "stream",
     "text": [
      "Epoch: 052/100 | Train Loss: 0.769 | Train Accuracy: 0.738 | Test Loss: 0.752 | Test Accuracy: 0.688\n"
     ]
    },
    {
     "name": "stderr",
     "output_type": "stream",
     "text": [
      "468it [02:20,  3.33it/s]\n"
     ]
    },
    {
     "name": "stdout",
     "output_type": "stream",
     "text": [
      "Epoch: 053/100 | Train Loss: 0.765 | Train Accuracy: 0.739 | Test Loss: 0.742 | Test Accuracy: 0.688\n"
     ]
    },
    {
     "name": "stderr",
     "output_type": "stream",
     "text": [
      "468it [02:20,  3.33it/s]\n"
     ]
    },
    {
     "name": "stdout",
     "output_type": "stream",
     "text": [
      "Epoch: 054/100 | Train Loss: 0.760 | Train Accuracy: 0.741 | Test Loss: 0.733 | Test Accuracy: 0.688\n"
     ]
    },
    {
     "name": "stderr",
     "output_type": "stream",
     "text": [
      "468it [02:20,  3.33it/s]\n"
     ]
    },
    {
     "name": "stdout",
     "output_type": "stream",
     "text": [
      "Epoch: 055/100 | Train Loss: 0.756 | Train Accuracy: 0.742 | Test Loss: 0.724 | Test Accuracy: 0.688\n"
     ]
    },
    {
     "name": "stderr",
     "output_type": "stream",
     "text": [
      "468it [02:21,  3.32it/s]\n"
     ]
    },
    {
     "name": "stdout",
     "output_type": "stream",
     "text": [
      "Epoch: 056/100 | Train Loss: 0.753 | Train Accuracy: 0.743 | Test Loss: 0.718 | Test Accuracy: 0.688\n"
     ]
    },
    {
     "name": "stderr",
     "output_type": "stream",
     "text": [
      "468it [02:20,  3.32it/s]\n"
     ]
    },
    {
     "name": "stdout",
     "output_type": "stream",
     "text": [
      "Epoch: 057/100 | Train Loss: 0.749 | Train Accuracy: 0.744 | Test Loss: 0.710 | Test Accuracy: 0.688\n"
     ]
    },
    {
     "name": "stderr",
     "output_type": "stream",
     "text": [
      "468it [02:20,  3.32it/s]\n"
     ]
    },
    {
     "name": "stdout",
     "output_type": "stream",
     "text": [
      "Epoch: 058/100 | Train Loss: 0.745 | Train Accuracy: 0.745 | Test Loss: 0.701 | Test Accuracy: 0.688\n"
     ]
    },
    {
     "name": "stderr",
     "output_type": "stream",
     "text": [
      "468it [02:20,  3.33it/s]\n"
     ]
    },
    {
     "name": "stdout",
     "output_type": "stream",
     "text": [
      "Epoch: 059/100 | Train Loss: 0.741 | Train Accuracy: 0.746 | Test Loss: 0.694 | Test Accuracy: 0.688\n"
     ]
    },
    {
     "name": "stderr",
     "output_type": "stream",
     "text": [
      "468it [02:21,  3.30it/s]\n"
     ]
    },
    {
     "name": "stdout",
     "output_type": "stream",
     "text": [
      "Epoch: 060/100 | Train Loss: 0.738 | Train Accuracy: 0.747 | Test Loss: 0.687 | Test Accuracy: 0.688\n"
     ]
    },
    {
     "name": "stderr",
     "output_type": "stream",
     "text": [
      "468it [02:20,  3.32it/s]\n"
     ]
    },
    {
     "name": "stdout",
     "output_type": "stream",
     "text": [
      "Epoch: 061/100 | Train Loss: 0.735 | Train Accuracy: 0.748 | Test Loss: 0.682 | Test Accuracy: 0.688\n"
     ]
    },
    {
     "name": "stderr",
     "output_type": "stream",
     "text": [
      "468it [02:20,  3.33it/s]\n"
     ]
    },
    {
     "name": "stdout",
     "output_type": "stream",
     "text": [
      "Epoch: 062/100 | Train Loss: 0.733 | Train Accuracy: 0.748 | Test Loss: 0.675 | Test Accuracy: 0.688\n"
     ]
    },
    {
     "name": "stderr",
     "output_type": "stream",
     "text": [
      "468it [02:20,  3.32it/s]\n"
     ]
    },
    {
     "name": "stdout",
     "output_type": "stream",
     "text": [
      "Epoch: 063/100 | Train Loss: 0.729 | Train Accuracy: 0.749 | Test Loss: 0.669 | Test Accuracy: 0.688\n"
     ]
    },
    {
     "name": "stderr",
     "output_type": "stream",
     "text": [
      "468it [02:20,  3.32it/s]\n"
     ]
    },
    {
     "name": "stdout",
     "output_type": "stream",
     "text": [
      "Epoch: 064/100 | Train Loss: 0.725 | Train Accuracy: 0.750 | Test Loss: 0.662 | Test Accuracy: 0.688\n"
     ]
    },
    {
     "name": "stderr",
     "output_type": "stream",
     "text": [
      "468it [02:20,  3.33it/s]\n"
     ]
    },
    {
     "name": "stdout",
     "output_type": "stream",
     "text": [
      "Epoch: 065/100 | Train Loss: 0.722 | Train Accuracy: 0.751 | Test Loss: 0.656 | Test Accuracy: 0.688\n"
     ]
    },
    {
     "name": "stderr",
     "output_type": "stream",
     "text": [
      "468it [02:21,  3.31it/s]\n"
     ]
    },
    {
     "name": "stdout",
     "output_type": "stream",
     "text": [
      "Epoch: 066/100 | Train Loss: 0.720 | Train Accuracy: 0.752 | Test Loss: 0.651 | Test Accuracy: 0.688\n"
     ]
    },
    {
     "name": "stderr",
     "output_type": "stream",
     "text": [
      "468it [02:21,  3.31it/s]\n"
     ]
    },
    {
     "name": "stdout",
     "output_type": "stream",
     "text": [
      "Epoch: 067/100 | Train Loss: 0.717 | Train Accuracy: 0.753 | Test Loss: 0.646 | Test Accuracy: 0.688\n"
     ]
    },
    {
     "name": "stderr",
     "output_type": "stream",
     "text": [
      "468it [02:22,  3.27it/s]\n"
     ]
    },
    {
     "name": "stdout",
     "output_type": "stream",
     "text": [
      "Epoch: 068/100 | Train Loss: 0.714 | Train Accuracy: 0.754 | Test Loss: 0.641 | Test Accuracy: 0.688\n"
     ]
    },
    {
     "name": "stderr",
     "output_type": "stream",
     "text": [
      "468it [02:22,  3.29it/s]\n"
     ]
    },
    {
     "name": "stdout",
     "output_type": "stream",
     "text": [
      "Epoch: 069/100 | Train Loss: 0.711 | Train Accuracy: 0.755 | Test Loss: 0.636 | Test Accuracy: 0.688\n"
     ]
    },
    {
     "name": "stderr",
     "output_type": "stream",
     "text": [
      "468it [02:21,  3.30it/s]\n"
     ]
    },
    {
     "name": "stdout",
     "output_type": "stream",
     "text": [
      "Epoch: 070/100 | Train Loss: 0.708 | Train Accuracy: 0.756 | Test Loss: 0.631 | Test Accuracy: 0.750\n"
     ]
    },
    {
     "name": "stderr",
     "output_type": "stream",
     "text": [
      "468it [02:22,  3.29it/s]\n"
     ]
    },
    {
     "name": "stdout",
     "output_type": "stream",
     "text": [
      "Epoch: 071/100 | Train Loss: 0.706 | Train Accuracy: 0.756 | Test Loss: 0.627 | Test Accuracy: 0.750\n"
     ]
    },
    {
     "name": "stderr",
     "output_type": "stream",
     "text": [
      "468it [02:21,  3.30it/s]\n"
     ]
    },
    {
     "name": "stdout",
     "output_type": "stream",
     "text": [
      "Epoch: 072/100 | Train Loss: 0.704 | Train Accuracy: 0.757 | Test Loss: 0.622 | Test Accuracy: 0.750\n"
     ]
    },
    {
     "name": "stderr",
     "output_type": "stream",
     "text": [
      "468it [02:20,  3.32it/s]\n"
     ]
    },
    {
     "name": "stdout",
     "output_type": "stream",
     "text": [
      "Epoch: 073/100 | Train Loss: 0.701 | Train Accuracy: 0.758 | Test Loss: 0.617 | Test Accuracy: 0.750\n"
     ]
    },
    {
     "name": "stderr",
     "output_type": "stream",
     "text": [
      "468it [02:20,  3.32it/s]\n"
     ]
    },
    {
     "name": "stdout",
     "output_type": "stream",
     "text": [
      "Epoch: 074/100 | Train Loss: 0.698 | Train Accuracy: 0.759 | Test Loss: 0.613 | Test Accuracy: 0.750\n"
     ]
    },
    {
     "name": "stderr",
     "output_type": "stream",
     "text": [
      "468it [02:20,  3.33it/s]\n"
     ]
    },
    {
     "name": "stdout",
     "output_type": "stream",
     "text": [
      "Epoch: 075/100 | Train Loss: 0.695 | Train Accuracy: 0.760 | Test Loss: 0.609 | Test Accuracy: 0.750\n"
     ]
    },
    {
     "name": "stderr",
     "output_type": "stream",
     "text": [
      "468it [02:20,  3.32it/s]\n"
     ]
    },
    {
     "name": "stdout",
     "output_type": "stream",
     "text": [
      "Epoch: 076/100 | Train Loss: 0.693 | Train Accuracy: 0.761 | Test Loss: 0.605 | Test Accuracy: 0.750\n"
     ]
    },
    {
     "name": "stderr",
     "output_type": "stream",
     "text": [
      "468it [02:23,  3.27it/s]\n"
     ]
    },
    {
     "name": "stdout",
     "output_type": "stream",
     "text": [
      "Epoch: 077/100 | Train Loss: 0.691 | Train Accuracy: 0.761 | Test Loss: 0.601 | Test Accuracy: 0.750\n"
     ]
    },
    {
     "name": "stderr",
     "output_type": "stream",
     "text": [
      "468it [02:23,  3.27it/s]\n"
     ]
    },
    {
     "name": "stdout",
     "output_type": "stream",
     "text": [
      "Epoch: 078/100 | Train Loss: 0.689 | Train Accuracy: 0.762 | Test Loss: 0.597 | Test Accuracy: 0.750\n"
     ]
    },
    {
     "name": "stderr",
     "output_type": "stream",
     "text": [
      "468it [02:22,  3.29it/s]\n"
     ]
    },
    {
     "name": "stdout",
     "output_type": "stream",
     "text": [
      "Epoch: 079/100 | Train Loss: 0.686 | Train Accuracy: 0.763 | Test Loss: 0.592 | Test Accuracy: 0.750\n"
     ]
    },
    {
     "name": "stderr",
     "output_type": "stream",
     "text": [
      "468it [02:22,  3.29it/s]\n"
     ]
    },
    {
     "name": "stdout",
     "output_type": "stream",
     "text": [
      "Epoch: 080/100 | Train Loss: 0.684 | Train Accuracy: 0.764 | Test Loss: 0.589 | Test Accuracy: 0.750\n"
     ]
    },
    {
     "name": "stderr",
     "output_type": "stream",
     "text": [
      "468it [02:21,  3.30it/s]\n"
     ]
    },
    {
     "name": "stdout",
     "output_type": "stream",
     "text": [
      "Epoch: 081/100 | Train Loss: 0.682 | Train Accuracy: 0.764 | Test Loss: 0.586 | Test Accuracy: 0.750\n"
     ]
    },
    {
     "name": "stderr",
     "output_type": "stream",
     "text": [
      "468it [02:21,  3.32it/s]\n"
     ]
    },
    {
     "name": "stdout",
     "output_type": "stream",
     "text": [
      "Epoch: 082/100 | Train Loss: 0.680 | Train Accuracy: 0.765 | Test Loss: 0.583 | Test Accuracy: 0.812\n"
     ]
    },
    {
     "name": "stderr",
     "output_type": "stream",
     "text": [
      "468it [02:21,  3.32it/s]\n"
     ]
    },
    {
     "name": "stdout",
     "output_type": "stream",
     "text": [
      "Epoch: 083/100 | Train Loss: 0.678 | Train Accuracy: 0.766 | Test Loss: 0.579 | Test Accuracy: 0.812\n"
     ]
    },
    {
     "name": "stderr",
     "output_type": "stream",
     "text": [
      "468it [02:20,  3.33it/s]\n"
     ]
    },
    {
     "name": "stdout",
     "output_type": "stream",
     "text": [
      "Epoch: 084/100 | Train Loss: 0.675 | Train Accuracy: 0.766 | Test Loss: 0.577 | Test Accuracy: 0.812\n"
     ]
    },
    {
     "name": "stderr",
     "output_type": "stream",
     "text": [
      "468it [02:20,  3.33it/s]\n"
     ]
    },
    {
     "name": "stdout",
     "output_type": "stream",
     "text": [
      "Epoch: 085/100 | Train Loss: 0.673 | Train Accuracy: 0.767 | Test Loss: 0.573 | Test Accuracy: 0.812\n"
     ]
    },
    {
     "name": "stderr",
     "output_type": "stream",
     "text": [
      "468it [02:20,  3.33it/s]\n"
     ]
    },
    {
     "name": "stdout",
     "output_type": "stream",
     "text": [
      "Epoch: 086/100 | Train Loss: 0.672 | Train Accuracy: 0.767 | Test Loss: 0.570 | Test Accuracy: 0.812\n"
     ]
    },
    {
     "name": "stderr",
     "output_type": "stream",
     "text": [
      "468it [02:22,  3.28it/s]\n"
     ]
    },
    {
     "name": "stdout",
     "output_type": "stream",
     "text": [
      "Epoch: 087/100 | Train Loss: 0.670 | Train Accuracy: 0.768 | Test Loss: 0.567 | Test Accuracy: 0.812\n"
     ]
    },
    {
     "name": "stderr",
     "output_type": "stream",
     "text": [
      "468it [02:22,  3.29it/s]\n"
     ]
    },
    {
     "name": "stdout",
     "output_type": "stream",
     "text": [
      "Epoch: 088/100 | Train Loss: 0.668 | Train Accuracy: 0.769 | Test Loss: 0.565 | Test Accuracy: 0.812\n"
     ]
    },
    {
     "name": "stderr",
     "output_type": "stream",
     "text": [
      "468it [02:22,  3.29it/s]\n"
     ]
    },
    {
     "name": "stdout",
     "output_type": "stream",
     "text": [
      "Epoch: 089/100 | Train Loss: 0.666 | Train Accuracy: 0.769 | Test Loss: 0.562 | Test Accuracy: 0.812\n"
     ]
    },
    {
     "name": "stderr",
     "output_type": "stream",
     "text": [
      "468it [02:22,  3.29it/s]\n"
     ]
    },
    {
     "name": "stdout",
     "output_type": "stream",
     "text": [
      "Epoch: 090/100 | Train Loss: 0.664 | Train Accuracy: 0.770 | Test Loss: 0.559 | Test Accuracy: 0.812\n"
     ]
    },
    {
     "name": "stderr",
     "output_type": "stream",
     "text": [
      "468it [02:22,  3.30it/s]\n"
     ]
    },
    {
     "name": "stdout",
     "output_type": "stream",
     "text": [
      "Epoch: 091/100 | Train Loss: 0.662 | Train Accuracy: 0.771 | Test Loss: 0.557 | Test Accuracy: 0.812\n"
     ]
    },
    {
     "name": "stderr",
     "output_type": "stream",
     "text": [
      "468it [02:21,  3.32it/s]\n"
     ]
    },
    {
     "name": "stdout",
     "output_type": "stream",
     "text": [
      "Epoch: 092/100 | Train Loss: 0.660 | Train Accuracy: 0.771 | Test Loss: 0.555 | Test Accuracy: 0.812\n"
     ]
    },
    {
     "name": "stderr",
     "output_type": "stream",
     "text": [
      "468it [02:20,  3.33it/s]\n"
     ]
    },
    {
     "name": "stdout",
     "output_type": "stream",
     "text": [
      "Epoch: 093/100 | Train Loss: 0.658 | Train Accuracy: 0.772 | Test Loss: 0.553 | Test Accuracy: 0.812\n"
     ]
    },
    {
     "name": "stderr",
     "output_type": "stream",
     "text": [
      "468it [02:20,  3.33it/s]\n"
     ]
    },
    {
     "name": "stdout",
     "output_type": "stream",
     "text": [
      "Epoch: 094/100 | Train Loss: 0.657 | Train Accuracy: 0.773 | Test Loss: 0.551 | Test Accuracy: 0.812\n"
     ]
    },
    {
     "name": "stderr",
     "output_type": "stream",
     "text": [
      "468it [02:20,  3.32it/s]\n"
     ]
    },
    {
     "name": "stdout",
     "output_type": "stream",
     "text": [
      "Epoch: 095/100 | Train Loss: 0.654 | Train Accuracy: 0.773 | Test Loss: 0.550 | Test Accuracy: 0.812\n"
     ]
    },
    {
     "name": "stderr",
     "output_type": "stream",
     "text": [
      "468it [02:23,  3.27it/s]\n"
     ]
    },
    {
     "name": "stdout",
     "output_type": "stream",
     "text": [
      "Epoch: 096/100 | Train Loss: 0.653 | Train Accuracy: 0.774 | Test Loss: 0.547 | Test Accuracy: 0.812\n"
     ]
    },
    {
     "name": "stderr",
     "output_type": "stream",
     "text": [
      "468it [02:22,  3.29it/s]\n"
     ]
    },
    {
     "name": "stdout",
     "output_type": "stream",
     "text": [
      "Epoch: 097/100 | Train Loss: 0.651 | Train Accuracy: 0.774 | Test Loss: 0.546 | Test Accuracy: 0.812\n"
     ]
    },
    {
     "name": "stderr",
     "output_type": "stream",
     "text": [
      "468it [02:22,  3.29it/s]\n"
     ]
    },
    {
     "name": "stdout",
     "output_type": "stream",
     "text": [
      "Epoch: 098/100 | Train Loss: 0.650 | Train Accuracy: 0.775 | Test Loss: 0.544 | Test Accuracy: 0.812\n"
     ]
    },
    {
     "name": "stderr",
     "output_type": "stream",
     "text": [
      "468it [02:22,  3.29it/s]\n"
     ]
    },
    {
     "name": "stdout",
     "output_type": "stream",
     "text": [
      "Epoch: 099/100 | Train Loss: 0.648 | Train Accuracy: 0.775 | Test Loss: 0.542 | Test Accuracy: 0.812\n"
     ]
    },
    {
     "name": "stderr",
     "output_type": "stream",
     "text": [
      "468it [02:22,  3.27it/s]\n"
     ]
    },
    {
     "name": "stdout",
     "output_type": "stream",
     "text": [
      "Epoch: 100/100 | Train Loss: 0.646 | Train Accuracy: 0.776 | Test Loss: 0.541 | Test Accuracy: 0.812\n"
     ]
    }
   ],
   "source": [
    "set_seed(0)\n",
    "args = Args()\n",
    "\n",
    "npf = NPF(args.input_size, args.output_size, args.num_neurons, args.size_committee, args.num_committees, args)\n",
    "npv = NPV(args.input_size, args.output_size, args.num_neurons, args.size_committee, args.num_committees, args)\n",
    "\n",
    "npf_opt = optim.SGD(npf.parameters(), lr=args.lr, weight_decay=0)\n",
    "npv_opt = optim.SGD(npv.parameters(), lr=args.lr, weight_decay=args.weight_decay)\n",
    "\n",
    "criterion = nn.CrossEntropyLoss()\n",
    "\n",
    "trainer = Trainer((train_data, test_data), (npf, npv), (npf_opt, npv_opt), criterion, args)\n",
    "trainer.train(args.max_epochs)"
   ]
  },
  {
   "cell_type": "code",
   "execution_count": null,
   "metadata": {},
   "outputs": [],
   "source": []
  },
  {
   "cell_type": "code",
   "execution_count": null,
   "metadata": {},
   "outputs": [],
   "source": []
  }
 ],
 "metadata": {
  "kernelspec": {
   "display_name": "torch",
   "language": "python",
   "name": "python3"
  },
  "language_info": {
   "codemirror_mode": {
    "name": "ipython",
    "version": 3
   },
   "file_extension": ".py",
   "mimetype": "text/x-python",
   "name": "python",
   "nbconvert_exporter": "python",
   "pygments_lexer": "ipython3",
   "version": "3.8.17"
  }
 },
 "nbformat": 4,
 "nbformat_minor": 2
}
