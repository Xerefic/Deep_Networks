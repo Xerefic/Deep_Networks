{
 "cells": [
  {
   "cell_type": "code",
   "execution_count": 1,
   "metadata": {},
   "outputs": [],
   "source": [
    "import torch\n",
    "import torch.nn as nn\n",
    "import torch.nn.functional as F\n",
    "import torch.optim as optim\n",
    "from torchvision.datasets import FashionMNIST\n",
    "\n",
    "import random\n",
    "import copy\n",
    "import tqdm\n",
    "import numpy as np\n",
    "import matplotlib.pyplot as plt\n",
    "\n",
    "def set_seed(seed):\n",
    "    torch.manual_seed(seed)\n",
    "    random.seed(seed)\n",
    "    np.random.seed(seed)"
   ]
  },
  {
   "cell_type": "code",
   "execution_count": 2,
   "metadata": {},
   "outputs": [],
   "source": [
    "class Args():\n",
    "    device = 'cpu'\n",
    "    # device = torch.device('mps' if torch.backends.mps.is_available() else 'cuda' if torch.cuda.is_available() else 'cpu')\n",
    "\n",
    "    input_size = 784\n",
    "    output_size = 10\n",
    "    width = 10\n",
    "    depth = 5\n",
    "\n",
    "    batch_size = 128\n",
    "    lr = 1e-2\n",
    "    weight_decay = 1e-5\n",
    "    max_epochs = 100"
   ]
  },
  {
   "cell_type": "code",
   "execution_count": 3,
   "metadata": {},
   "outputs": [],
   "source": [
    "train_data = FashionMNIST(root='./data', train=True, download=False)\n",
    "test_data = FashionMNIST(root='./data', train=False, download=False)\n",
    "\n",
    "X_train = train_data.data.unsqueeze(1).float().flatten(start_dim=1)/255\n",
    "X_test = test_data.data.unsqueeze(1).float().flatten(start_dim=1)/255\n",
    "\n",
    "y_train = train_data.targets.long()\n",
    "y_test = test_data.targets.long()\n",
    "\n",
    "train_data = torch.utils.data.TensorDataset(X_train, y_train)\n",
    "test_data = torch.utils.data.TensorDataset(X_test, y_test)"
   ]
  },
  {
   "cell_type": "code",
   "execution_count": 4,
   "metadata": {},
   "outputs": [],
   "source": [
    "class DNN(nn.Module):\n",
    "\n",
    "    @staticmethod\n",
    "    def linear(in_channels, out_channels, bias=False, activation=nn.Identity()):\n",
    "        return nn.Sequential(\n",
    "            nn.Linear(in_channels, out_channels, bias=bias),\n",
    "            activation,\n",
    "        )\n",
    "\n",
    "    def __init__(self, input_size, output_size, width, depth):\n",
    "        super(DNN, self).__init__()\n",
    "\n",
    "        self.layers = nn.ModuleList()\n",
    "        for d in range(depth):\n",
    "            if d == 0:\n",
    "                self.layers.append(self.linear(input_size, width))\n",
    "            elif d == depth - 1:\n",
    "                self.layers.append(self.linear(width, output_size))\n",
    "            else:\n",
    "                self.layers.append(self.linear(width, width))\n",
    "\n",
    "    def init(self, type):\n",
    "        if not hasattr(self, 'type'):\n",
    "            self.type = type\n",
    "        else:\n",
    "            self.type = 'gaussian'\n",
    "\n",
    "        for layer in self.layers:\n",
    "            if self.type == 'gaussian':\n",
    "                nn.init.normal_(layer[0].weight, mean=0.0, std=1.0)\n",
    "            else:\n",
    "                raise NotImplementedError\n",
    "\n",
    "    def forward(self, x):\n",
    "        for layer in self.layers:\n",
    "            x = layer(x)\n",
    "        return x"
   ]
  },
  {
   "cell_type": "code",
   "execution_count": 5,
   "metadata": {},
   "outputs": [],
   "source": [
    "class Trainer():\n",
    "\n",
    "    def __init__(self, data, model, optimzer, criterion, args):\n",
    "        self.args = args\n",
    "        \n",
    "        self.traindata, self.testdata = data\n",
    "        self.trainloader = torch.utils.data.DataLoader(self.traindata, batch_size=self.args.batch_size, shuffle=True, drop_last=True)\n",
    "        self.testloader = torch.utils.data.DataLoader(self.testdata, batch_size=self.args.batch_size, shuffle=False, drop_last=False)\n",
    "\n",
    "        self.model = model.to(self.args.device)\n",
    "        self.optimizer = optimzer\n",
    "        self.criterion = criterion\n",
    "\n",
    "        self.loss = []\n",
    "        self.accuracy = []\n",
    "\n",
    "    def train_epoch(self):\n",
    "        train_loss = 0\n",
    "        train_accuracy = 0\n",
    "\n",
    "        for idx, (x, y) in tqdm.tqdm(enumerate(self.trainloader)):\n",
    "            self.model.train()\n",
    "            x = x.to(self.args.device)\n",
    "            y = y.to(self.args.device)\n",
    "\n",
    "            self.optimizer.zero_grad()\n",
    "            y_pred = self.model(x)\n",
    "            loss = self.criterion(y_pred, y)\n",
    "            loss.backward()\n",
    "            self.optimizer.step()\n",
    "\n",
    "            train_loss += loss.item()/len(self.trainloader)\n",
    "            train_accuracy += (y_pred.argmax(dim=1) == y).float().mean().item()/len(self.trainloader)\n",
    "\n",
    "        return train_loss, train_accuracy\n",
    "    \n",
    "    def test(self):\n",
    "        self.model.eval()\n",
    "        test_loss = 0\n",
    "        test_accuracy = 0\n",
    "\n",
    "        \n",
    "        for idx, (x, y) in tqdm.tqdm(enumerate(self.testloader)):\n",
    "            x = x.to(self.args.device)\n",
    "            y = y.to(self.args.device)\n",
    "\n",
    "            with torch.no_grad():\n",
    "                y_pred = self.model(x)\n",
    "                loss = self.criterion(y_pred, y)\n",
    "\n",
    "            test_loss += loss.item()/len(self.testloader)\n",
    "            test_accuracy += (y_pred.argmax(dim=1) == y).float().mean().item()/len(self.testloader)\n",
    "\n",
    "        return test_loss, test_accuracy\n",
    "    \n",
    "    def train(self, epochs):\n",
    "        for epoch in range(epochs):\n",
    "            train_loss, train_accuracy = self.train_epoch()\n",
    "            self.loss.append([train_loss])\n",
    "            self.accuracy.append([train_accuracy])\n",
    "\n",
    "            test_loss, test_accuracy = self.test()\n",
    "\n",
    "            print(f'Epoch: {epoch+1:03d}/{epochs:03d} | Train Loss: {train_loss:.3f} | Train Accuracy: {train_accuracy:.3f} | Test Loss: {test_loss:.3f} | Test Accuracy: {test_accuracy:.3f}')"
   ]
  },
  {
   "cell_type": "code",
   "execution_count": 6,
   "metadata": {},
   "outputs": [
    {
     "name": "stderr",
     "output_type": "stream",
     "text": [
      "468it [00:00, 968.25it/s]\n",
      "79it [00:00, 1693.46it/s]\n"
     ]
    },
    {
     "name": "stdout",
     "output_type": "stream",
     "text": [
      "Epoch: 001/100 | Train Loss: 2.169 | Train Accuracy: 0.284 | Test Loss: 1.722 | Test Accuracy: 0.288\n"
     ]
    },
    {
     "name": "stderr",
     "output_type": "stream",
     "text": [
      "468it [00:00, 977.98it/s]\n",
      "79it [00:00, 1770.74it/s]\n"
     ]
    },
    {
     "name": "stdout",
     "output_type": "stream",
     "text": [
      "Epoch: 002/100 | Train Loss: 1.232 | Train Accuracy: 0.531 | Test Loss: 0.970 | Test Accuracy: 0.604\n"
     ]
    },
    {
     "name": "stderr",
     "output_type": "stream",
     "text": [
      "468it [00:00, 949.15it/s]\n",
      "79it [00:00, 1719.49it/s]\n"
     ]
    },
    {
     "name": "stdout",
     "output_type": "stream",
     "text": [
      "Epoch: 003/100 | Train Loss: 0.895 | Train Accuracy: 0.625 | Test Loss: 0.857 | Test Accuracy: 0.639\n"
     ]
    },
    {
     "name": "stderr",
     "output_type": "stream",
     "text": [
      "468it [00:00, 1010.59it/s]\n",
      "79it [00:00, 1782.56it/s]\n"
     ]
    },
    {
     "name": "stdout",
     "output_type": "stream",
     "text": [
      "Epoch: 004/100 | Train Loss: 0.802 | Train Accuracy: 0.684 | Test Loss: 0.767 | Test Accuracy: 0.713\n"
     ]
    },
    {
     "name": "stderr",
     "output_type": "stream",
     "text": [
      "468it [00:00, 940.86it/s]\n",
      "79it [00:00, 1621.44it/s]\n"
     ]
    },
    {
     "name": "stdout",
     "output_type": "stream",
     "text": [
      "Epoch: 005/100 | Train Loss: 0.704 | Train Accuracy: 0.741 | Test Loss: 0.686 | Test Accuracy: 0.747\n"
     ]
    },
    {
     "name": "stderr",
     "output_type": "stream",
     "text": [
      "468it [00:00, 983.48it/s]\n",
      "79it [00:00, 1685.30it/s]\n"
     ]
    },
    {
     "name": "stdout",
     "output_type": "stream",
     "text": [
      "Epoch: 006/100 | Train Loss: 0.646 | Train Accuracy: 0.769 | Test Loss: 0.647 | Test Accuracy: 0.769\n"
     ]
    },
    {
     "name": "stderr",
     "output_type": "stream",
     "text": [
      "468it [00:00, 992.95it/s] \n",
      "79it [00:00, 1729.19it/s]\n"
     ]
    },
    {
     "name": "stdout",
     "output_type": "stream",
     "text": [
      "Epoch: 007/100 | Train Loss: 0.613 | Train Accuracy: 0.783 | Test Loss: 0.624 | Test Accuracy: 0.780\n"
     ]
    },
    {
     "name": "stderr",
     "output_type": "stream",
     "text": [
      "468it [00:00, 1022.51it/s]\n",
      "79it [00:00, 1726.46it/s]\n"
     ]
    },
    {
     "name": "stdout",
     "output_type": "stream",
     "text": [
      "Epoch: 008/100 | Train Loss: 0.591 | Train Accuracy: 0.792 | Test Loss: 0.608 | Test Accuracy: 0.787\n"
     ]
    },
    {
     "name": "stderr",
     "output_type": "stream",
     "text": [
      "468it [00:00, 1046.94it/s]\n",
      "79it [00:00, 1727.19it/s]\n"
     ]
    },
    {
     "name": "stdout",
     "output_type": "stream",
     "text": [
      "Epoch: 009/100 | Train Loss: 0.572 | Train Accuracy: 0.801 | Test Loss: 0.606 | Test Accuracy: 0.783\n"
     ]
    },
    {
     "name": "stderr",
     "output_type": "stream",
     "text": [
      "468it [00:00, 1007.01it/s]\n",
      "79it [00:00, 1688.15it/s]\n"
     ]
    },
    {
     "name": "stdout",
     "output_type": "stream",
     "text": [
      "Epoch: 010/100 | Train Loss: 0.558 | Train Accuracy: 0.808 | Test Loss: 0.585 | Test Accuracy: 0.795\n"
     ]
    },
    {
     "name": "stderr",
     "output_type": "stream",
     "text": [
      "468it [00:00, 1050.16it/s]\n",
      "79it [00:00, 1732.49it/s]\n"
     ]
    },
    {
     "name": "stdout",
     "output_type": "stream",
     "text": [
      "Epoch: 011/100 | Train Loss: 0.545 | Train Accuracy: 0.811 | Test Loss: 0.576 | Test Accuracy: 0.800\n"
     ]
    },
    {
     "name": "stderr",
     "output_type": "stream",
     "text": [
      "468it [00:00, 946.57it/s]\n",
      "79it [00:00, 1603.86it/s]\n"
     ]
    },
    {
     "name": "stdout",
     "output_type": "stream",
     "text": [
      "Epoch: 012/100 | Train Loss: 0.535 | Train Accuracy: 0.814 | Test Loss: 0.558 | Test Accuracy: 0.806\n"
     ]
    },
    {
     "name": "stderr",
     "output_type": "stream",
     "text": [
      "468it [00:00, 926.35it/s]\n",
      "79it [00:00, 1723.19it/s]\n"
     ]
    },
    {
     "name": "stdout",
     "output_type": "stream",
     "text": [
      "Epoch: 013/100 | Train Loss: 0.526 | Train Accuracy: 0.817 | Test Loss: 0.554 | Test Accuracy: 0.806\n"
     ]
    },
    {
     "name": "stderr",
     "output_type": "stream",
     "text": [
      "468it [00:00, 1036.81it/s]\n",
      "79it [00:00, 1680.35it/s]\n"
     ]
    },
    {
     "name": "stdout",
     "output_type": "stream",
     "text": [
      "Epoch: 014/100 | Train Loss: 0.520 | Train Accuracy: 0.819 | Test Loss: 0.549 | Test Accuracy: 0.806\n"
     ]
    },
    {
     "name": "stderr",
     "output_type": "stream",
     "text": [
      "468it [00:00, 948.66it/s]\n",
      "79it [00:00, 1611.92it/s]\n"
     ]
    },
    {
     "name": "stdout",
     "output_type": "stream",
     "text": [
      "Epoch: 015/100 | Train Loss: 0.514 | Train Accuracy: 0.820 | Test Loss: 0.541 | Test Accuracy: 0.810\n"
     ]
    },
    {
     "name": "stderr",
     "output_type": "stream",
     "text": [
      "468it [00:00, 1001.81it/s]\n",
      "79it [00:00, 1695.57it/s]\n"
     ]
    },
    {
     "name": "stdout",
     "output_type": "stream",
     "text": [
      "Epoch: 016/100 | Train Loss: 0.510 | Train Accuracy: 0.823 | Test Loss: 0.539 | Test Accuracy: 0.810\n"
     ]
    },
    {
     "name": "stderr",
     "output_type": "stream",
     "text": [
      "468it [00:00, 1022.73it/s]\n",
      "79it [00:00, 1657.96it/s]\n"
     ]
    },
    {
     "name": "stdout",
     "output_type": "stream",
     "text": [
      "Epoch: 017/100 | Train Loss: 0.504 | Train Accuracy: 0.824 | Test Loss: 0.536 | Test Accuracy: 0.811\n"
     ]
    },
    {
     "name": "stderr",
     "output_type": "stream",
     "text": [
      "468it [00:00, 946.81it/s]\n",
      "79it [00:00, 1622.64it/s]\n"
     ]
    },
    {
     "name": "stdout",
     "output_type": "stream",
     "text": [
      "Epoch: 018/100 | Train Loss: 0.500 | Train Accuracy: 0.826 | Test Loss: 0.531 | Test Accuracy: 0.813\n"
     ]
    },
    {
     "name": "stderr",
     "output_type": "stream",
     "text": [
      "468it [00:00, 1004.87it/s]\n",
      "79it [00:00, 1683.49it/s]\n"
     ]
    },
    {
     "name": "stdout",
     "output_type": "stream",
     "text": [
      "Epoch: 019/100 | Train Loss: 0.496 | Train Accuracy: 0.827 | Test Loss: 0.530 | Test Accuracy: 0.811\n"
     ]
    },
    {
     "name": "stderr",
     "output_type": "stream",
     "text": [
      "468it [00:00, 967.70it/s]\n",
      "79it [00:00, 1702.11it/s]\n"
     ]
    },
    {
     "name": "stdout",
     "output_type": "stream",
     "text": [
      "Epoch: 020/100 | Train Loss: 0.492 | Train Accuracy: 0.829 | Test Loss: 0.524 | Test Accuracy: 0.816\n"
     ]
    },
    {
     "name": "stderr",
     "output_type": "stream",
     "text": [
      "468it [00:00, 963.24it/s]\n",
      "79it [00:00, 1736.41it/s]\n"
     ]
    },
    {
     "name": "stdout",
     "output_type": "stream",
     "text": [
      "Epoch: 021/100 | Train Loss: 0.487 | Train Accuracy: 0.829 | Test Loss: 0.523 | Test Accuracy: 0.814\n"
     ]
    },
    {
     "name": "stderr",
     "output_type": "stream",
     "text": [
      "468it [00:00, 1020.21it/s]\n",
      "79it [00:00, 1703.58it/s]\n"
     ]
    },
    {
     "name": "stdout",
     "output_type": "stream",
     "text": [
      "Epoch: 022/100 | Train Loss: 0.484 | Train Accuracy: 0.833 | Test Loss: 0.523 | Test Accuracy: 0.818\n"
     ]
    },
    {
     "name": "stderr",
     "output_type": "stream",
     "text": [
      "468it [00:00, 1028.36it/s]\n",
      "79it [00:00, 1738.86it/s]\n"
     ]
    },
    {
     "name": "stdout",
     "output_type": "stream",
     "text": [
      "Epoch: 023/100 | Train Loss: 0.482 | Train Accuracy: 0.832 | Test Loss: 0.517 | Test Accuracy: 0.819\n"
     ]
    },
    {
     "name": "stderr",
     "output_type": "stream",
     "text": [
      "468it [00:00, 957.36it/s] \n",
      "79it [00:00, 1733.07it/s]\n"
     ]
    },
    {
     "name": "stdout",
     "output_type": "stream",
     "text": [
      "Epoch: 024/100 | Train Loss: 0.480 | Train Accuracy: 0.833 | Test Loss: 0.513 | Test Accuracy: 0.820\n"
     ]
    },
    {
     "name": "stderr",
     "output_type": "stream",
     "text": [
      "468it [00:00, 954.71it/s] \n",
      "79it [00:00, 1661.06it/s]\n"
     ]
    },
    {
     "name": "stdout",
     "output_type": "stream",
     "text": [
      "Epoch: 025/100 | Train Loss: 0.476 | Train Accuracy: 0.835 | Test Loss: 0.519 | Test Accuracy: 0.819\n"
     ]
    },
    {
     "name": "stderr",
     "output_type": "stream",
     "text": [
      "468it [00:00, 1019.65it/s]\n",
      "79it [00:00, 1721.05it/s]\n"
     ]
    },
    {
     "name": "stdout",
     "output_type": "stream",
     "text": [
      "Epoch: 026/100 | Train Loss: 0.474 | Train Accuracy: 0.835 | Test Loss: 0.514 | Test Accuracy: 0.819\n"
     ]
    },
    {
     "name": "stderr",
     "output_type": "stream",
     "text": [
      "468it [00:00, 1010.27it/s]\n",
      "79it [00:00, 1729.72it/s]\n"
     ]
    },
    {
     "name": "stdout",
     "output_type": "stream",
     "text": [
      "Epoch: 027/100 | Train Loss: 0.472 | Train Accuracy: 0.836 | Test Loss: 0.513 | Test Accuracy: 0.821\n"
     ]
    },
    {
     "name": "stderr",
     "output_type": "stream",
     "text": [
      "468it [00:00, 1027.78it/s]\n",
      "79it [00:00, 1750.04it/s]\n"
     ]
    },
    {
     "name": "stdout",
     "output_type": "stream",
     "text": [
      "Epoch: 028/100 | Train Loss: 0.470 | Train Accuracy: 0.837 | Test Loss: 0.517 | Test Accuracy: 0.818\n"
     ]
    },
    {
     "name": "stderr",
     "output_type": "stream",
     "text": [
      "468it [00:00, 999.74it/s] \n",
      "79it [00:00, 1440.47it/s]\n"
     ]
    },
    {
     "name": "stdout",
     "output_type": "stream",
     "text": [
      "Epoch: 029/100 | Train Loss: 0.470 | Train Accuracy: 0.835 | Test Loss: 0.507 | Test Accuracy: 0.822\n"
     ]
    },
    {
     "name": "stderr",
     "output_type": "stream",
     "text": [
      "468it [00:00, 980.44it/s] \n",
      "79it [00:00, 1696.53it/s]\n"
     ]
    },
    {
     "name": "stdout",
     "output_type": "stream",
     "text": [
      "Epoch: 030/100 | Train Loss: 0.466 | Train Accuracy: 0.837 | Test Loss: 0.509 | Test Accuracy: 0.821\n"
     ]
    },
    {
     "name": "stderr",
     "output_type": "stream",
     "text": [
      "468it [00:00, 1021.59it/s]\n",
      "79it [00:00, 1703.86it/s]\n"
     ]
    },
    {
     "name": "stdout",
     "output_type": "stream",
     "text": [
      "Epoch: 031/100 | Train Loss: 0.466 | Train Accuracy: 0.838 | Test Loss: 0.512 | Test Accuracy: 0.824\n"
     ]
    },
    {
     "name": "stderr",
     "output_type": "stream",
     "text": [
      "468it [00:00, 967.87it/s] \n",
      "79it [00:00, 1728.09it/s]\n"
     ]
    },
    {
     "name": "stdout",
     "output_type": "stream",
     "text": [
      "Epoch: 032/100 | Train Loss: 0.465 | Train Accuracy: 0.838 | Test Loss: 0.512 | Test Accuracy: 0.821\n"
     ]
    },
    {
     "name": "stderr",
     "output_type": "stream",
     "text": [
      "468it [00:00, 1022.67it/s]\n",
      "79it [00:00, 1685.26it/s]\n"
     ]
    },
    {
     "name": "stdout",
     "output_type": "stream",
     "text": [
      "Epoch: 033/100 | Train Loss: 0.465 | Train Accuracy: 0.838 | Test Loss: 0.505 | Test Accuracy: 0.823\n"
     ]
    },
    {
     "name": "stderr",
     "output_type": "stream",
     "text": [
      "468it [00:00, 1024.75it/s]\n",
      "79it [00:00, 1683.31it/s]\n"
     ]
    },
    {
     "name": "stdout",
     "output_type": "stream",
     "text": [
      "Epoch: 034/100 | Train Loss: 0.461 | Train Accuracy: 0.840 | Test Loss: 0.513 | Test Accuracy: 0.823\n"
     ]
    },
    {
     "name": "stderr",
     "output_type": "stream",
     "text": [
      "468it [00:00, 955.63it/s]\n",
      "79it [00:00, 1682.32it/s]\n"
     ]
    },
    {
     "name": "stdout",
     "output_type": "stream",
     "text": [
      "Epoch: 035/100 | Train Loss: 0.461 | Train Accuracy: 0.840 | Test Loss: 0.506 | Test Accuracy: 0.823\n"
     ]
    },
    {
     "name": "stderr",
     "output_type": "stream",
     "text": [
      "468it [00:00, 926.69it/s]\n",
      "79it [00:00, 1697.21it/s]\n"
     ]
    },
    {
     "name": "stdout",
     "output_type": "stream",
     "text": [
      "Epoch: 036/100 | Train Loss: 0.460 | Train Accuracy: 0.841 | Test Loss: 0.504 | Test Accuracy: 0.826\n"
     ]
    },
    {
     "name": "stderr",
     "output_type": "stream",
     "text": [
      "468it [00:00, 1008.64it/s]\n",
      "79it [00:00, 1738.25it/s]\n"
     ]
    },
    {
     "name": "stdout",
     "output_type": "stream",
     "text": [
      "Epoch: 037/100 | Train Loss: 0.459 | Train Accuracy: 0.841 | Test Loss: 0.503 | Test Accuracy: 0.824\n"
     ]
    },
    {
     "name": "stderr",
     "output_type": "stream",
     "text": [
      "468it [00:00, 947.93it/s]\n",
      "79it [00:00, 1715.27it/s]\n"
     ]
    },
    {
     "name": "stdout",
     "output_type": "stream",
     "text": [
      "Epoch: 038/100 | Train Loss: 0.459 | Train Accuracy: 0.840 | Test Loss: 0.506 | Test Accuracy: 0.823\n"
     ]
    },
    {
     "name": "stderr",
     "output_type": "stream",
     "text": [
      "468it [00:00, 971.74it/s] \n",
      "79it [00:00, 1699.51it/s]\n"
     ]
    },
    {
     "name": "stdout",
     "output_type": "stream",
     "text": [
      "Epoch: 039/100 | Train Loss: 0.457 | Train Accuracy: 0.841 | Test Loss: 0.500 | Test Accuracy: 0.826\n"
     ]
    },
    {
     "name": "stderr",
     "output_type": "stream",
     "text": [
      "468it [00:00, 969.73it/s] \n",
      "79it [00:00, 1696.08it/s]\n"
     ]
    },
    {
     "name": "stdout",
     "output_type": "stream",
     "text": [
      "Epoch: 040/100 | Train Loss: 0.456 | Train Accuracy: 0.842 | Test Loss: 0.498 | Test Accuracy: 0.826\n"
     ]
    },
    {
     "name": "stderr",
     "output_type": "stream",
     "text": [
      "468it [00:00, 990.51it/s]\n",
      "79it [00:00, 1756.77it/s]\n"
     ]
    },
    {
     "name": "stdout",
     "output_type": "stream",
     "text": [
      "Epoch: 041/100 | Train Loss: 0.456 | Train Accuracy: 0.842 | Test Loss: 0.505 | Test Accuracy: 0.825\n"
     ]
    },
    {
     "name": "stderr",
     "output_type": "stream",
     "text": [
      "468it [00:00, 991.05it/s] \n",
      "79it [00:00, 1647.82it/s]\n"
     ]
    },
    {
     "name": "stdout",
     "output_type": "stream",
     "text": [
      "Epoch: 042/100 | Train Loss: 0.455 | Train Accuracy: 0.842 | Test Loss: 0.511 | Test Accuracy: 0.821\n"
     ]
    },
    {
     "name": "stderr",
     "output_type": "stream",
     "text": [
      "468it [00:00, 973.75it/s] \n",
      "79it [00:00, 1645.32it/s]\n"
     ]
    },
    {
     "name": "stdout",
     "output_type": "stream",
     "text": [
      "Epoch: 043/100 | Train Loss: 0.455 | Train Accuracy: 0.843 | Test Loss: 0.515 | Test Accuracy: 0.823\n"
     ]
    },
    {
     "name": "stderr",
     "output_type": "stream",
     "text": [
      "468it [00:00, 1028.43it/s]\n",
      "79it [00:00, 1715.56it/s]\n"
     ]
    },
    {
     "name": "stdout",
     "output_type": "stream",
     "text": [
      "Epoch: 044/100 | Train Loss: 0.453 | Train Accuracy: 0.843 | Test Loss: 0.511 | Test Accuracy: 0.819\n"
     ]
    },
    {
     "name": "stderr",
     "output_type": "stream",
     "text": [
      "468it [00:00, 940.01it/s] \n",
      "79it [00:00, 1711.55it/s]\n"
     ]
    },
    {
     "name": "stdout",
     "output_type": "stream",
     "text": [
      "Epoch: 045/100 | Train Loss: 0.452 | Train Accuracy: 0.843 | Test Loss: 0.503 | Test Accuracy: 0.823\n"
     ]
    },
    {
     "name": "stderr",
     "output_type": "stream",
     "text": [
      "468it [00:00, 988.29it/s] \n",
      "79it [00:00, 1767.94it/s]\n"
     ]
    },
    {
     "name": "stdout",
     "output_type": "stream",
     "text": [
      "Epoch: 046/100 | Train Loss: 0.451 | Train Accuracy: 0.844 | Test Loss: 0.499 | Test Accuracy: 0.828\n"
     ]
    },
    {
     "name": "stderr",
     "output_type": "stream",
     "text": [
      "468it [00:00, 1025.86it/s]\n",
      "79it [00:00, 1663.93it/s]\n"
     ]
    },
    {
     "name": "stdout",
     "output_type": "stream",
     "text": [
      "Epoch: 047/100 | Train Loss: 0.451 | Train Accuracy: 0.843 | Test Loss: 0.511 | Test Accuracy: 0.820\n"
     ]
    },
    {
     "name": "stderr",
     "output_type": "stream",
     "text": [
      "468it [00:00, 1016.60it/s]\n",
      "79it [00:00, 1763.16it/s]\n"
     ]
    },
    {
     "name": "stdout",
     "output_type": "stream",
     "text": [
      "Epoch: 048/100 | Train Loss: 0.452 | Train Accuracy: 0.843 | Test Loss: 0.503 | Test Accuracy: 0.826\n"
     ]
    },
    {
     "name": "stderr",
     "output_type": "stream",
     "text": [
      "468it [00:00, 950.15it/s]\n",
      "79it [00:00, 1705.97it/s]\n"
     ]
    },
    {
     "name": "stdout",
     "output_type": "stream",
     "text": [
      "Epoch: 049/100 | Train Loss: 0.450 | Train Accuracy: 0.844 | Test Loss: 0.498 | Test Accuracy: 0.826\n"
     ]
    },
    {
     "name": "stderr",
     "output_type": "stream",
     "text": [
      "468it [00:00, 963.48it/s] \n",
      "79it [00:00, 1663.71it/s]\n"
     ]
    },
    {
     "name": "stdout",
     "output_type": "stream",
     "text": [
      "Epoch: 050/100 | Train Loss: 0.448 | Train Accuracy: 0.845 | Test Loss: 0.518 | Test Accuracy: 0.817\n"
     ]
    },
    {
     "name": "stderr",
     "output_type": "stream",
     "text": [
      "468it [00:00, 992.98it/s] \n",
      "79it [00:00, 1774.84it/s]\n"
     ]
    },
    {
     "name": "stdout",
     "output_type": "stream",
     "text": [
      "Epoch: 051/100 | Train Loss: 0.448 | Train Accuracy: 0.844 | Test Loss: 0.501 | Test Accuracy: 0.827\n"
     ]
    },
    {
     "name": "stderr",
     "output_type": "stream",
     "text": [
      "468it [00:00, 1026.84it/s]\n",
      "79it [00:00, 1728.25it/s]\n"
     ]
    },
    {
     "name": "stdout",
     "output_type": "stream",
     "text": [
      "Epoch: 052/100 | Train Loss: 0.447 | Train Accuracy: 0.844 | Test Loss: 0.496 | Test Accuracy: 0.827\n"
     ]
    },
    {
     "name": "stderr",
     "output_type": "stream",
     "text": [
      "468it [00:00, 1015.39it/s]\n",
      "79it [00:00, 1769.59it/s]\n"
     ]
    },
    {
     "name": "stdout",
     "output_type": "stream",
     "text": [
      "Epoch: 053/100 | Train Loss: 0.445 | Train Accuracy: 0.846 | Test Loss: 0.498 | Test Accuracy: 0.824\n"
     ]
    },
    {
     "name": "stderr",
     "output_type": "stream",
     "text": [
      "468it [00:00, 964.80it/s] \n",
      "79it [00:00, 1657.74it/s]\n"
     ]
    },
    {
     "name": "stdout",
     "output_type": "stream",
     "text": [
      "Epoch: 054/100 | Train Loss: 0.445 | Train Accuracy: 0.846 | Test Loss: 0.493 | Test Accuracy: 0.827\n"
     ]
    },
    {
     "name": "stderr",
     "output_type": "stream",
     "text": [
      "468it [00:00, 1018.75it/s]\n",
      "79it [00:00, 1745.00it/s]\n"
     ]
    },
    {
     "name": "stdout",
     "output_type": "stream",
     "text": [
      "Epoch: 055/100 | Train Loss: 0.444 | Train Accuracy: 0.846 | Test Loss: 0.494 | Test Accuracy: 0.828\n"
     ]
    },
    {
     "name": "stderr",
     "output_type": "stream",
     "text": [
      "468it [00:00, 977.45it/s] \n",
      "79it [00:00, 1594.42it/s]\n"
     ]
    },
    {
     "name": "stdout",
     "output_type": "stream",
     "text": [
      "Epoch: 056/100 | Train Loss: 0.443 | Train Accuracy: 0.846 | Test Loss: 0.493 | Test Accuracy: 0.830\n"
     ]
    },
    {
     "name": "stderr",
     "output_type": "stream",
     "text": [
      "468it [00:00, 1034.80it/s]\n",
      "79it [00:00, 1697.91it/s]\n"
     ]
    },
    {
     "name": "stdout",
     "output_type": "stream",
     "text": [
      "Epoch: 057/100 | Train Loss: 0.442 | Train Accuracy: 0.846 | Test Loss: 0.514 | Test Accuracy: 0.821\n"
     ]
    },
    {
     "name": "stderr",
     "output_type": "stream",
     "text": [
      "468it [00:00, 912.28it/s]\n",
      "79it [00:00, 1722.29it/s]\n"
     ]
    },
    {
     "name": "stdout",
     "output_type": "stream",
     "text": [
      "Epoch: 058/100 | Train Loss: 0.441 | Train Accuracy: 0.847 | Test Loss: 0.499 | Test Accuracy: 0.825\n"
     ]
    },
    {
     "name": "stderr",
     "output_type": "stream",
     "text": [
      "468it [00:00, 943.75it/s]\n",
      "79it [00:00, 1707.23it/s]\n"
     ]
    },
    {
     "name": "stdout",
     "output_type": "stream",
     "text": [
      "Epoch: 059/100 | Train Loss: 0.439 | Train Accuracy: 0.848 | Test Loss: 0.495 | Test Accuracy: 0.831\n"
     ]
    },
    {
     "name": "stderr",
     "output_type": "stream",
     "text": [
      "468it [00:00, 989.59it/s] \n",
      "79it [00:00, 1688.04it/s]\n"
     ]
    },
    {
     "name": "stdout",
     "output_type": "stream",
     "text": [
      "Epoch: 060/100 | Train Loss: 0.440 | Train Accuracy: 0.846 | Test Loss: 0.497 | Test Accuracy: 0.828\n"
     ]
    },
    {
     "name": "stderr",
     "output_type": "stream",
     "text": [
      "468it [00:00, 986.46it/s] \n",
      "79it [00:00, 1789.31it/s]\n"
     ]
    },
    {
     "name": "stdout",
     "output_type": "stream",
     "text": [
      "Epoch: 061/100 | Train Loss: 0.438 | Train Accuracy: 0.848 | Test Loss: 0.490 | Test Accuracy: 0.831\n"
     ]
    },
    {
     "name": "stderr",
     "output_type": "stream",
     "text": [
      "468it [00:00, 964.19it/s] \n",
      "79it [00:00, 1731.32it/s]\n"
     ]
    },
    {
     "name": "stdout",
     "output_type": "stream",
     "text": [
      "Epoch: 062/100 | Train Loss: 0.438 | Train Accuracy: 0.849 | Test Loss: 0.490 | Test Accuracy: 0.829\n"
     ]
    },
    {
     "name": "stderr",
     "output_type": "stream",
     "text": [
      "468it [00:00, 993.20it/s] \n",
      "79it [00:00, 1697.76it/s]\n"
     ]
    },
    {
     "name": "stdout",
     "output_type": "stream",
     "text": [
      "Epoch: 063/100 | Train Loss: 0.437 | Train Accuracy: 0.849 | Test Loss: 0.497 | Test Accuracy: 0.829\n"
     ]
    },
    {
     "name": "stderr",
     "output_type": "stream",
     "text": [
      "468it [00:00, 1035.32it/s]\n",
      "79it [00:00, 1750.27it/s]\n"
     ]
    },
    {
     "name": "stdout",
     "output_type": "stream",
     "text": [
      "Epoch: 064/100 | Train Loss: 0.436 | Train Accuracy: 0.849 | Test Loss: 0.487 | Test Accuracy: 0.831\n"
     ]
    },
    {
     "name": "stderr",
     "output_type": "stream",
     "text": [
      "468it [00:00, 942.71it/s]\n",
      "79it [00:00, 1732.61it/s]\n"
     ]
    },
    {
     "name": "stdout",
     "output_type": "stream",
     "text": [
      "Epoch: 065/100 | Train Loss: 0.436 | Train Accuracy: 0.850 | Test Loss: 0.488 | Test Accuracy: 0.831\n"
     ]
    },
    {
     "name": "stderr",
     "output_type": "stream",
     "text": [
      "468it [00:00, 1014.32it/s]\n",
      "79it [00:00, 1664.17it/s]\n"
     ]
    },
    {
     "name": "stdout",
     "output_type": "stream",
     "text": [
      "Epoch: 066/100 | Train Loss: 0.435 | Train Accuracy: 0.850 | Test Loss: 0.520 | Test Accuracy: 0.818\n"
     ]
    },
    {
     "name": "stderr",
     "output_type": "stream",
     "text": [
      "468it [00:00, 969.42it/s] \n",
      "79it [00:00, 1760.01it/s]\n"
     ]
    },
    {
     "name": "stdout",
     "output_type": "stream",
     "text": [
      "Epoch: 067/100 | Train Loss: 0.435 | Train Accuracy: 0.851 | Test Loss: 0.489 | Test Accuracy: 0.830\n"
     ]
    },
    {
     "name": "stderr",
     "output_type": "stream",
     "text": [
      "468it [00:00, 975.81it/s] \n",
      "79it [00:00, 1767.02it/s]\n"
     ]
    },
    {
     "name": "stdout",
     "output_type": "stream",
     "text": [
      "Epoch: 068/100 | Train Loss: 0.434 | Train Accuracy: 0.850 | Test Loss: 0.493 | Test Accuracy: 0.829\n"
     ]
    },
    {
     "name": "stderr",
     "output_type": "stream",
     "text": [
      "468it [00:00, 998.13it/s] \n",
      "79it [00:00, 1720.87it/s]\n"
     ]
    },
    {
     "name": "stdout",
     "output_type": "stream",
     "text": [
      "Epoch: 069/100 | Train Loss: 0.433 | Train Accuracy: 0.851 | Test Loss: 0.485 | Test Accuracy: 0.832\n"
     ]
    },
    {
     "name": "stderr",
     "output_type": "stream",
     "text": [
      "468it [00:00, 976.45it/s] \n",
      "79it [00:00, 1748.14it/s]\n"
     ]
    },
    {
     "name": "stdout",
     "output_type": "stream",
     "text": [
      "Epoch: 070/100 | Train Loss: 0.431 | Train Accuracy: 0.851 | Test Loss: 0.502 | Test Accuracy: 0.828\n"
     ]
    },
    {
     "name": "stderr",
     "output_type": "stream",
     "text": [
      "468it [00:00, 1005.30it/s]\n",
      "79it [00:00, 1726.32it/s]\n"
     ]
    },
    {
     "name": "stdout",
     "output_type": "stream",
     "text": [
      "Epoch: 071/100 | Train Loss: 0.431 | Train Accuracy: 0.851 | Test Loss: 0.493 | Test Accuracy: 0.826\n"
     ]
    },
    {
     "name": "stderr",
     "output_type": "stream",
     "text": [
      "468it [00:00, 1003.05it/s]\n",
      "79it [00:00, 1676.42it/s]\n"
     ]
    },
    {
     "name": "stdout",
     "output_type": "stream",
     "text": [
      "Epoch: 072/100 | Train Loss: 0.430 | Train Accuracy: 0.851 | Test Loss: 0.485 | Test Accuracy: 0.832\n"
     ]
    },
    {
     "name": "stderr",
     "output_type": "stream",
     "text": [
      "468it [00:00, 1013.81it/s]\n",
      "79it [00:00, 1753.37it/s]\n"
     ]
    },
    {
     "name": "stdout",
     "output_type": "stream",
     "text": [
      "Epoch: 073/100 | Train Loss: 0.430 | Train Accuracy: 0.851 | Test Loss: 0.485 | Test Accuracy: 0.832\n"
     ]
    },
    {
     "name": "stderr",
     "output_type": "stream",
     "text": [
      "468it [00:00, 1042.80it/s]\n",
      "79it [00:00, 1731.47it/s]\n"
     ]
    },
    {
     "name": "stdout",
     "output_type": "stream",
     "text": [
      "Epoch: 074/100 | Train Loss: 0.429 | Train Accuracy: 0.853 | Test Loss: 0.488 | Test Accuracy: 0.830\n"
     ]
    },
    {
     "name": "stderr",
     "output_type": "stream",
     "text": [
      "468it [00:00, 981.91it/s] \n",
      "79it [00:00, 1732.39it/s]\n"
     ]
    },
    {
     "name": "stdout",
     "output_type": "stream",
     "text": [
      "Epoch: 075/100 | Train Loss: 0.429 | Train Accuracy: 0.851 | Test Loss: 0.485 | Test Accuracy: 0.832\n"
     ]
    },
    {
     "name": "stderr",
     "output_type": "stream",
     "text": [
      "468it [00:00, 1011.33it/s]\n",
      "79it [00:00, 1739.52it/s]\n"
     ]
    },
    {
     "name": "stdout",
     "output_type": "stream",
     "text": [
      "Epoch: 076/100 | Train Loss: 0.428 | Train Accuracy: 0.852 | Test Loss: 0.483 | Test Accuracy: 0.834\n"
     ]
    },
    {
     "name": "stderr",
     "output_type": "stream",
     "text": [
      "468it [00:00, 1060.32it/s]\n",
      "79it [00:00, 1748.41it/s]\n"
     ]
    },
    {
     "name": "stdout",
     "output_type": "stream",
     "text": [
      "Epoch: 077/100 | Train Loss: 0.428 | Train Accuracy: 0.853 | Test Loss: 0.484 | Test Accuracy: 0.832\n"
     ]
    },
    {
     "name": "stderr",
     "output_type": "stream",
     "text": [
      "468it [00:00, 940.52it/s] \n",
      "79it [00:00, 1767.65it/s]\n"
     ]
    },
    {
     "name": "stdout",
     "output_type": "stream",
     "text": [
      "Epoch: 078/100 | Train Loss: 0.426 | Train Accuracy: 0.852 | Test Loss: 0.495 | Test Accuracy: 0.827\n"
     ]
    },
    {
     "name": "stderr",
     "output_type": "stream",
     "text": [
      "468it [00:00, 1040.20it/s]\n",
      "79it [00:00, 1743.12it/s]\n"
     ]
    },
    {
     "name": "stdout",
     "output_type": "stream",
     "text": [
      "Epoch: 079/100 | Train Loss: 0.426 | Train Accuracy: 0.852 | Test Loss: 0.483 | Test Accuracy: 0.831\n"
     ]
    },
    {
     "name": "stderr",
     "output_type": "stream",
     "text": [
      "468it [00:00, 1027.10it/s]\n",
      "79it [00:00, 1739.78it/s]\n"
     ]
    },
    {
     "name": "stdout",
     "output_type": "stream",
     "text": [
      "Epoch: 080/100 | Train Loss: 0.426 | Train Accuracy: 0.853 | Test Loss: 0.483 | Test Accuracy: 0.831\n"
     ]
    },
    {
     "name": "stderr",
     "output_type": "stream",
     "text": [
      "468it [00:00, 981.20it/s]\n",
      "79it [00:00, 1805.22it/s]\n"
     ]
    },
    {
     "name": "stdout",
     "output_type": "stream",
     "text": [
      "Epoch: 081/100 | Train Loss: 0.426 | Train Accuracy: 0.853 | Test Loss: 0.493 | Test Accuracy: 0.830\n"
     ]
    },
    {
     "name": "stderr",
     "output_type": "stream",
     "text": [
      "468it [00:00, 1027.81it/s]\n",
      "79it [00:00, 1742.39it/s]\n"
     ]
    },
    {
     "name": "stdout",
     "output_type": "stream",
     "text": [
      "Epoch: 082/100 | Train Loss: 0.425 | Train Accuracy: 0.852 | Test Loss: 0.483 | Test Accuracy: 0.830\n"
     ]
    },
    {
     "name": "stderr",
     "output_type": "stream",
     "text": [
      "468it [00:00, 1032.77it/s]\n",
      "79it [00:00, 1716.79it/s]\n"
     ]
    },
    {
     "name": "stdout",
     "output_type": "stream",
     "text": [
      "Epoch: 083/100 | Train Loss: 0.425 | Train Accuracy: 0.853 | Test Loss: 0.484 | Test Accuracy: 0.829\n"
     ]
    },
    {
     "name": "stderr",
     "output_type": "stream",
     "text": [
      "468it [00:00, 942.75it/s]\n",
      "79it [00:00, 1713.71it/s]\n"
     ]
    },
    {
     "name": "stdout",
     "output_type": "stream",
     "text": [
      "Epoch: 084/100 | Train Loss: 0.424 | Train Accuracy: 0.853 | Test Loss: 0.482 | Test Accuracy: 0.831\n"
     ]
    },
    {
     "name": "stderr",
     "output_type": "stream",
     "text": [
      "468it [00:00, 1026.84it/s]\n",
      "79it [00:00, 1684.01it/s]\n"
     ]
    },
    {
     "name": "stdout",
     "output_type": "stream",
     "text": [
      "Epoch: 085/100 | Train Loss: 0.423 | Train Accuracy: 0.854 | Test Loss: 0.488 | Test Accuracy: 0.830\n"
     ]
    },
    {
     "name": "stderr",
     "output_type": "stream",
     "text": [
      "468it [00:00, 969.62it/s] \n",
      "79it [00:00, 1699.87it/s]\n"
     ]
    },
    {
     "name": "stdout",
     "output_type": "stream",
     "text": [
      "Epoch: 086/100 | Train Loss: 0.423 | Train Accuracy: 0.855 | Test Loss: 0.487 | Test Accuracy: 0.830\n"
     ]
    },
    {
     "name": "stderr",
     "output_type": "stream",
     "text": [
      "468it [00:00, 1016.30it/s]\n",
      "79it [00:00, 1494.96it/s]\n"
     ]
    },
    {
     "name": "stdout",
     "output_type": "stream",
     "text": [
      "Epoch: 087/100 | Train Loss: 0.423 | Train Accuracy: 0.853 | Test Loss: 0.482 | Test Accuracy: 0.831\n"
     ]
    },
    {
     "name": "stderr",
     "output_type": "stream",
     "text": [
      "468it [00:00, 998.03it/s] \n",
      "79it [00:00, 1743.66it/s]\n"
     ]
    },
    {
     "name": "stdout",
     "output_type": "stream",
     "text": [
      "Epoch: 088/100 | Train Loss: 0.424 | Train Accuracy: 0.853 | Test Loss: 0.488 | Test Accuracy: 0.828\n"
     ]
    },
    {
     "name": "stderr",
     "output_type": "stream",
     "text": [
      "468it [00:00, 982.38it/s] \n",
      "79it [00:00, 1767.41it/s]\n"
     ]
    },
    {
     "name": "stdout",
     "output_type": "stream",
     "text": [
      "Epoch: 089/100 | Train Loss: 0.423 | Train Accuracy: 0.853 | Test Loss: 0.489 | Test Accuracy: 0.828\n"
     ]
    },
    {
     "name": "stderr",
     "output_type": "stream",
     "text": [
      "468it [00:00, 1036.53it/s]\n",
      "79it [00:00, 1696.12it/s]\n"
     ]
    },
    {
     "name": "stdout",
     "output_type": "stream",
     "text": [
      "Epoch: 090/100 | Train Loss: 0.421 | Train Accuracy: 0.854 | Test Loss: 0.484 | Test Accuracy: 0.831\n"
     ]
    },
    {
     "name": "stderr",
     "output_type": "stream",
     "text": [
      "468it [00:00, 1037.14it/s]\n",
      "79it [00:00, 1766.15it/s]\n"
     ]
    },
    {
     "name": "stdout",
     "output_type": "stream",
     "text": [
      "Epoch: 091/100 | Train Loss: 0.422 | Train Accuracy: 0.854 | Test Loss: 0.493 | Test Accuracy: 0.826\n"
     ]
    },
    {
     "name": "stderr",
     "output_type": "stream",
     "text": [
      "468it [00:00, 965.67it/s]\n",
      "79it [00:00, 1726.14it/s]\n"
     ]
    },
    {
     "name": "stdout",
     "output_type": "stream",
     "text": [
      "Epoch: 092/100 | Train Loss: 0.421 | Train Accuracy: 0.854 | Test Loss: 0.491 | Test Accuracy: 0.829\n"
     ]
    },
    {
     "name": "stderr",
     "output_type": "stream",
     "text": [
      "468it [00:00, 1024.32it/s]\n",
      "79it [00:00, 1695.65it/s]\n"
     ]
    },
    {
     "name": "stdout",
     "output_type": "stream",
     "text": [
      "Epoch: 093/100 | Train Loss: 0.421 | Train Accuracy: 0.854 | Test Loss: 0.485 | Test Accuracy: 0.830\n"
     ]
    },
    {
     "name": "stderr",
     "output_type": "stream",
     "text": [
      "468it [00:00, 1030.49it/s]\n",
      "79it [00:00, 1602.51it/s]\n"
     ]
    },
    {
     "name": "stdout",
     "output_type": "stream",
     "text": [
      "Epoch: 094/100 | Train Loss: 0.421 | Train Accuracy: 0.855 | Test Loss: 0.495 | Test Accuracy: 0.828\n"
     ]
    },
    {
     "name": "stderr",
     "output_type": "stream",
     "text": [
      "468it [00:00, 995.15it/s] \n",
      "79it [00:00, 1773.53it/s]\n"
     ]
    },
    {
     "name": "stdout",
     "output_type": "stream",
     "text": [
      "Epoch: 095/100 | Train Loss: 0.420 | Train Accuracy: 0.855 | Test Loss: 0.484 | Test Accuracy: 0.830\n"
     ]
    },
    {
     "name": "stderr",
     "output_type": "stream",
     "text": [
      "468it [00:00, 1035.91it/s]\n",
      "79it [00:00, 1720.39it/s]\n"
     ]
    },
    {
     "name": "stdout",
     "output_type": "stream",
     "text": [
      "Epoch: 096/100 | Train Loss: 0.419 | Train Accuracy: 0.855 | Test Loss: 0.485 | Test Accuracy: 0.831\n"
     ]
    },
    {
     "name": "stderr",
     "output_type": "stream",
     "text": [
      "468it [00:00, 981.40it/s] \n",
      "79it [00:00, 1492.06it/s]\n"
     ]
    },
    {
     "name": "stdout",
     "output_type": "stream",
     "text": [
      "Epoch: 097/100 | Train Loss: 0.420 | Train Accuracy: 0.855 | Test Loss: 0.491 | Test Accuracy: 0.827\n"
     ]
    },
    {
     "name": "stderr",
     "output_type": "stream",
     "text": [
      "468it [00:00, 980.43it/s]\n",
      "79it [00:00, 1723.72it/s]\n"
     ]
    },
    {
     "name": "stdout",
     "output_type": "stream",
     "text": [
      "Epoch: 098/100 | Train Loss: 0.419 | Train Accuracy: 0.854 | Test Loss: 0.493 | Test Accuracy: 0.829\n"
     ]
    },
    {
     "name": "stderr",
     "output_type": "stream",
     "text": [
      "468it [00:00, 975.57it/s] \n",
      "79it [00:00, 1662.55it/s]\n"
     ]
    },
    {
     "name": "stdout",
     "output_type": "stream",
     "text": [
      "Epoch: 099/100 | Train Loss: 0.420 | Train Accuracy: 0.855 | Test Loss: 0.485 | Test Accuracy: 0.830\n"
     ]
    },
    {
     "name": "stderr",
     "output_type": "stream",
     "text": [
      "468it [00:00, 960.22it/s]\n",
      "79it [00:00, 1720.16it/s]"
     ]
    },
    {
     "name": "stdout",
     "output_type": "stream",
     "text": [
      "Epoch: 100/100 | Train Loss: 0.418 | Train Accuracy: 0.856 | Test Loss: 0.489 | Test Accuracy: 0.828\n"
     ]
    },
    {
     "name": "stderr",
     "output_type": "stream",
     "text": [
      "\n"
     ]
    }
   ],
   "source": [
    "set_seed(0)\n",
    "args = Args()\n",
    "\n",
    "model = DNN(args.input_size, args.output_size, args.width, args.depth)\n",
    "\n",
    "optimizer = optim.SGD(model.parameters(), lr=0.01, momentum=0)\n",
    "criterion = nn.CrossEntropyLoss()\n",
    "\n",
    "trainer = Trainer((train_data, test_data), model, optimizer, criterion, args)\n",
    "trainer.train(args.max_epochs)"
   ]
  },
  {
   "cell_type": "code",
   "execution_count": null,
   "metadata": {},
   "outputs": [],
   "source": []
  }
 ],
 "metadata": {
  "kernelspec": {
   "display_name": "torch",
   "language": "python",
   "name": "python3"
  },
  "language_info": {
   "codemirror_mode": {
    "name": "ipython",
    "version": 3
   },
   "file_extension": ".py",
   "mimetype": "text/x-python",
   "name": "python",
   "nbconvert_exporter": "python",
   "pygments_lexer": "ipython3",
   "version": "3.8.17"
  }
 },
 "nbformat": 4,
 "nbformat_minor": 2
}
